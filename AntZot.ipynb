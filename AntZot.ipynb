{
 "cells": [
  {
   "cell_type": "code",
   "execution_count": 21,
   "id": "7a4cae26-eadb-4281-b298-69dcf504c26f",
   "metadata": {},
   "outputs": [],
   "source": [
    "from sklearn.metrics import roc_auc_score\n",
    "from catboost import CatBoostClassifier\n",
    "import pandas as pd\n",
    "import numpy as np"
   ]
  },
  {
   "cell_type": "code",
   "execution_count": 22,
   "id": "7fcea76d-a84b-4462-9a7e-d6e23920f74d",
   "metadata": {},
   "outputs": [],
   "source": [
    "fch = pd.read_csv(\"data/FINAL_FEATURES_TRAINTEST.tsv\",sep='\\t')\n",
    "trg = pd.read_csv(\"data/FINAL_TARGETS_DATES_TRAINTEST.tsv\",sep=\"\\t\")"
   ]
  },
  {
   "cell_type": "code",
   "execution_count": null,
   "id": "8de519cb-5b8a-479a-9d2d-06c1b83c6a58",
   "metadata": {},
   "outputs": [],
   "source": [
    "new_fch_trg = pd.merge(trg, fch, on=\"CLIENT_ID\",how=\"left\")"
   ]
  },
  {
   "cell_type": "code",
   "execution_count": null,
   "id": "9de8f1e2-0427-43fd-b6f5-f891eba989db",
   "metadata": {},
   "outputs": [],
   "source": [
    "new_fch_trg.drop([\"CLIENT_ID\"],axis=1,inplace=True)\n",
    "new_fch_trg.drop([\"RETRO_DT\"],axis=1,inplace=True)"
   ]
  },
  {
   "cell_type": "code",
   "execution_count": null,
   "id": "d48a55be-9243-4d9a-ae5b-76c37981317d",
   "metadata": {},
   "outputs": [],
   "source": [
    "new_fch_trg.fillna(0)\n",
    "new_test = new_fch_trg[(new_fch_trg[\"TARGET\"]=='test')]\n",
    "new_fch_trg.drop(new_fch_trg.index[(new_fch_trg[\"TARGET\"]=='test')],axis=0,inplace=True)\n",
    "new_fch = new_fch_trg.drop([\"TARGET\"],axis=1)\n",
    "new_trg = new_fch_trg[\"TARGET\"]"
   ]
  },
  {
   "cell_type": "code",
   "execution_count": 27,
   "id": "6c51f6af-85c3-4a43-a45b-f0dfa1aea2c6",
   "metadata": {},
   "outputs": [],
   "source": [
    "cat = CatBoostClassifier()\n",
    "#cat.fit(X=new_fch,y=new_trg,verbose=False)"
   ]
  },
  {
   "cell_type": "code",
   "execution_count": null,
   "id": "792df997-0926-4835-8472-7b990eff98c5",
   "metadata": {},
   "outputs": [],
   "source": [
    "new_test_fch = new_test.drop([\"TARGET\"],axis=1)\n",
    "new_test_fch"
   ]
  },
  {
   "cell_type": "code",
   "execution_count": null,
   "id": "cc10240c-a712-48a6-badd-5a4eb4696054",
   "metadata": {},
   "outputs": [],
   "source": [
    "pred = cat.predict_proba(new_fch,verbose=False)\n",
    "pred[::1]"
   ]
  },
  {
   "cell_type": "code",
   "execution_count": null,
   "id": "1ea06398-7af1-4e5a-abac-7826c517f001",
   "metadata": {},
   "outputs": [],
   "source": [
    "roc_auc_score(new_trg,pred[:, 1])"
   ]
  },
  {
   "cell_type": "code",
   "execution_count": 24,
   "id": "aca78389-0c7d-465c-96b7-2c55e429b647",
   "metadata": {},
   "outputs": [],
   "source": [
    "join_fch_trg = pd.merge(trg, fch, on=\"CLIENT_ID\",how=\"left\")\n",
    "join_fch_trg.drop([\"CLIENT_ID\"],axis=1,inplace=True)\n",
    "join_fch_trg.drop([\"RETRO_DT\"],axis=1,inplace=True)\n",
    "join_fch_trg.drop(join_fch_trg.index[(join_fch_trg[\"TARGET\"]=='test')],axis=0,inplace=True)\n",
    "witout_null = join_fch_trg.dropna(axis=0)\n",
    "with_null = join_fch_trg.fillna(0)\n",
    "#join_fch_trg = join_fch_trg.reset_index()\n",
    "mask = np.random.choice(join_fch_trg.shape[0], size=join_fch_trg.shape[0], replace=False)\n",
    "ratio = int(0.8 * len(mask))\n",
    "train_dataset, val_dataset = join_fch_trg.iloc[list(mask[:ratio])], join_fch_trg.iloc[list(mask[ratio:])]"
   ]
  },
  {
   "cell_type": "markdown",
   "id": "c4763e77-e2ee-429f-932e-bea165dad962",
   "metadata": {},
   "source": [
    "### С нулями"
   ]
  },
  {
   "cell_type": "code",
   "execution_count": 34,
   "id": "7d00b82b-4aae-4c6a-8e11-bc1c89e6ad74",
   "metadata": {},
   "outputs": [
    {
     "data": {
      "text/plain": [
       "<catboost.core.CatBoostClassifier at 0x7f8a5f3e83d0>"
      ]
     },
     "execution_count": 34,
     "metadata": {},
     "output_type": "execute_result"
    }
   ],
   "source": [
    "mask = np.random.choice(with_null.shape[0], size=with_null.shape[0], replace=False)\n",
    "ratio = int(0.8 * len(mask))\n",
    "train_null_dataset, val_null_dataset = with_null.iloc[list(mask[:ratio])], with_null.iloc[list(mask[ratio:])]\n",
    "train_null_fch = train_null_dataset.drop([\"TARGET\"],axis=1)\n",
    "train_null_trg = train_null_dataset[\"TARGET\"]\n",
    "val_null_fch = val_null_dataset.drop([\"TARGET\"],axis=1)\n",
    "val_null_trg = val_null_dataset[\"TARGET\"]\n",
    "mask = np.random.choice(witout_null.shape[0], size=witout_null.shape[0], replace=False)\n",
    "ratio = int(0.8 * len(mask))\n",
    "train_wnull_dataset, val_wnull_dataset = witout_null.iloc[list(mask[:ratio])], witout_null.iloc[list(mask[ratio:])]\n",
    "train_wnull_fch = train_wnull_dataset.drop([\"TARGET\"],axis=1)\n",
    "train_wnull_trg = train_wnull_dataset[\"TARGET\"]\n",
    "val_wnull_fch = val_wnull_dataset.drop([\"TARGET\"],axis=1)\n",
    "val_wnull_trg = val_wnull_dataset[\"TARGET\"]\n",
    "\n",
    "cat.fit(X=train_null_fch,y=train_null_trg,verbose=False)\n",
    "cat.fit(X=train_wnull_fch,y=train_wnull_trg,verbose=False)\n"
   ]
  },
  {
   "cell_type": "code",
   "execution_count": 37,
   "id": "584a99ea-369f-4854-b290-c3aa653e96a0",
   "metadata": {},
   "outputs": [
    {
     "data": {
      "text/plain": [
       "0.6743723386059519"
      ]
     },
     "execution_count": 37,
     "metadata": {},
     "output_type": "execute_result"
    }
   ],
   "source": [
    "new_prd = cat.predict_proba(val_null_fch,verbose=False)\n",
    "roc_auc_score(val_null_trg,new_prd[:,1])"
   ]
  },
  {
   "cell_type": "code",
   "execution_count": null,
   "id": "f9e8a581-fd79-4da1-8697-ac955d5983c8",
   "metadata": {},
   "outputs": [],
   "source": [
    "train_fch = train_dataset.drop([\"TARGET\"],axis=1)\n",
    "train_trg = train_dataset[\"TARGET\"]\n",
    "cat.fit(X=train_fch,y=train_trg,verbose=False)"
   ]
  },
  {
   "cell_type": "code",
   "execution_count": 31,
   "id": "ec7ba544-3024-4f03-ad1b-1efab1e66d17",
   "metadata": {},
   "outputs": [],
   "source": [
    "val_fch = val_dataset.drop([\"TARGET\"],axis=1)\n",
    "val_trg = val_dataset[\"TARGET\"]\n",
    "new_prd = cat.predict_proba(val_fch,verbose=False)"
   ]
  },
  {
   "cell_type": "code",
   "execution_count": 32,
   "id": "d23d29cb-317e-4bbe-9103-c85f5cf8f351",
   "metadata": {},
   "outputs": [
    {
     "data": {
      "text/plain": [
       "0.6949126664205015"
      ]
     },
     "execution_count": 32,
     "metadata": {},
     "output_type": "execute_result"
    }
   ],
   "source": [
    "roc_auc_score(val_trg,new_prd[:,1])"
   ]
  },
  {
   "cell_type": "code",
   "execution_count": null,
   "id": "3aa2d88e-43f3-4b9c-bbfa-8ea43df428a9",
   "metadata": {},
   "outputs": [],
   "source": []
  },
  {
   "cell_type": "code",
   "execution_count": null,
   "id": "f9e63c38-81f6-4c00-ae34-a055b849add7",
   "metadata": {},
   "outputs": [],
   "source": []
  },
  {
   "cell_type": "code",
   "execution_count": null,
   "id": "167f3bc5-9f87-41bf-9c1c-1e66e1032893",
   "metadata": {},
   "outputs": [],
   "source": [
    "submission = pd.read_csv(\"sample_submission.csv\")"
   ]
  },
  {
   "cell_type": "code",
   "execution_count": null,
   "id": "71f2f03a-45b9-4d39-9682-a32d176c6830",
   "metadata": {},
   "outputs": [],
   "source": [
    "features = pd.merge(submission, fch, on=\"CLIENT_ID\", how=\"left\")\n",
    "X = features.drop(\"CLIENT_ID\", axis=1)\n",
    "submission[\"TARGET\"] = cat.predict_proba(X)[:, 1]\n",
    "submission"
   ]
  },
  {
   "cell_type": "code",
   "execution_count": null,
   "id": "5548dc5c-ad77-4000-80fe-2181fbea6a7e",
   "metadata": {},
   "outputs": [],
   "source": []
  },
  {
   "cell_type": "code",
   "execution_count": null,
   "id": "f95c0d39-9163-4c32-a55e-170e2ce60944",
   "metadata": {},
   "outputs": [],
   "source": [
    "submission.to_csv(\"submission.csv\", index=False)"
   ]
  },
  {
   "cell_type": "code",
   "execution_count": null,
   "id": "e8797958-f4ee-4b71-9d76-47c8a43a9a5b",
   "metadata": {},
   "outputs": [],
   "source": [
    "pd.merge(submission, cat.predict_proba(X)[:, 1], on=\"CLIENT_ID\")"
   ]
  }
 ],
 "metadata": {
  "kernelspec": {
   "display_name": "Python 3 (ipykernel)",
   "language": "python",
   "name": "python3"
  },
  "language_info": {
   "codemirror_mode": {
    "name": "ipython",
    "version": 3
   },
   "file_extension": ".py",
   "mimetype": "text/x-python",
   "name": "python",
   "nbconvert_exporter": "python",
   "pygments_lexer": "ipython3",
   "version": "3.9.7"
  }
 },
 "nbformat": 4,
 "nbformat_minor": 5
}
