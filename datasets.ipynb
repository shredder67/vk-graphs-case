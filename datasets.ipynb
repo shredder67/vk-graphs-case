{
 "cells": [
  {
   "cell_type": "code",
   "execution_count": null,
   "id": "0ae60b06-161e-4855-bb40-7668c430b283",
   "metadata": {},
   "outputs": [],
   "source": [
    "! wget https://ai-data.obs.ru-moscow-1.hc.sbercloud.ru/МО_на_графах.zip -P ./data"
   ]
  },
  {
   "cell_type": "code",
   "execution_count": null,
   "id": "82179dc1-9616-4c5e-8c45-d2828896544d",
   "metadata": {},
   "outputs": [],
   "source": [
    "! unzip data/МО_на_графах.zip -d ./data"
   ]
  },
  {
   "cell_type": "code",
   "execution_count": null,
   "id": "816b4690-ea9e-4bb4-bfbc-e4e36b9e1dbf",
   "metadata": {},
   "outputs": [],
   "source": [
    "!unzip data/ВК/hackathon_mos_sep2022.zip -d ./data"
   ]
  },
  {
   "cell_type": "code",
   "execution_count": null,
   "id": "9760baed-8ec9-4fea-b172-18ae4680112e",
   "metadata": {},
   "outputs": [],
   "source": [
    "vars =!ls data"
   ]
  },
  {
   "cell_type": "code",
   "execution_count": null,
   "id": "c8c5913b-7abd-4f8a-afa2-e8a2029b3ce7",
   "metadata": {},
   "outputs": [],
   "source": [
    "for i in vars:\n",
    "    name = i[::-8]\n",
    "    print(i)\n",
    "    "
   ]
  },
  {
   "cell_type": "code",
   "execution_count": 94,
   "id": "dbee0fc0-9154-48b1-b686-5d571e5c40ca",
   "metadata": {},
   "outputs": [
    {
     "data": {
      "text/plain": [
       "<function vars>"
      ]
     },
     "execution_count": 94,
     "metadata": {},
     "output_type": "execute_result"
    }
   ],
   "source": [
    "vars"
   ]
  },
  {
   "cell_type": "code",
   "execution_count": 3,
   "id": "b7421f71-a2a3-48f7-aec5-a19384f470b4",
   "metadata": {},
   "outputs": [],
   "source": [
    "import pandas as pd\n",
    "import plotly as pl\n",
    "import numpy as np\n",
    "import json\n",
    "from collections import Counter"
   ]
  },
  {
   "cell_type": "code",
   "execution_count": 6,
   "id": "065c569a-d46f-4727-a3e8-e1558f7ad0fe",
   "metadata": {},
   "outputs": [],
   "source": [
    "total_size = 0\n",
    "batch = 10_000\n",
    "total_pair_seq_mat = Counter()\n",
    "dt = None\n",
    "for f in pd.read_csv(\"data/FINAL_SEQUENCES_MATRIX.csv\", sep='\\t', chunksize=batch):\n",
    "    total_size += f.shape[0] \n",
    "    f[\"s\"] = f[\"SESSIONS_SEQUENCES\"].apply(lambda x: json.loads(x.replace(\"'\", '\"')))\n",
    "    #Очистка от данных с 1 состоянием и меньше\n",
    "    f = f.drop(f.index[[bl<=1 for bl in [len(cn) for cn in f['s']]]],axis=0)\n",
    "    #подсчет пар векторов переходов \n",
    "    for seq_list in f[\"s\"]:\n",
    "        for seq_ind in range(len(seq_list)-1):\n",
    "            total_pair_seq_mat[(seq_list[seq_ind],seq_list[seq_ind+1])] +=1\n",
    "    dt = f"
   ]
  },
  {
   "cell_type": "code",
   "execution_count": 8,
   "id": "e9b11518-e91c-4a7c-9340-318149419880",
   "metadata": {},
   "outputs": [
    {
     "data": {
      "text/plain": [
       "(array([5.547255e+06, 8.400000e+01, 1.900000e+01, 8.000000e+00,\n",
       "        9.000000e+00, 4.000000e+00, 4.000000e+00, 4.000000e+00,\n",
       "        4.000000e+00, 4.000000e+00, 1.000000e+00, 2.000000e+00,\n",
       "        0.000000e+00, 0.000000e+00, 0.000000e+00, 0.000000e+00,\n",
       "        1.000000e+00, 0.000000e+00, 0.000000e+00, 0.000000e+00,\n",
       "        0.000000e+00, 0.000000e+00, 2.000000e+00, 0.000000e+00,\n",
       "        0.000000e+00, 0.000000e+00, 0.000000e+00, 0.000000e+00,\n",
       "        0.000000e+00, 0.000000e+00, 0.000000e+00, 0.000000e+00,\n",
       "        1.000000e+00, 0.000000e+00, 1.000000e+00, 0.000000e+00,\n",
       "        0.000000e+00, 0.000000e+00, 0.000000e+00, 0.000000e+00,\n",
       "        0.000000e+00, 0.000000e+00, 0.000000e+00, 0.000000e+00,\n",
       "        1.000000e+00, 1.000000e+00, 0.000000e+00, 0.000000e+00,\n",
       "        0.000000e+00, 0.000000e+00, 0.000000e+00, 0.000000e+00,\n",
       "        0.000000e+00, 0.000000e+00, 0.000000e+00, 0.000000e+00,\n",
       "        0.000000e+00, 0.000000e+00, 0.000000e+00, 0.000000e+00,\n",
       "        0.000000e+00, 0.000000e+00, 0.000000e+00, 0.000000e+00,\n",
       "        0.000000e+00, 0.000000e+00, 0.000000e+00, 0.000000e+00,\n",
       "        0.000000e+00, 0.000000e+00, 0.000000e+00, 0.000000e+00,\n",
       "        0.000000e+00, 0.000000e+00, 0.000000e+00, 0.000000e+00,\n",
       "        0.000000e+00, 0.000000e+00, 0.000000e+00, 0.000000e+00,\n",
       "        0.000000e+00, 0.000000e+00, 0.000000e+00, 0.000000e+00,\n",
       "        0.000000e+00, 0.000000e+00, 0.000000e+00, 0.000000e+00,\n",
       "        0.000000e+00, 0.000000e+00, 0.000000e+00, 0.000000e+00,\n",
       "        0.000000e+00, 0.000000e+00, 0.000000e+00, 0.000000e+00,\n",
       "        0.000000e+00, 1.000000e+00, 1.000000e+00, 2.000000e+00]),\n",
       " array([1.0000000e+00, 9.8648300e+03, 1.9728660e+04, 2.9592490e+04,\n",
       "        3.9456320e+04, 4.9320150e+04, 5.9183980e+04, 6.9047810e+04,\n",
       "        7.8911640e+04, 8.8775470e+04, 9.8639300e+04, 1.0850313e+05,\n",
       "        1.1836696e+05, 1.2823079e+05, 1.3809462e+05, 1.4795845e+05,\n",
       "        1.5782228e+05, 1.6768611e+05, 1.7754994e+05, 1.8741377e+05,\n",
       "        1.9727760e+05, 2.0714143e+05, 2.1700526e+05, 2.2686909e+05,\n",
       "        2.3673292e+05, 2.4659675e+05, 2.5646058e+05, 2.6632441e+05,\n",
       "        2.7618824e+05, 2.8605207e+05, 2.9591590e+05, 3.0577973e+05,\n",
       "        3.1564356e+05, 3.2550739e+05, 3.3537122e+05, 3.4523505e+05,\n",
       "        3.5509888e+05, 3.6496271e+05, 3.7482654e+05, 3.8469037e+05,\n",
       "        3.9455420e+05, 4.0441803e+05, 4.1428186e+05, 4.2414569e+05,\n",
       "        4.3400952e+05, 4.4387335e+05, 4.5373718e+05, 4.6360101e+05,\n",
       "        4.7346484e+05, 4.8332867e+05, 4.9319250e+05, 5.0305633e+05,\n",
       "        5.1292016e+05, 5.2278399e+05, 5.3264782e+05, 5.4251165e+05,\n",
       "        5.5237548e+05, 5.6223931e+05, 5.7210314e+05, 5.8196697e+05,\n",
       "        5.9183080e+05, 6.0169463e+05, 6.1155846e+05, 6.2142229e+05,\n",
       "        6.3128612e+05, 6.4114995e+05, 6.5101378e+05, 6.6087761e+05,\n",
       "        6.7074144e+05, 6.8060527e+05, 6.9046910e+05, 7.0033293e+05,\n",
       "        7.1019676e+05, 7.2006059e+05, 7.2992442e+05, 7.3978825e+05,\n",
       "        7.4965208e+05, 7.5951591e+05, 7.6937974e+05, 7.7924357e+05,\n",
       "        7.8910740e+05, 7.9897123e+05, 8.0883506e+05, 8.1869889e+05,\n",
       "        8.2856272e+05, 8.3842655e+05, 8.4829038e+05, 8.5815421e+05,\n",
       "        8.6801804e+05, 8.7788187e+05, 8.8774570e+05, 8.9760953e+05,\n",
       "        9.0747336e+05, 9.1733719e+05, 9.2720102e+05, 9.3706485e+05,\n",
       "        9.4692868e+05, 9.5679251e+05, 9.6665634e+05, 9.7652017e+05,\n",
       "        9.8638400e+05]),\n",
       " <BarContainer object of 100 artists>)"
      ]
     },
     "execution_count": 8,
     "metadata": {},
     "output_type": "execute_result"
    },
    {
     "data": {
      "image/png": "[encoded data removed]",
      "text/plain": [
       "<Figure size 640x480 with 1 Axes>"
      ]
     },
     "metadata": {},
     "output_type": "display_data"
    }
   ],
   "source": [
    "import matplotlib.pyplot as plt\n",
    "fig, ax = plt.subplots()\n",
    "np_values=np.array(list(total_pair_seq_mat.values()))\n",
    "np_values = np_values[np_values < 1e6]\n",
    "plt.hist(np_values,bins=100,log=True)"
   ]
  },
  {
   "cell_type": "code",
   "execution_count": 7,
   "id": "f676b460-358c-4610-81fb-6c4faa605106",
   "metadata": {},
   "outputs": [],
   "source": [
    "total_size = 0\n",
    "batch = 10_000\n",
    "total_pair_seq = Counter()\n",
    "dt = None\n",
    "for f in pd.read_csv(\"data/FINAL_ALL_SEQUENCES_TRAINTEST.tsv\", sep='\\t', chunksize=batch):\n",
    "    total_size += f.shape[0]\n",
    "    \n",
    "    \n",
    "    f[\"s\"] = f[\"SEQUENCE\"].apply(lambda x: json.loads(x.replace(\"'\", '\"')))\n",
    "    f = f.drop(f.index[[bl<=1 for bl in [len(cn) for cn in f['s']]]],axis=0)\n",
    "    for seq_list in f[\"s\"]:\n",
    "        for seq_ind in range(len(seq_list)-1):\n",
    "            total_pair_seq[(seq_list[seq_ind],seq_list[seq_ind+1])] +=1\n",
    "    dt = f\n",
    "# total_sequences = total_seq"
   ]
  },
  {
   "cell_type": "code",
   "execution_count": null,
   "id": "3990b85a-e514-461f-89dc-a7dec5f5ee59",
   "metadata": {},
   "outputs": [],
   "source": [
    "len(total_pair_seq)"
   ]
  },
  {
   "cell_type": "code",
   "execution_count": null,
   "id": "f6745e52-eb30-439c-9f7b-b81711960ade",
   "metadata": {},
   "outputs": [],
   "source": [
    "len(total_pair_seq_mat)"
   ]
  },
  {
   "cell_type": "code",
   "execution_count": 8,
   "id": "4c7f62bf-6ae1-4e1e-b0a0-8a9dc554519b",
   "metadata": {},
   "outputs": [],
   "source": [
    "no_mat_dt = pd.DataFrame({\"SEQ\": list(total_pair_seq.keys()),\n",
    "              \"CNT\": list(total_pair_seq.values())})\n",
    "mat_dt = pd.DataFrame({\"SEQ\": list(total_pair_seq_mat.keys()),\n",
    "              \"CNT\": list(total_pair_seq_mat.values())})\n",
    "full_dt_seq = no_mat_dt.merge(mat_dt, on=\"SEQ\", how='left')"
   ]
  },
  {
   "cell_type": "code",
   "execution_count": 9,
   "id": "5ad53798-c4c2-41b9-af63-4c7e2d1f8956",
   "metadata": {},
   "outputs": [],
   "source": [
    "full_dt_seq = full_dt_seq.fillna(0)"
   ]
  },
  {
   "cell_type": "code",
   "execution_count": 15,
   "id": "6cf6a610-5eb3-4078-9262-3c2b910d3d3f",
   "metadata": {},
   "outputs": [],
   "source": [
    "from pathlib import Path  \n",
    "filepath = Path('data/seq_pair_count.csv')  \n",
    "filepath.parent.mkdir(parents=True, exist_ok=True)  \n",
    "full_dt_seq.rename(columns={\"CNT_x\":\"CNT_SEQ\",\"CNT_y\":\"CNT_SEQ_WITH_MAT\"},inplace = True)\n",
    "full_dt_seq.to_csv(filepath)"
   ]
  },
  {
   "cell_type": "code",
   "execution_count": 14,
   "id": "be935bfe-6960-41e4-aa27-e53ccef5c00f",
   "metadata": {},
   "outputs": [
    {
     "data": {
      "text/plain": [
       "array([[1.        , 0.94740637],\n",
       "       [0.94740637, 1.        ]])"
      ]
     },
     "execution_count": 14,
     "metadata": {},
     "output_type": "execute_result"
    }
   ],
   "source": [
    "np.corrcoef(full_dt_seq[\"CNT_SEQ\"],full_dt_seq[\"CNT_SEQ_WITH_MAT\"])"
   ]
  },
  {
   "cell_type": "code",
   "execution_count": null,
   "id": "a3c65582-7eb8-4e3b-96fd-55d2e9ea8426",
   "metadata": {},
   "outputs": [],
   "source": [
    "full_dt_seq.head()"
   ]
  },
  {
   "cell_type": "markdown",
   "id": "467002e3-806a-419e-b808-23794d546f8a",
   "metadata": {},
   "source": [
    "### зависимость благотвор от кол-ва переходов"
   ]
  },
  {
   "cell_type": "code",
   "execution_count": 4,
   "id": "b51ce0b6-c6ab-4956-b667-f05a9ca0293d",
   "metadata": {},
   "outputs": [],
   "source": [
    "seq_right = pd.read_csv(\"data/FINAL_ALL_SEQUENCES_TRAINTEST.tsv\", sep='\\t')\n",
    "trg_left = pd.read_csv(\"data/FINAL_TARGETS_DATES_TRAINTEST.tsv\", sep='\\t')\n",
    "    "
   ]
  },
  {
   "cell_type": "code",
   "execution_count": 5,
   "id": "bed91a4f-b430-4bb7-b2b4-01ff01e37cb8",
   "metadata": {},
   "outputs": [
    {
     "data": {
      "text/html": [
       "<div>\n",
       "<style scoped>\n",
       "    .dataframe tbody tr th:only-of-type {\n",
       "        vertical-align: middle;\n",
       "    }\n",
       "\n",
       "    .dataframe tbody tr th {\n",
       "        vertical-align: top;\n",
       "    }\n",
       "\n",
       "    .dataframe thead th {\n",
       "        text-align: right;\n",
       "    }\n",
       "</style>\n",
       "<table border=\"1\" class=\"dataframe\">\n",
       "  <thead>\n",
       "    <tr style=\"text-align: right;\">\n",
       "      <th></th>\n",
       "      <th>CLIENT_ID</th>\n",
       "      <th>RETRO_DT</th>\n",
       "      <th>TARGET</th>\n",
       "      <th>SEQUENCE</th>\n",
       "      <th>s</th>\n",
       "    </tr>\n",
       "  </thead>\n",
       "  <tbody>\n",
       "    <tr>\n",
       "      <th>0</th>\n",
       "      <td>1011725</td>\n",
       "      <td>20210501</td>\n",
       "      <td>0</td>\n",
       "      <td>['358f1de5feb4209fae852fb0a61de5d8', '6760174c...</td>\n",
       "      <td>[358f1de5feb4209fae852fb0a61de5d8, 6760174c457...</td>\n",
       "    </tr>\n",
       "    <tr>\n",
       "      <th>1</th>\n",
       "      <td>1018784</td>\n",
       "      <td>20210501</td>\n",
       "      <td>1</td>\n",
       "      <td>['9a7670be67a118ddd4b30f5cdd3b035e', 'e5945238...</td>\n",
       "      <td>[9a7670be67a118ddd4b30f5cdd3b035e, e5945238cc6...</td>\n",
       "    </tr>\n",
       "    <tr>\n",
       "      <th>2</th>\n",
       "      <td>1021812</td>\n",
       "      <td>20210501</td>\n",
       "      <td>0</td>\n",
       "      <td>['e65bd9b13ec4a97ac7b912f37c3e36d4', '9a7670be...</td>\n",
       "      <td>[e65bd9b13ec4a97ac7b912f37c3e36d4, 9a7670be67a...</td>\n",
       "    </tr>\n",
       "    <tr>\n",
       "      <th>3</th>\n",
       "      <td>1024003</td>\n",
       "      <td>20210501</td>\n",
       "      <td>0</td>\n",
       "      <td>['489fed35d8b91d95691efab0215e46a8', '9b4b7f50...</td>\n",
       "      <td>[489fed35d8b91d95691efab0215e46a8, 9b4b7f50905...</td>\n",
       "    </tr>\n",
       "    <tr>\n",
       "      <th>5</th>\n",
       "      <td>1026390</td>\n",
       "      <td>20210501</td>\n",
       "      <td>1</td>\n",
       "      <td>['833f134928f303b5531209ff372ab4ce', 'b496d19e...</td>\n",
       "      <td>[833f134928f303b5531209ff372ab4ce, b496d19eb25...</td>\n",
       "    </tr>\n",
       "  </tbody>\n",
       "</table>\n",
       "</div>"
      ],
      "text/plain": [
       "   CLIENT_ID  RETRO_DT TARGET  \\\n",
       "0    1011725  20210501      0   \n",
       "1    1018784  20210501      1   \n",
       "2    1021812  20210501      0   \n",
       "3    1024003  20210501      0   \n",
       "5    1026390  20210501      1   \n",
       "\n",
       "                                            SEQUENCE  \\\n",
       "0  ['358f1de5feb4209fae852fb0a61de5d8', '6760174c...   \n",
       "1  ['9a7670be67a118ddd4b30f5cdd3b035e', 'e5945238...   \n",
       "2  ['e65bd9b13ec4a97ac7b912f37c3e36d4', '9a7670be...   \n",
       "3  ['489fed35d8b91d95691efab0215e46a8', '9b4b7f50...   \n",
       "5  ['833f134928f303b5531209ff372ab4ce', 'b496d19e...   \n",
       "\n",
       "                                                   s  \n",
       "0  [358f1de5feb4209fae852fb0a61de5d8, 6760174c457...  \n",
       "1  [9a7670be67a118ddd4b30f5cdd3b035e, e5945238cc6...  \n",
       "2  [e65bd9b13ec4a97ac7b912f37c3e36d4, 9a7670be67a...  \n",
       "3  [489fed35d8b91d95691efab0215e46a8, 9b4b7f50905...  \n",
       "5  [833f134928f303b5531209ff372ab4ce, b496d19eb25...  "
      ]
     },
     "execution_count": 5,
     "metadata": {},
     "output_type": "execute_result"
    }
   ],
   "source": [
    "seq_with_targets = trg_left.merge(seq_right, on=\"CLIENT_ID\", how='left')\n",
    "seq_with_targets = seq_with_targets.fillna('[]')\n",
    "seq_with_targets[\"s\"] = seq_with_targets[\"SEQUENCE\"].apply(lambda x: json.loads(x.replace(\"'\", '\"')))\n",
    "seq_with_targets = seq_with_targets.drop(seq_with_targets.index[[bl<=1 for bl in [len(cn) for cn in seq_with_targets['s']]]],axis=0)\n",
    "seq_with_targets.head()"
   ]
  },
  {
   "cell_type": "code",
   "execution_count": 6,
   "id": "6054ec2e-7a6d-4ee8-b11d-d83c972acb20",
   "metadata": {},
   "outputs": [
    {
     "data": {
      "text/html": [
       "<div>\n",
       "<style scoped>\n",
       "    .dataframe tbody tr th:only-of-type {\n",
       "        vertical-align: middle;\n",
       "    }\n",
       "\n",
       "    .dataframe tbody tr th {\n",
       "        vertical-align: top;\n",
       "    }\n",
       "\n",
       "    .dataframe thead th {\n",
       "        text-align: right;\n",
       "    }\n",
       "</style>\n",
       "<table border=\"1\" class=\"dataframe\">\n",
       "  <thead>\n",
       "    <tr style=\"text-align: right;\">\n",
       "      <th></th>\n",
       "      <th>CLIENT_ID</th>\n",
       "      <th>RETRO_DT</th>\n",
       "      <th>TARGET</th>\n",
       "      <th>SEQUENCE</th>\n",
       "      <th>s</th>\n",
       "      <th>s_pair</th>\n",
       "    </tr>\n",
       "  </thead>\n",
       "  <tbody>\n",
       "    <tr>\n",
       "      <th>0</th>\n",
       "      <td>1011725</td>\n",
       "      <td>20210501</td>\n",
       "      <td>0</td>\n",
       "      <td>['358f1de5feb4209fae852fb0a61de5d8', '6760174c...</td>\n",
       "      <td>[358f1de5feb4209fae852fb0a61de5d8, 6760174c457...</td>\n",
       "      <td>[(358f1de5feb4209fae852fb0a61de5d8, 6760174c45...</td>\n",
       "    </tr>\n",
       "    <tr>\n",
       "      <th>1</th>\n",
       "      <td>1018784</td>\n",
       "      <td>20210501</td>\n",
       "      <td>1</td>\n",
       "      <td>['9a7670be67a118ddd4b30f5cdd3b035e', 'e5945238...</td>\n",
       "      <td>[9a7670be67a118ddd4b30f5cdd3b035e, e5945238cc6...</td>\n",
       "      <td>[(9a7670be67a118ddd4b30f5cdd3b035e, e5945238cc...</td>\n",
       "    </tr>\n",
       "    <tr>\n",
       "      <th>2</th>\n",
       "      <td>1021812</td>\n",
       "      <td>20210501</td>\n",
       "      <td>0</td>\n",
       "      <td>['e65bd9b13ec4a97ac7b912f37c3e36d4', '9a7670be...</td>\n",
       "      <td>[e65bd9b13ec4a97ac7b912f37c3e36d4, 9a7670be67a...</td>\n",
       "      <td>[(e65bd9b13ec4a97ac7b912f37c3e36d4, 9a7670be67...</td>\n",
       "    </tr>\n",
       "    <tr>\n",
       "      <th>3</th>\n",
       "      <td>1024003</td>\n",
       "      <td>20210501</td>\n",
       "      <td>0</td>\n",
       "      <td>['489fed35d8b91d95691efab0215e46a8', '9b4b7f50...</td>\n",
       "      <td>[489fed35d8b91d95691efab0215e46a8, 9b4b7f50905...</td>\n",
       "      <td>[(489fed35d8b91d95691efab0215e46a8, 9b4b7f5090...</td>\n",
       "    </tr>\n",
       "    <tr>\n",
       "      <th>5</th>\n",
       "      <td>1026390</td>\n",
       "      <td>20210501</td>\n",
       "      <td>1</td>\n",
       "      <td>['833f134928f303b5531209ff372ab4ce', 'b496d19e...</td>\n",
       "      <td>[833f134928f303b5531209ff372ab4ce, b496d19eb25...</td>\n",
       "      <td>[(833f134928f303b5531209ff372ab4ce, b496d19eb2...</td>\n",
       "    </tr>\n",
       "  </tbody>\n",
       "</table>\n",
       "</div>"
      ],
      "text/plain": [
       "   CLIENT_ID  RETRO_DT TARGET  \\\n",
       "0    1011725  20210501      0   \n",
       "1    1018784  20210501      1   \n",
       "2    1021812  20210501      0   \n",
       "3    1024003  20210501      0   \n",
       "5    1026390  20210501      1   \n",
       "\n",
       "                                            SEQUENCE  \\\n",
       "0  ['358f1de5feb4209fae852fb0a61de5d8', '6760174c...   \n",
       "1  ['9a7670be67a118ddd4b30f5cdd3b035e', 'e5945238...   \n",
       "2  ['e65bd9b13ec4a97ac7b912f37c3e36d4', '9a7670be...   \n",
       "3  ['489fed35d8b91d95691efab0215e46a8', '9b4b7f50...   \n",
       "5  ['833f134928f303b5531209ff372ab4ce', 'b496d19e...   \n",
       "\n",
       "                                                   s  \\\n",
       "0  [358f1de5feb4209fae852fb0a61de5d8, 6760174c457...   \n",
       "1  [9a7670be67a118ddd4b30f5cdd3b035e, e5945238cc6...   \n",
       "2  [e65bd9b13ec4a97ac7b912f37c3e36d4, 9a7670be67a...   \n",
       "3  [489fed35d8b91d95691efab0215e46a8, 9b4b7f50905...   \n",
       "5  [833f134928f303b5531209ff372ab4ce, b496d19eb25...   \n",
       "\n",
       "                                              s_pair  \n",
       "0  [(358f1de5feb4209fae852fb0a61de5d8, 6760174c45...  \n",
       "1  [(9a7670be67a118ddd4b30f5cdd3b035e, e5945238cc...  \n",
       "2  [(e65bd9b13ec4a97ac7b912f37c3e36d4, 9a7670be67...  \n",
       "3  [(489fed35d8b91d95691efab0215e46a8, 9b4b7f5090...  \n",
       "5  [(833f134928f303b5531209ff372ab4ce, b496d19eb2...  "
      ]
     },
     "execution_count": 6,
     "metadata": {},
     "output_type": "execute_result"
    }
   ],
   "source": [
    "seq_with_targets[\"s_pair\"] = seq_with_targets[\"s\"].apply(lambda x : [(x[i],x[i+1]) \n",
    "                                                                     for i in range(len(x)-1)])\n",
    "seq_with_targets.head()"
   ]
  },
  {
   "cell_type": "code",
   "execution_count": 31,
   "id": "31e2ac08-d0b6-4b5f-8ce7-c2fd39589bcf",
   "metadata": {},
   "outputs": [],
   "source": [
    "samp = seq_with_targets.sample(1000)"
   ]
  },
  {
   "cell_type": "raw",
   "id": "3c223e68-6e9e-4b1a-9116-620be98bd632",
   "metadata": {},
   "source": [
    "from IPython.display import clear_output\n",
    "Null_cnt = Counter()\n",
    "Tets_cnt = Counter()\n",
    "Ones_cnt = Counter()\n",
    "for trg in range(seq_with_targets.shape[0]):\n",
    "    clear_output(wait=True)\n",
    "    print(trg)\n",
    "    for seq_pair in full_dt_seq[\"SEQ\"]:\n",
    "        if seq_pair in seq_with_targets[\"s_pair\"][trg] and seq_with_targets[\"TARGET\"][trg] == \"test\":\n",
    "            Test_cnt[seq_pair] +=1\n",
    "        if seq_pair in seq_with_targets[\"s_pair\"][trg] and seq_with_targets[\"TARGET\"][trg] == \"0\":\n",
    "            Null_cnt[seq_pair] +=1\n",
    "        if seq_pair in seq_with_targets[\"s_pair\"][trg] and seq_with_targets[\"TARGET\"][trg] == \"1\":\n",
    "            Ones_cnt[seq_pair] +=1"
   ]
  },
  {
   "cell_type": "code",
   "execution_count": 4,
   "id": "5b10798d-0114-4ae3-b182-4155a0e2e25c",
   "metadata": {},
   "outputs": [],
   "source": [
    "total_size = 0\n",
    "batch = 10_000\n",
    "total_seq_usr = Counter()\n",
    "for f in pd.read_csv(\"data/FINAL_ALL_SEQUENCES_TRAINTEST.tsv\", sep='\\t', chunksize=batch):\n",
    "    total_size += f.shape[0]\n",
    "    f[\"s\"] = f[\"SEQUENCE\"].apply(lambda x: json.loads(x.replace(\"'\", '\"')))\n",
    "    for seq, cnt in zip(*np.unique(np.concatenate(f[\"s\"].values), return_counts=True)):\n",
    "        total_seq_usr[seq] += cnt"
   ]
  }
 ],
 "metadata": {
  "kernelspec": {
   "display_name": "Python 3 (ipykernel)",
   "language": "python",
   "name": "python3"
  },
  "language_info": {
   "codemirror_mode": {
    "name": "ipython",
    "version": 3
   },
   "file_extension": ".py",
   "mimetype": "text/x-python",
   "name": "python",
   "nbconvert_exporter": "python",
   "pygments_lexer": "ipython3",
   "version": "3.9.7"
  }
 },
 "nbformat": 4,
 "nbformat_minor": 5
}
