{
 "cells": [
  {
   "cell_type": "code",
   "execution_count": 1,
   "id": "2193082f-243c-4049-83b3-b5b86fa30b77",
   "metadata": {},
   "outputs": [],
   "source": [
    "import pandas as pd"
   ]
  },
  {
   "cell_type": "code",
   "execution_count": 3,
   "id": "7ae7c943-c5d2-4cec-a88e-43d78417867e",
   "metadata": {},
   "outputs": [
    {
     "name": "stdout",
     "output_type": "stream",
     "text": [
      "   CLIENT_ID  TARGET  i1047  i1048  i1056  i1058  i1059  i1060  i1065  i1066  \\\n",
      "0    1011725       0    0.0    0.0  304.0    0.0    0.0   28.0  165.0    0.0   \n",
      "1    1018784       1    0.0    3.0  157.0    0.0    0.0    0.0   92.0    0.0   \n",
      "2    1021812       0    0.0  250.0  314.0    3.0   12.0  525.0  107.0    0.0   \n",
      "3    1024003       0    0.0    4.0   17.0    0.0    3.0    3.0   10.0    0.0   \n",
      "4    1026390       1    0.0    0.0  255.0    0.0   17.0    0.0  168.0    0.0   \n",
      "\n",
      "   ...  u8=17  u8=18  u8=19  u8=2  u8=20  u8=21  u8=6  u8=7  u8=8  u8=9  \n",
      "0  ...    0.0    0.0    0.0   0.0    0.0    0.0   0.0   0.0   0.0   0.0  \n",
      "1  ...    0.0    0.0    0.0   0.0    0.0    0.0   0.0   0.0   0.0   0.0  \n",
      "2  ...    0.0    0.0    0.0   0.0    0.0    0.0   0.0   0.0   0.0   0.0  \n",
      "3  ...    0.0    0.0    0.0   0.0    0.0    0.0   0.0   0.0   0.0   0.0  \n",
      "4  ...    0.0    0.0    0.0   0.0    0.0    0.0   0.0   0.0   0.0   0.0  \n",
      "\n",
      "[5 rows x 1016 columns]\n"
     ]
    }
   ],
   "source": [
    "chunk = 100\n",
    "\n",
    "for ch in pd.read_csv('train_num_features_with_target.csv', chunksize=chunk):\n",
    "    print(ch.head())\n",
    "    break"
   ]
  }
 ],
 "metadata": {
  "kernelspec": {
   "display_name": "Python 3 (ipykernel)",
   "language": "python",
   "name": "python3"
  },
  "language_info": {
   "codemirror_mode": {
    "name": "ipython",
    "version": 3
   },
   "file_extension": ".py",
   "mimetype": "text/x-python",
   "name": "python",
   "nbconvert_exporter": "python",
   "pygments_lexer": "ipython3",
   "version": "3.9.7"
  }
 },
 "nbformat": 4,
 "nbformat_minor": 5
}
