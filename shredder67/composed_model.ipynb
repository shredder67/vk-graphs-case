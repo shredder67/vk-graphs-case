{
 "cells": [
  {
   "cell_type": "code",
   "execution_count": 2,
   "id": "b42f0095-e26d-45b0-99c3-94e26f8545e3",
   "metadata": {},
   "outputs": [],
   "source": [
    "import torch\n",
    "import torch.nn as nn\n",
    "import torch.nn.functional as F\n",
    "import torch_geometric\n",
    "import torch_geometric.nn as pyg_nn\n",
    "import numpy as np\n",
    "import pandas as pd"
   ]
  },
  {
   "cell_type": "markdown",
   "id": "4bca2c1a-89a5-4a40-b666-96e5913d6b8c",
   "metadata": {
    "tags": []
   },
   "source": [
    "### Обобщенная схема модели\n",
    "\n",
    "$s_u$ - вектор сессии полученный как ембеддинг графа сессии пользователя\n",
    "\n",
    "$f_u$ - предобработанный вектор пользовательских признаков\n",
    "\n",
    "$r_u$ - вектор агрегированных признаков от ближайших пользователей\n",
    "\n",
    "$z = Predictor(s_u || f_u || r_u)$ - предсказание модели на конкатенации полученных векторных представлений\n",
    "\n",
    "Основная проблема: множество пользователей с отсутствием каких-либо данных, решаем извлечением хоть какой-то информации из разных блоков"
   ]
  },
  {
   "cell_type": "code",
   "execution_count": 3,
   "id": "2621f93f-de1d-4cf7-aea1-22b24b35f32c",
   "metadata": {},
   "outputs": [],
   "source": [
    "from sklearn.decomposition import FastICA\n",
    "import pickle\n",
    "\n",
    "transformer_filename = 'FastICATransformer'\n",
    "\n",
    "class SessionNodeEncoderBlock():\n",
    "    \"\"\"\n",
    "    Блок, отвечающий за преобразование строковых представлений состояний в векторные эмбеддинги\n",
    "    \"\"\"\n",
    "    def __init__(self):\n",
    "        super().__init__()\n",
    "        \n",
    "    def forward():\n",
    "        pass\n",
    "\n",
    "\n",
    "class SessionSummarizationBlock(nn.Module):\n",
    "    \"\"\"\n",
    "    Блок, отвечающий за преобзраование графа состояний сессии в вектор\n",
    "    \"\"\"\n",
    "    def __init__(self):\n",
    "        super().__init__()\n",
    "        \n",
    "    def forward():\n",
    "        pass\n",
    "\n",
    "def user_features_to_low_dimension_tensor(X: np.ndarray):\n",
    "    \"\"\"\n",
    "    Трансформирует набор исходных вещественных фичей в тензор низкой размерности\n",
    "    \"\"\"\n",
    "    with open('FastICATransformer', 'rb') as tfile:\n",
    "        FastICA = pickle.load(tfile)\n",
    "    X = FastICA.transform(X)\n",
    "    return torch.from_numpy(X)\n",
    "    \n",
    "\n",
    "class FriendsAggregationBlock(nn.Module):\n",
    "    \"\"\"\n",
    "    Блок, агрегирующий признаки похожих пользователей в один вектор\n",
    "    \"\"\"\n",
    "    def __init__(self, in_features, hid_features, out_features):\n",
    "        super().__init__()\n",
    "        self.linear_in = nn.Linear(in_features, hid_features)\n",
    "        self.linear_out = nn.Linear(hid_features, out_features)\n",
    "    \n",
    "    def forward(self, x):\n",
    "        x_hid = F.relu(self.linear_in(x))\n",
    "        x_out = self.linear_out(x_hid)\n",
    "        return x_out\n",
    "\n",
    "    \n",
    "class Predictor(nn.Module):\n",
    "    \"\"\"\n",
    "    Голова предсказания, предсказывает логит значения вероятностей для пользователей.\n",
    "    \"\"\"\n",
    "    def __init__(self):\n",
    "        super().__init__()\n",
    "        self.friends_agr_block = FriendsAggregationBlock(2028, 512, 64)\n",
    "        self.output_layer = nn.Sequential(\n",
    "            nn.Linear(64, 64),\n",
    "            nn.ReLU(),\n",
    "            nn.Linear(64, 1),\n",
    "        )\n",
    "    \n",
    "    def forward(self, uf=None, ff=None, graph_emb=None):\n",
    "        #friends_features_embed = self.friends_agr_block(ff)\n",
    "        #concat_embed = torch.cat((uf, friends_features_embed), axis=1)\n",
    "        concat_embed = uf\n",
    "        z = self.output_layer(concat_embed)\n",
    "        return z\n",
    "        \n",
    "        \n",
    "@torch.no_grad()\n",
    "def get_probs(z):\n",
    "    return torch.sigmoid(z)\n",
    "\n",
    "# По мере того как блоки будут обучатся, сюда подставлять код.\n",
    "# Блок енкодера строковых предствалений предобучается на графовых структурах состояний (в теории)\n",
    "# В качесте Predictor-a может быть использована любая модель (MLP, gb, ...)"
   ]
  },
  {
   "cell_type": "code",
   "execution_count": 6,
   "id": "2082b45b-b55f-41a5-ae13-cfd3a1dc2467",
   "metadata": {},
   "outputs": [
    {
     "name": "stdout",
     "output_type": "stream",
     "text": [
      "FINAL_ALL_SEQUENCES_TRAINTEST.tsv  archive  pXE_\n",
      "FINAL_FEATURES_FRIENDS.tsv\t   pSS_     processed\n",
      "FINAL_FEATURES_TRAINTEST.tsv\t   pTTE     seq_pair_count.csv\n",
      "FINAL_SEQUENCES_MATRIX.csv\t   pTTQL\n",
      "FINAL_TARGETS_DATES_TRAINTEST.tsv  pTTSL\n"
     ]
    }
   ],
   "source": [
    "! ls ../data"
   ]
  },
  {
   "cell_type": "markdown",
   "id": "2c045a1e-7dca-4665-8929-c0bfcb71545a",
   "metadata": {},
   "source": [
    "# Преодработка данных для обучения"
   ]
  },
  {
   "cell_type": "code",
   "execution_count": 29,
   "id": "a7c8fbd1-6ff1-462f-a2a3-9afdf56409eb",
   "metadata": {},
   "outputs": [],
   "source": [
    "# Загрузить табличку с user_id, target (0, 1, test)\n",
    "# Разделить на две таблички с 0/1 и test в target - на первой обучение, на второй предсказания для submit-а\n",
    "# Сделать train/test слипт по размеченным данным\n",
    "\n",
    "# Пайплайн предсказания:\n",
    "# По user_id сформировать сделать join табличек с необходимыми признаками на вход каждой подмодели\n",
    "# Строки с Nan-ами заполнить значениями по умолчанию, запомнить соотв. user_id\n",
    "# На выходах подмодели обнулить выученные представления по user_id для избежания зашумленности (?)\n",
    "# Сформировать предсказание поверх конкатенации/суммы представлений\n",
    "# Если у user_id отсутствуют данные во всех таблицах, предскзаать baseline вероятность"
   ]
  },
  {
   "cell_type": "code",
   "execution_count": 4,
   "id": "22e11ac7-a6dc-43c5-a506-d39d6f9224bf",
   "metadata": {},
   "outputs": [
    {
     "data": {
      "text/html": [
       "<div>\n",
       "<style scoped>\n",
       "    .dataframe tbody tr th:only-of-type {\n",
       "        vertical-align: middle;\n",
       "    }\n",
       "\n",
       "    .dataframe tbody tr th {\n",
       "        vertical-align: top;\n",
       "    }\n",
       "\n",
       "    .dataframe thead th {\n",
       "        text-align: right;\n",
       "    }\n",
       "</style>\n",
       "<table border=\"1\" class=\"dataframe\">\n",
       "  <thead>\n",
       "    <tr style=\"text-align: right;\">\n",
       "      <th></th>\n",
       "      <th>CLIENT_ID</th>\n",
       "      <th>TARGET</th>\n",
       "    </tr>\n",
       "  </thead>\n",
       "  <tbody>\n",
       "    <tr>\n",
       "      <th>0</th>\n",
       "      <td>1011725</td>\n",
       "      <td>0</td>\n",
       "    </tr>\n",
       "    <tr>\n",
       "      <th>1</th>\n",
       "      <td>1018784</td>\n",
       "      <td>1</td>\n",
       "    </tr>\n",
       "    <tr>\n",
       "      <th>2</th>\n",
       "      <td>1021812</td>\n",
       "      <td>0</td>\n",
       "    </tr>\n",
       "    <tr>\n",
       "      <th>3</th>\n",
       "      <td>1024003</td>\n",
       "      <td>0</td>\n",
       "    </tr>\n",
       "    <tr>\n",
       "      <th>4</th>\n",
       "      <td>1025140</td>\n",
       "      <td>test</td>\n",
       "    </tr>\n",
       "  </tbody>\n",
       "</table>\n",
       "</div>"
      ],
      "text/plain": [
       "   CLIENT_ID TARGET\n",
       "0    1011725      0\n",
       "1    1018784      1\n",
       "2    1021812      0\n",
       "3    1024003      0\n",
       "4    1025140   test"
      ]
     },
     "execution_count": 4,
     "metadata": {},
     "output_type": "execute_result"
    }
   ],
   "source": [
    "user_target_df = pd.read_csv('../data/FINAL_TARGETS_DATES_TRAINTEST.tsv', sep='\\t').drop('RETRO_DT', axis=1)\n",
    "user_target_df.head(5)"
   ]
  },
  {
   "cell_type": "code",
   "execution_count": 5,
   "id": "04077057-48c4-4dc4-a217-8bd205688fc4",
   "metadata": {},
   "outputs": [
    {
     "data": {
      "text/plain": [
       "((127432, 2), (31858, 2))"
      ]
     },
     "execution_count": 5,
     "metadata": {},
     "output_type": "execute_result"
    }
   ],
   "source": [
    "training_user_target_df = user_target_df[user_target_df['TARGET'] != 'test'].reset_index(drop=True)\n",
    "submit_user_target_df = user_target_df[user_target_df['TARGET'] == 'test'].reset_index(drop=True)\n",
    "training_user_target_df.shape, submit_user_target_df.shape"
   ]
  },
  {
   "cell_type": "code",
   "execution_count": 6,
   "id": "30369e2e-2034-4127-8da3-93a76ca855dd",
   "metadata": {},
   "outputs": [
    {
     "data": {
      "text/html": [
       "<div>\n",
       "<style scoped>\n",
       "    .dataframe tbody tr th:only-of-type {\n",
       "        vertical-align: middle;\n",
       "    }\n",
       "\n",
       "    .dataframe tbody tr th {\n",
       "        vertical-align: top;\n",
       "    }\n",
       "\n",
       "    .dataframe thead th {\n",
       "        text-align: right;\n",
       "    }\n",
       "</style>\n",
       "<table border=\"1\" class=\"dataframe\">\n",
       "  <thead>\n",
       "    <tr style=\"text-align: right;\">\n",
       "      <th></th>\n",
       "      <th>CLIENT_ID</th>\n",
       "      <th>TARGET</th>\n",
       "    </tr>\n",
       "  </thead>\n",
       "  <tbody>\n",
       "    <tr>\n",
       "      <th>0</th>\n",
       "      <td>1011725</td>\n",
       "      <td>0</td>\n",
       "    </tr>\n",
       "    <tr>\n",
       "      <th>1</th>\n",
       "      <td>1018784</td>\n",
       "      <td>1</td>\n",
       "    </tr>\n",
       "    <tr>\n",
       "      <th>2</th>\n",
       "      <td>1021812</td>\n",
       "      <td>0</td>\n",
       "    </tr>\n",
       "    <tr>\n",
       "      <th>3</th>\n",
       "      <td>1024003</td>\n",
       "      <td>0</td>\n",
       "    </tr>\n",
       "    <tr>\n",
       "      <th>4</th>\n",
       "      <td>1026390</td>\n",
       "      <td>1</td>\n",
       "    </tr>\n",
       "    <tr>\n",
       "      <th>...</th>\n",
       "      <td>...</td>\n",
       "      <td>...</td>\n",
       "    </tr>\n",
       "    <tr>\n",
       "      <th>127427</th>\n",
       "      <td>72630</td>\n",
       "      <td>0</td>\n",
       "    </tr>\n",
       "    <tr>\n",
       "      <th>127428</th>\n",
       "      <td>72633</td>\n",
       "      <td>0</td>\n",
       "    </tr>\n",
       "    <tr>\n",
       "      <th>127429</th>\n",
       "      <td>72634</td>\n",
       "      <td>1</td>\n",
       "    </tr>\n",
       "    <tr>\n",
       "      <th>127430</th>\n",
       "      <td>72641</td>\n",
       "      <td>0</td>\n",
       "    </tr>\n",
       "    <tr>\n",
       "      <th>127431</th>\n",
       "      <td>72643</td>\n",
       "      <td>0</td>\n",
       "    </tr>\n",
       "  </tbody>\n",
       "</table>\n",
       "<p>127432 rows × 2 columns</p>\n",
       "</div>"
      ],
      "text/plain": [
       "        CLIENT_ID TARGET\n",
       "0         1011725      0\n",
       "1         1018784      1\n",
       "2         1021812      0\n",
       "3         1024003      0\n",
       "4         1026390      1\n",
       "...           ...    ...\n",
       "127427      72630      0\n",
       "127428      72633      0\n",
       "127429      72634      1\n",
       "127430      72641      0\n",
       "127431      72643      0\n",
       "\n",
       "[127432 rows x 2 columns]"
      ]
     },
     "execution_count": 6,
     "metadata": {},
     "output_type": "execute_result"
    }
   ],
   "source": [
    "training_user_target_df"
   ]
  },
  {
   "cell_type": "code",
   "execution_count": 50,
   "id": "82fb8ede-ea3d-4618-b6d5-67ac0bf3e704",
   "metadata": {},
   "outputs": [],
   "source": [
    "USER_FEATURES_FILE = '../data/FINAL_FEATURES_TRAINTEST.tsv'\n",
    "FRIENDS_FEATURES_FILE = '../data/csv'\n",
    "def get_user_features(clientid_df, uf_path=USER_FEATURES_FILE, with_target=True):\n",
    "    \"\"\"\n",
    "    for training we return X, y, clients_index_with_no_features\n",
    "    for testing we return X, clients_index_with_no_features\n",
    "    \"\"\"\n",
    "    uf_df = pd.read_csv(uf_path, sep='\\t', index_col=0)\n",
    "    if with_target:\n",
    "        merged_df = clientid_df.merge(uf_df, how='left', left_on='CLIENT_ID', right_index=True)\n",
    "        targets = merged_df[['TARGET']]\n",
    "        features = merged_df.drop(['TARGET', 'CLIENT_ID'], axis=1)\n",
    "        client_ids_without_features = features.index[features.isnull().any(1)]\n",
    "        features = features.fillna(0.)\n",
    "        return features, targets, client_ids_without_features\n",
    "    else:\n",
    "        merged_df = clientid_df.merge(uf_df, how='left', left_on='CLIENT_ID', right_index=True)\n",
    "        features = merged_df.drop(['TARGET', 'CLIENT_ID'], axis=1)\n",
    "        client_ids_without_features = features.index[features.isnull().any(1)]\n",
    "        features = features.fillna(0.)\n",
    "        return features, client_ids_without_features\n",
    "    \n",
    "def get_user_friends_features(clientid_df, friends_feat_path=FRIENDS_FEATURES_FILE, with_target=True):\n",
    "    \"\"\"\n",
    "    for training returns X, y, clients_index_with_no_friends\n",
    "    for testing returns X, clients_index_with_no_friends\n",
    "    \n",
    "    friends_features includes both friends and user features appended\n",
    "    \"\"\"\n",
    "    ff_df = pd.read_csv(friends_feat_path, index_col=0)\n",
    "    if with_target:\n",
    "        merged_df = merged_df = clientid_df.merge(ff_df, how='left', left_on='CLIENT_ID', right_index=True)\n",
    "        targets = merged_df[['TARGET']]\n",
    "        features = merged_df.drop(['TARGET', 'CLIENT_ID'], axis=1)\n",
    "        client_ids_without_features = features.index[features.isnull().any(1)]\n",
    "        features = features.fillna(0.)\n",
    "        return features, targets, client_ids_without_features\n",
    "    else:\n",
    "        merged_df = clientid_df.merge(uf_df, how='left', left_on='CLIENT_ID', right_index=True)\n",
    "        features = merged_df.drop('TARGET', axis=1)\n",
    "        client_ids_without_features = features.index[features.isnull().any(1)]\n",
    "        features = features.fillna(0.)\n",
    "        return features, client_ids_without_features"
   ]
  },
  {
   "cell_type": "markdown",
   "id": "04ba65da-a3d6-43ed-ab05-e797ccf21dae",
   "metadata": {},
   "source": [
    "# Обучение\n"
   ]
  },
  {
   "cell_type": "code",
   "execution_count": 35,
   "id": "a7260546-e5c5-4c5e-a773-d4845cd2edbc",
   "metadata": {},
   "outputs": [],
   "source": [
    "from sklearn.metrics import roc_auc_score\n",
    "from tqdm import tqdm\n",
    "\n",
    "def train_epoch(model, uf, y, criterion, optimizer):\n",
    "    model.train()\n",
    "    optimizer.zero_grad()\n",
    "    loss_val = 0.\n",
    "    aucroc = 0.\n",
    "    out = model(uf=uf)\n",
    "    loss = criterion(out, y.to(torch.float))\n",
    "    \n",
    "    loss.backward()\n",
    "    optimizer.step()\n",
    "    \n",
    "    loss_val = loss.item()\n",
    "    aucroc = roc_auc_score(y.detach(), out.detach()).item()\n",
    "    return loss_val, aucroc\n",
    "\n",
    "@torch.no_grad()\n",
    "def eval_epoch(model, uf, y, criterion):\n",
    "    model.eval()\n",
    "    loss_val = 0.\n",
    "    aucroc = 0.\n",
    "    out = model(uf=uf)\n",
    "    loss = criterion(out, y.to(torch.float))\n",
    "    \n",
    "    loss_val = loss.item()\n",
    "    aucroc = roc_auc_score(y.detach(), out.detach()).item()\n",
    "    return loss_val, aucroc\n",
    "\n",
    "import matplotlib.pyplot as plt\n",
    "def plot_hist(train_hist):\n",
    "    train_loss_hist, train_aucroc_hist = train_hist\n",
    "    _, (ax1, ax2) = plt.subplots(1, 2, figsize=(13, 5))\n",
    "    ax1.plot(train_loss_hist, label='train loss')\n",
    "    ax1.set_title('Loss plot')\n",
    "    ax1.legend()\n",
    "    ax2.plot(train_aucroc_hist, label='train aucroc')\n",
    "    ax2.set_title('Training Metric (F1-Score)')\n",
    "    ax2.legend()\n",
    "    plt.show()\n",
    "\n",
    "def train_model(model,\n",
    "                uf,\n",
    "                y_train,\n",
    "                criterion,\n",
    "                optimizer,\n",
    "                epochs=100):\n",
    "    train_loss_hist = []\n",
    "    train_auc_hist = []\n",
    "    \n",
    "    with tqdm(range(1, epochs + 1)) as tepoch:\n",
    "        for e in tepoch:\n",
    "            model.train()\n",
    "            tr_loss, tr_auc = train_epoch(model, uf, y_train, criterion, optimizer)\n",
    "            train_loss_hist.append(tr_loss)\n",
    "            train_auc_hist.append(tr_auc)\n",
    "    \n",
    "    return train_loss_hist, train_auc_hist"
   ]
  },
  {
   "cell_type": "code",
   "execution_count": 14,
   "id": "4cb05330-a37a-4748-aaa6-e32e2aa91766",
   "metadata": {},
   "outputs": [],
   "source": [
    "from sklearn.model_selection import train_test_split\n",
    "\n",
    "user_features, y, clients_without_features = get_user_features(training_user_target_df, with_target=True)\n",
    "\n",
    "uf_train, uf_test, y_train, y_test = train_test_split(user_features, y, train_size=0.85, stratify=y)\n",
    "\n",
    "# Подготовка масок для зануления\n",
    "clients_without_features_in_train = clients_without_features[clients_without_features < len(uf_train)]\n",
    "clients_without_features_in_test = clients_without_features[clients_without_features > len(uf_train)] - len(uf_train)\n",
    "\n",
    "# Получение исходных представлений сжатых данных\n",
    "uf_train_tensor = user_features_to_low_dimension_tensor(uf_train).to(torch.float)\n",
    "uf_train_tensor[clients_without_features_in_train] = 0.\n",
    "uf_test_tensor = user_features_to_low_dimension_tensor(uf_test).to(torch.float)\n",
    "uf_test_tensor[clients_without_features_in_test] = 0."
   ]
  },
  {
   "cell_type": "code",
   "execution_count": null,
   "id": "262d075e-891e-4091-8059-93fbffa77e22",
   "metadata": {},
   "outputs": [],
   "source": [
    "# Получение эмбедингов\n",
    "friends_featues, clients_without_friends = get_user_friends_features()\n",
    "\n",
    "ff_tain, ff_test, y_train, y_test = train_test_split(friends_features, y, train_size=0.85, stratify=y)\n",
    "\n",
    "#Подготовка масок для зануления несостоятельных оценок\n",
    "clients_without_friends_in_train = clients_without_features[clients_without_features < len(X_train)]\n",
    "clients_without_friends_in_test = clients_without_features[clients_without_features > len(X_train)] - len(X_train)"
   ]
  },
  {
   "cell_type": "code",
   "execution_count": 32,
   "id": "6967e3c3-cb5f-42f6-ab88-98378b976ee9",
   "metadata": {},
   "outputs": [
    {
     "name": "stderr",
     "output_type": "stream",
     "text": [
      "100%|██████████| 500/500 [02:45<00:00,  3.03it/s]\n"
     ]
    }
   ],
   "source": [
    "from torch.nn import BCEWithLogitsLoss\n",
    "\n",
    "model = Predictor()\n",
    "\n",
    "uf_train = uf_train_tensor\n",
    "uf_test = uf_test_tensor\n",
    "# ff_train = ff_train_tensor\n",
    "# ff_test = ff_test_tensor\n",
    "\n",
    "# y_train = torch.from_numpy(y_train.astype(int).values).to(int)\n",
    "# y_test = torch.from_numpy(y_test.astype(int).values).to(int)\n",
    "\n",
    "criterion = BCEWithLogitsLoss()\n",
    "optimizer = torch.optim.Adam(model.parameters(), lr=1e-3, weight_decay=1e-4)\n",
    "\n",
    "hist = train_model(model, uf_train, y_train, criterion, optimizer, epochs=500)"
   ]
  },
  {
   "cell_type": "code",
   "execution_count": 33,
   "id": "cd1f0409-070d-4ec7-9b88-023e3a09a789",
   "metadata": {},
   "outputs": [
    {
     "data": {
      "image/png": "[encoded data removed]",
      "text/plain": [
       "<Figure size 1300x500 with 2 Axes>"
      ]
     },
     "metadata": {},
     "output_type": "display_data"
    }
   ],
   "source": [
    "plot_hist(hist)"
   ]
  },
  {
   "cell_type": "code",
   "execution_count": 36,
   "id": "f003909a-7cfe-48ac-b539-d8128bd37d92",
   "metadata": {},
   "outputs": [
    {
     "data": {
      "text/plain": [
       "(0.5873740911483765, 0.5025345521859078)"
      ]
     },
     "execution_count": 36,
     "metadata": {},
     "output_type": "execute_result"
    }
   ],
   "source": [
    "eval_epoch(model, uf_test, y_test, criterion)"
   ]
  },
  {
   "cell_type": "code",
   "execution_count": null,
   "id": "6218dfbb-bfe2-4c72-a842-e6ec65ce12e6",
   "metadata": {},
   "outputs": [],
   "source": [
    "torch.save(model.state_dict(), 'best_model_on_test.pth')"
   ]
  },
  {
   "cell_type": "markdown",
   "id": "7cb3b1d5-2781-413e-8ef9-bb1c3aa9cf9d",
   "metadata": {},
   "source": [
    "# Дообучение на всей выборке\n"
   ]
  },
  {
   "cell_type": "code",
   "execution_count": 41,
   "id": "a1939260-c3c8-4aa7-9666-891a2ebb92a6",
   "metadata": {},
   "outputs": [],
   "source": [
    "user_features, y, clients_without_features = get_user_features(training_user_target_df, with_target=True)\n",
    "\n",
    "\n",
    "# Получение исходных представлений сжатых данных\n",
    "uf_tensor = user_features_to_low_dimension_tensor(user_features).to(torch.float)\n",
    "uf_tensor[clients_without_features] = 0. \n",
    "y = torch.from_numpy(y.astype(int).values)"
   ]
  },
  {
   "cell_type": "code",
   "execution_count": null,
   "id": "3bd966ee-219c-4ded-a62d-3d78804d660e",
   "metadata": {},
   "outputs": [],
   "source": [
    "from torch.nn import BCEWithLogitsLoss\n",
    "\n",
    "model = Predictor()\n",
    "\n",
    "uf = uf_tensor\n",
    "y = y\n",
    "\n",
    "criterion = BCEWithLogitsLoss()\n",
    "optimizer = torch.optim.Adam(model.parameters(), lr=1e-3, weight_decay=1e-4)\n",
    "\n",
    "hist = train_model(model, uf_train, y_train, criterion, optimizer, epochs=500)"
   ]
  },
  {
   "cell_type": "code",
   "execution_count": 43,
   "id": "f1415f0b-b277-4c35-8139-a9f4e44a96d4",
   "metadata": {},
   "outputs": [
    {
     "data": {
      "image/png": "[encoded data removed]",
      "text/plain": [
       "<Figure size 1300x500 with 2 Axes>"
      ]
     },
     "metadata": {},
     "output_type": "display_data"
    }
   ],
   "source": [
    "plot_hist(hist)"
   ]
  },
  {
   "cell_type": "code",
   "execution_count": 44,
   "id": "d522c318-c10b-4931-9099-5a1a5e70e247",
   "metadata": {},
   "outputs": [],
   "source": [
    "torch.save(model.state_dict(), 'best_model_on_test.pth')"
   ]
  },
  {
   "cell_type": "markdown",
   "id": "086a11e5-51e4-45b3-b46a-75c7d2a16e89",
   "metadata": {},
   "source": [
    "# Предсказание test и submit"
   ]
  },
  {
   "cell_type": "code",
   "execution_count": 45,
   "id": "077f673b-4e55-4c37-9344-a9f03186eeb5",
   "metadata": {},
   "outputs": [
    {
     "data": {
      "text/plain": [
       "<All keys matched successfully>"
      ]
     },
     "execution_count": 45,
     "metadata": {},
     "output_type": "execute_result"
    }
   ],
   "source": [
    "BEST_MODEL_PATH = 'best_model_on_test.pth'\n",
    "\n",
    "final_model = Predictor()\n",
    "final_model.load_state_dict(torch.load(BEST_MODEL_PATH))"
   ]
  },
  {
   "cell_type": "code",
   "execution_count": 56,
   "id": "dc0f638e-c975-491b-90c9-36933eabb1ba",
   "metadata": {},
   "outputs": [],
   "source": [
    "uf_submit, user_without_features = get_user_features(submit_user_target_df, with_target=False)\n",
    "uf_tensor = user_features_to_low_dimension_tensor(uf_submit).to(torch.float)\n",
    "uf_tensor[user_without_features] = 0.\n",
    "# and other features\n",
    "\n",
    "final_model.eval()\n",
    "out = final_model(uf=uf_tensor)\n",
    "probs = get_probs(out)"
   ]
  },
  {
   "cell_type": "code",
   "execution_count": 59,
   "id": "ee3227df-f510-4803-bb10-f0f54613f810",
   "metadata": {},
   "outputs": [],
   "source": [
    "submission_df = pd.read_csv('../sample_submission.csv')\n",
    "submission_df['TARGET'] = probs.squeeze(-1).tolist()\n",
    "submission_df.head()\n",
    "submission_df.to_csv('submission.csv', index=False)"
   ]
  }
 ],
 "metadata": {
  "kernelspec": {
   "display_name": "Python 3 (ipykernel)",
   "language": "python",
   "name": "python3"
  },
  "language_info": {
   "codemirror_mode": {
    "name": "ipython",
    "version": 3
   },
   "file_extension": ".py",
   "mimetype": "text/x-python",
   "name": "python",
   "nbconvert_exporter": "python",
   "pygments_lexer": "ipython3",
   "version": "3.9.7"
  }
 },
 "nbformat": 4,
 "nbformat_minor": 5
}
