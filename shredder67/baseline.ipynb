{
 "cells": [
  {
   "cell_type": "code",
   "execution_count": 10,
   "id": "08d54abb-c5c9-45e2-a4be-f2ae218a51eb",
   "metadata": {},
   "outputs": [],
   "source": [
    "import torch\n",
    "import torch.nn as nn\n",
    "import torch.nn.functional as F\n",
    "import pandas as pd"
   ]
  },
  {
   "cell_type": "code",
   "execution_count": 6,
   "id": "d6cbfa1f-d2b2-4c75-8fc7-c802b72b2100",
   "metadata": {},
   "outputs": [
    {
     "name": "stdout",
     "output_type": "stream",
     "text": [
      "FINAL_ALL_SEQUENCES_TRAINTEST.tsv  FINAL_TARGETS_DATES_TRAINTEST.tsv  pTTQL\n",
      "FINAL_FEATURES_FRIENDS.tsv\t   archive\t\t\t      pTTSL\n",
      "FINAL_FEATURES_TRAINTEST.tsv\t   pSS_\t\t\t\t      pXE_\n",
      "FINAL_SEQUENCES_MATRIX.csv\t   pTTE\n"
     ]
    }
   ],
   "source": [
    "! ls ../data"
   ]
  },
  {
   "cell_type": "code",
   "execution_count": 11,
   "id": "a6bdb4be-1062-4eca-b107-443ffb4c4776",
   "metadata": {},
   "outputs": [
    {
     "data": {
      "text/html": [
       "<div>\n",
       "<style scoped>\n",
       "    .dataframe tbody tr th:only-of-type {\n",
       "        vertical-align: middle;\n",
       "    }\n",
       "\n",
       "    .dataframe tbody tr th {\n",
       "        vertical-align: top;\n",
       "    }\n",
       "\n",
       "    .dataframe thead th {\n",
       "        text-align: right;\n",
       "    }\n",
       "</style>\n",
       "<table border=\"1\" class=\"dataframe\">\n",
       "  <thead>\n",
       "    <tr style=\"text-align: right;\">\n",
       "      <th></th>\n",
       "      <th>i1047</th>\n",
       "      <th>i1048</th>\n",
       "      <th>i1056</th>\n",
       "      <th>i1058</th>\n",
       "      <th>i1059</th>\n",
       "      <th>i1060</th>\n",
       "      <th>i1065</th>\n",
       "      <th>i1066</th>\n",
       "      <th>i1067</th>\n",
       "      <th>i1068</th>\n",
       "      <th>...</th>\n",
       "      <th>u8=17</th>\n",
       "      <th>u8=18</th>\n",
       "      <th>u8=19</th>\n",
       "      <th>u8=2</th>\n",
       "      <th>u8=20</th>\n",
       "      <th>u8=21</th>\n",
       "      <th>u8=6</th>\n",
       "      <th>u8=7</th>\n",
       "      <th>u8=8</th>\n",
       "      <th>u8=9</th>\n",
       "    </tr>\n",
       "    <tr>\n",
       "      <th>CLIENT_ID</th>\n",
       "      <th></th>\n",
       "      <th></th>\n",
       "      <th></th>\n",
       "      <th></th>\n",
       "      <th></th>\n",
       "      <th></th>\n",
       "      <th></th>\n",
       "      <th></th>\n",
       "      <th></th>\n",
       "      <th></th>\n",
       "      <th></th>\n",
       "      <th></th>\n",
       "      <th></th>\n",
       "      <th></th>\n",
       "      <th></th>\n",
       "      <th></th>\n",
       "      <th></th>\n",
       "      <th></th>\n",
       "      <th></th>\n",
       "      <th></th>\n",
       "      <th></th>\n",
       "    </tr>\n",
       "  </thead>\n",
       "  <tbody>\n",
       "    <tr>\n",
       "      <th>7150</th>\n",
       "      <td>0.0</td>\n",
       "      <td>0.0</td>\n",
       "      <td>3.0</td>\n",
       "      <td>0.0</td>\n",
       "      <td>0.0</td>\n",
       "      <td>0.0</td>\n",
       "      <td>0.0</td>\n",
       "      <td>0.0</td>\n",
       "      <td>0.0</td>\n",
       "      <td>0.0</td>\n",
       "      <td>...</td>\n",
       "      <td>0.0</td>\n",
       "      <td>0.0</td>\n",
       "      <td>0.0</td>\n",
       "      <td>0.0</td>\n",
       "      <td>0.0</td>\n",
       "      <td>0.0</td>\n",
       "      <td>0.0</td>\n",
       "      <td>0.0</td>\n",
       "      <td>0.0</td>\n",
       "      <td>0.0</td>\n",
       "    </tr>\n",
       "    <tr>\n",
       "      <th>7154</th>\n",
       "      <td>0.0</td>\n",
       "      <td>16.0</td>\n",
       "      <td>156.0</td>\n",
       "      <td>0.0</td>\n",
       "      <td>0.0</td>\n",
       "      <td>20.0</td>\n",
       "      <td>4.0</td>\n",
       "      <td>0.0</td>\n",
       "      <td>0.0</td>\n",
       "      <td>0.0</td>\n",
       "      <td>...</td>\n",
       "      <td>0.0</td>\n",
       "      <td>0.0</td>\n",
       "      <td>0.0</td>\n",
       "      <td>0.0</td>\n",
       "      <td>0.0</td>\n",
       "      <td>0.0</td>\n",
       "      <td>0.0</td>\n",
       "      <td>0.0</td>\n",
       "      <td>0.0</td>\n",
       "      <td>0.0</td>\n",
       "    </tr>\n",
       "    <tr>\n",
       "      <th>7156</th>\n",
       "      <td>0.0</td>\n",
       "      <td>5.0</td>\n",
       "      <td>13.0</td>\n",
       "      <td>0.0</td>\n",
       "      <td>0.0</td>\n",
       "      <td>0.0</td>\n",
       "      <td>0.0</td>\n",
       "      <td>0.0</td>\n",
       "      <td>0.0</td>\n",
       "      <td>0.0</td>\n",
       "      <td>...</td>\n",
       "      <td>0.0</td>\n",
       "      <td>0.0</td>\n",
       "      <td>0.0</td>\n",
       "      <td>0.0</td>\n",
       "      <td>0.0</td>\n",
       "      <td>0.0</td>\n",
       "      <td>0.0</td>\n",
       "      <td>0.0</td>\n",
       "      <td>0.0</td>\n",
       "      <td>0.0</td>\n",
       "    </tr>\n",
       "    <tr>\n",
       "      <th>26966</th>\n",
       "      <td>0.0</td>\n",
       "      <td>0.0</td>\n",
       "      <td>4.0</td>\n",
       "      <td>0.0</td>\n",
       "      <td>0.0</td>\n",
       "      <td>1.0</td>\n",
       "      <td>0.0</td>\n",
       "      <td>0.0</td>\n",
       "      <td>0.0</td>\n",
       "      <td>0.0</td>\n",
       "      <td>...</td>\n",
       "      <td>0.0</td>\n",
       "      <td>0.0</td>\n",
       "      <td>0.0</td>\n",
       "      <td>0.0</td>\n",
       "      <td>0.0</td>\n",
       "      <td>0.0</td>\n",
       "      <td>0.0</td>\n",
       "      <td>0.0</td>\n",
       "      <td>0.0</td>\n",
       "      <td>0.0</td>\n",
       "    </tr>\n",
       "    <tr>\n",
       "      <th>26993</th>\n",
       "      <td>0.0</td>\n",
       "      <td>27.0</td>\n",
       "      <td>153.0</td>\n",
       "      <td>0.0</td>\n",
       "      <td>0.0</td>\n",
       "      <td>0.0</td>\n",
       "      <td>0.0</td>\n",
       "      <td>0.0</td>\n",
       "      <td>0.0</td>\n",
       "      <td>0.0</td>\n",
       "      <td>...</td>\n",
       "      <td>0.0</td>\n",
       "      <td>0.0</td>\n",
       "      <td>0.0</td>\n",
       "      <td>0.0</td>\n",
       "      <td>0.0</td>\n",
       "      <td>0.0</td>\n",
       "      <td>0.0</td>\n",
       "      <td>0.0</td>\n",
       "      <td>0.0</td>\n",
       "      <td>0.0</td>\n",
       "    </tr>\n",
       "  </tbody>\n",
       "</table>\n",
       "<p>5 rows × 1014 columns</p>\n",
       "</div>"
      ],
      "text/plain": [
       "           i1047  i1048  i1056  i1058  i1059  i1060  i1065  i1066  i1067  \\\n",
       "CLIENT_ID                                                                  \n",
       "7150         0.0    0.0    3.0    0.0    0.0    0.0    0.0    0.0    0.0   \n",
       "7154         0.0   16.0  156.0    0.0    0.0   20.0    4.0    0.0    0.0   \n",
       "7156         0.0    5.0   13.0    0.0    0.0    0.0    0.0    0.0    0.0   \n",
       "26966        0.0    0.0    4.0    0.0    0.0    1.0    0.0    0.0    0.0   \n",
       "26993        0.0   27.0  153.0    0.0    0.0    0.0    0.0    0.0    0.0   \n",
       "\n",
       "           i1068  ...  u8=17  u8=18  u8=19  u8=2  u8=20  u8=21  u8=6  u8=7  \\\n",
       "CLIENT_ID         ...                                                        \n",
       "7150         0.0  ...    0.0    0.0    0.0   0.0    0.0    0.0   0.0   0.0   \n",
       "7154         0.0  ...    0.0    0.0    0.0   0.0    0.0    0.0   0.0   0.0   \n",
       "7156         0.0  ...    0.0    0.0    0.0   0.0    0.0    0.0   0.0   0.0   \n",
       "26966        0.0  ...    0.0    0.0    0.0   0.0    0.0    0.0   0.0   0.0   \n",
       "26993        0.0  ...    0.0    0.0    0.0   0.0    0.0    0.0   0.0   0.0   \n",
       "\n",
       "           u8=8  u8=9  \n",
       "CLIENT_ID              \n",
       "7150        0.0   0.0  \n",
       "7154        0.0   0.0  \n",
       "7156        0.0   0.0  \n",
       "26966       0.0   0.0  \n",
       "26993       0.0   0.0  \n",
       "\n",
       "[5 rows x 1014 columns]"
      ]
     },
     "execution_count": 11,
     "metadata": {},
     "output_type": "execute_result"
    }
   ],
   "source": [
    "user_features_df = pd.read_csv('../data/FINAL_FEATURES_TRAINTEST.tsv', sep='\\t', index_col=0)\n",
    "user_features_df.head(5)"
   ]
  },
  {
   "cell_type": "code",
   "execution_count": 10,
   "id": "60d9260e-2284-4a6f-aae0-0075e55e151d",
   "metadata": {},
   "outputs": [
    {
     "data": {
      "text/plain": [
       "i1047    False\n",
       "i1048    False\n",
       "i1056    False\n",
       "i1058    False\n",
       "i1059    False\n",
       "         ...  \n",
       "u8=21     True\n",
       "u8=6      True\n",
       "u8=7      True\n",
       "u8=8      True\n",
       "u8=9      True\n",
       "Length: 1014, dtype: bool"
      ]
     },
     "execution_count": 10,
     "metadata": {},
     "output_type": "execute_result"
    }
   ],
   "source": [
    "user_features_df.isna().any()"
   ]
  },
  {
   "cell_type": "code",
   "execution_count": 11,
   "id": "b45f3c5e-c8c6-496b-ac75-f375e6db52a9",
   "metadata": {},
   "outputs": [
    {
     "data": {
      "text/plain": [
       "1    702\n",
       "0    312\n",
       "dtype: int64"
      ]
     },
     "execution_count": 11,
     "metadata": {},
     "output_type": "execute_result"
    }
   ],
   "source": [
    "user_features_df.isna().sum().value_counts()"
   ]
  },
  {
   "cell_type": "code",
   "execution_count": 12,
   "id": "fa1b5e7f-72dc-489c-944c-34e839392663",
   "metadata": {},
   "outputs": [
    {
     "data": {
      "text/plain": [
       "1"
      ]
     },
     "execution_count": 12,
     "metadata": {},
     "output_type": "execute_result"
    }
   ],
   "source": [
    "user_features_df.shape[0] - user_features_df.dropna().shape[0]"
   ]
  },
  {
   "cell_type": "code",
   "execution_count": 3,
   "id": "6efd6ac9-16ee-4667-8624-0bf9b582b965",
   "metadata": {},
   "outputs": [],
   "source": [
    "user_features_df = user_features_df.fillna(value=0.)"
   ]
  },
  {
   "cell_type": "code",
   "execution_count": 14,
   "id": "aae496cb-d65a-49a3-90ae-8ccb16125fd0",
   "metadata": {},
   "outputs": [
    {
     "data": {
      "text/plain": [
       "0    1014\n",
       "dtype: int64"
      ]
     },
     "execution_count": 14,
     "metadata": {},
     "output_type": "execute_result"
    }
   ],
   "source": [
    "user_features_df.isna().sum().value_counts()"
   ]
  },
  {
   "cell_type": "code",
   "execution_count": 12,
   "id": "e4e4cbc3-741c-4d32-9c8c-0d0e1ec34483",
   "metadata": {},
   "outputs": [
    {
     "data": {
      "text/html": [
       "<div>\n",
       "<style scoped>\n",
       "    .dataframe tbody tr th:only-of-type {\n",
       "        vertical-align: middle;\n",
       "    }\n",
       "\n",
       "    .dataframe tbody tr th {\n",
       "        vertical-align: top;\n",
       "    }\n",
       "\n",
       "    .dataframe thead th {\n",
       "        text-align: right;\n",
       "    }\n",
       "</style>\n",
       "<table border=\"1\" class=\"dataframe\">\n",
       "  <thead>\n",
       "    <tr style=\"text-align: right;\">\n",
       "      <th></th>\n",
       "      <th>TARGET</th>\n",
       "    </tr>\n",
       "    <tr>\n",
       "      <th>CLIENT_ID</th>\n",
       "      <th></th>\n",
       "    </tr>\n",
       "  </thead>\n",
       "  <tbody>\n",
       "    <tr>\n",
       "      <th>1011725</th>\n",
       "      <td>0</td>\n",
       "    </tr>\n",
       "    <tr>\n",
       "      <th>1018784</th>\n",
       "      <td>1</td>\n",
       "    </tr>\n",
       "    <tr>\n",
       "      <th>1021812</th>\n",
       "      <td>0</td>\n",
       "    </tr>\n",
       "    <tr>\n",
       "      <th>1024003</th>\n",
       "      <td>0</td>\n",
       "    </tr>\n",
       "    <tr>\n",
       "      <th>1025140</th>\n",
       "      <td>test</td>\n",
       "    </tr>\n",
       "  </tbody>\n",
       "</table>\n",
       "</div>"
      ],
      "text/plain": [
       "          TARGET\n",
       "CLIENT_ID       \n",
       "1011725        0\n",
       "1018784        1\n",
       "1021812        0\n",
       "1024003        0\n",
       "1025140     test"
      ]
     },
     "execution_count": 12,
     "metadata": {},
     "output_type": "execute_result"
    }
   ],
   "source": [
    "targ_df = pd.read_csv('../data/FINAL_TARGETS_DATES_TRAINTEST.tsv', sep='\\t', index_col=0).drop('RETRO_DT', axis=1)\n",
    "targ_df.head()"
   ]
  },
  {
   "cell_type": "code",
   "execution_count": 16,
   "id": "c6248b48-6e80-4adf-98b4-6248d853768e",
   "metadata": {},
   "outputs": [
    {
     "data": {
      "text/plain": [
       "0       92491\n",
       "1       34941\n",
       "test    31858\n",
       "Name: TARGET, dtype: int64"
      ]
     },
     "execution_count": 16,
     "metadata": {},
     "output_type": "execute_result"
    }
   ],
   "source": [
    "targ_df['TARGET'].value_counts()"
   ]
  },
  {
   "cell_type": "code",
   "execution_count": 17,
   "id": "637fe491-3e42-4776-99be-922cdffe5b4c",
   "metadata": {},
   "outputs": [
    {
     "data": {
      "text/plain": [
       "False"
      ]
     },
     "execution_count": 17,
     "metadata": {},
     "output_type": "execute_result"
    }
   ],
   "source": [
    "targ_df.shape[0] == user_features_df.shape[0]"
   ]
  },
  {
   "cell_type": "code",
   "execution_count": 13,
   "id": "a9879936-2873-4744-b94f-5d33b0107024",
   "metadata": {},
   "outputs": [
    {
     "data": {
      "text/plain": [
       "(99973, 1015)"
      ]
     },
     "execution_count": 13,
     "metadata": {},
     "output_type": "execute_result"
    }
   ],
   "source": [
    "targ_join_uf = targ_df.merge(right=user_features_df, how='inner', left_index=True, right_index=True)\n",
    "#targ_join_uf = targ_join_uf.dropna()\n",
    "targ_join_uf.shape"
   ]
  },
  {
   "cell_type": "code",
   "execution_count": 5,
   "id": "0814da3e-b9b5-4b2e-a307-1f04d8560dee",
   "metadata": {},
   "outputs": [
    {
     "data": {
      "text/plain": [
       "0       56279\n",
       "1       23611\n",
       "test    20082\n",
       "Name: TARGET, dtype: int64"
      ]
     },
     "execution_count": 5,
     "metadata": {},
     "output_type": "execute_result"
    }
   ],
   "source": [
    "targ_join_uf['TARGET'].value_counts() # WTF? В таблице призаков отсутствуют огромная часть пользователей, как из трейна"
   ]
  },
  {
   "cell_type": "code",
   "execution_count": 18,
   "id": "a40d5d23-3e08-4fb6-9851-dc242766756a",
   "metadata": {},
   "outputs": [
    {
     "data": {
      "text/plain": [
       "(702, 0)"
      ]
     },
     "execution_count": 18,
     "metadata": {},
     "output_type": "execute_result"
    }
   ],
   "source": [
    "targ_join_uf[targ_join_uf['TARGET'] != 'test'].isna().any().sum(), targ_join_uf[targ_join_uf['TARGET'] == 'test'].isna().any().sum()"
   ]
  },
  {
   "cell_type": "code",
   "execution_count": 37,
   "id": "3e092b5d-4102-41a3-b9ea-128822012664",
   "metadata": {},
   "outputs": [],
   "source": [
    "tr_data = targ_join_uf[targ_join_uf['TARGET'] != 'test']\n",
    "test_data = targ_join_uf[targ_join_uf['TARGET'] == 'test']"
   ]
  },
  {
   "cell_type": "code",
   "execution_count": 38,
   "id": "a6c5cab2-1466-499f-8d23-bafd548cd9e9",
   "metadata": {},
   "outputs": [],
   "source": [
    "tr_data.to_csv('train_num_features_with_target.csv')"
   ]
  },
  {
   "cell_type": "code",
   "execution_count": 11,
   "id": "673759a9-6c82-48a1-8235-8e6eed36c288",
   "metadata": {},
   "outputs": [
    {
     "data": {
      "text/plain": [
       "RETRO_DT    0\n",
       "TARGET      0\n",
       "i1047       0\n",
       "i1048       0\n",
       "i1056       0\n",
       "           ..\n",
       "u8=21       0\n",
       "u8=6        0\n",
       "u8=7        0\n",
       "u8=8        0\n",
       "u8=9        0\n",
       "Length: 1016, dtype: int64"
      ]
     },
     "execution_count": 11,
     "metadata": {},
     "output_type": "execute_result"
    }
   ],
   "source": [
    "tr_data.isna().sum()"
   ]
  },
  {
   "cell_type": "code",
   "execution_count": 35,
   "id": "3f1df3c1-66b6-48b9-bb5e-8406a7303eb6",
   "metadata": {},
   "outputs": [],
   "source": [
    "y = tr_data['TARGET'].astype(float).values\n",
    "X = tr_data.drop('TARGET', axis=1).values"
   ]
  },
  {
   "cell_type": "code",
   "execution_count": 36,
   "id": "a16825a1-f8fb-4209-99df-3ee8fad01656",
   "metadata": {},
   "outputs": [],
   "source": [
    "from sklearn.model_selection import train_test_split\n",
    "\n",
    "X_train, X_test, y_train, y_test =  train_test_split(X, y, stratify=y, train_size=0.85, shuffle=True)"
   ]
  },
  {
   "cell_type": "markdown",
   "id": "164f357b-f0b3-4945-966a-816e16b92d5e",
   "metadata": {},
   "source": [
    "# Prediction over user features"
   ]
  },
  {
   "cell_type": "markdown",
   "id": "02635055-49b9-4c35-bbbe-b383c4124386",
   "metadata": {},
   "source": [
    "## Dimension reduction"
   ]
  },
  {
   "cell_type": "code",
   "execution_count": 47,
   "id": "e1525ec1-0a3c-49cd-9c77-f1f5ccd1c641",
   "metadata": {},
   "outputs": [
    {
     "data": {
      "text/plain": [
       "((59757, 171), (8149, 171))"
      ]
     },
     "execution_count": 47,
     "metadata": {},
     "output_type": "execute_result"
    }
   ],
   "source": [
    "from sklearn.feature_selection import SelectFromModel\n",
    "from sklearn.linear_model import LogisticRegression\n",
    "\n",
    "sfm_selector = SelectFromModel(estimator=LogisticRegression(random_state=0))\n",
    "sfm_selector.fit(X_train, y_train)\n",
    "\n",
    "X_train_transformed = sfm_selector.transform(X_train)\n",
    "Xt_train, Xt_val, y_train, y_val = train_test_split(X_train_transformed, y_train, stratify=y_train, shuffle=True, train_size=0.88)\n",
    "Xt_train.shape, Xt_val.shape"
   ]
  },
  {
   "cell_type": "code",
   "execution_count": 54,
   "id": "8ec9cfb3-b5e0-4a17-bbfe-1a8d0ff2d0b6",
   "metadata": {},
   "outputs": [],
   "source": [
    "Xt_test = sfm_selector.transform(X_test)"
   ]
  },
  {
   "cell_type": "code",
   "execution_count": 39,
   "id": "20969914-484e-4c32-a8a6-cc5da984d91f",
   "metadata": {},
   "outputs": [
    {
     "name": "stderr",
     "output_type": "stream",
     "text": [
      "/home/jupyter-admin/.local/lib/python3.9/site-packages/sklearn/decomposition/_fastica.py:494: FutureWarning: Starting in v1.3, whiten='unit-variance' will be used by default.\n",
      "  warnings.warn(\n"
     ]
    },
    {
     "data": {
      "text/plain": [
       "((59757, 64), (8149, 64))"
      ]
     },
     "execution_count": 39,
     "metadata": {},
     "output_type": "execute_result"
    }
   ],
   "source": [
    "from sklearn.decomposition import SparsePCA, TruncatedSVD, KernelPCA, FastICA\n",
    "import pickle\n",
    "\n",
    "transformer = FastICA(n_components=64, random_state=0)\n",
    "transformer.fit(X_train)\n",
    "\n",
    "X_train_transformed = transformer.transform(X_train)\n",
    "\n",
    "Xt_train, Xt_val, y_train, y_val = train_test_split(X_train_transformed, y_train, stratify=y_train, shuffle=True, train_size=0.88)\n",
    "Xt_train.shape, Xt_val.shape"
   ]
  },
  {
   "cell_type": "code",
   "execution_count": 41,
   "id": "f64e6995-7613-4349-9be7-653f110738d3",
   "metadata": {},
   "outputs": [
    {
     "data": {
      "text/plain": [
       "(11984, 64)"
      ]
     },
     "execution_count": 41,
     "metadata": {},
     "output_type": "execute_result"
    }
   ],
   "source": [
    "Xt_test = transformer.transform(X_test)\n",
    "Xt_test.shape"
   ]
  },
  {
   "cell_type": "markdown",
   "id": "91877f96-c088-4357-b82d-2471b97d74b7",
   "metadata": {
    "tags": []
   },
   "source": [
    "## MLP classifier"
   ]
  },
  {
   "cell_type": "code",
   "execution_count": 44,
   "id": "dc3a2ba6-5e58-447c-9b26-5b5cfc522a84",
   "metadata": {},
   "outputs": [],
   "source": [
    "class MLP(nn.Module):\n",
    "    def __init__(self):\n",
    "        super().__init__()\n",
    "        self.linear1 = nn.Linear(64, 1)\n",
    "        #self.linear2 = nn.Linear(64, 32)\n",
    "        #self.linear3 = nn.Linear(32, 1)\n",
    "        \n",
    "    def forward(self, x):\n",
    "        x = self.linear1(x)\n",
    "        #x = F.elu(self.linear2(x))\n",
    "        #x = self.linear3(x)\n",
    "        return x"
   ]
  },
  {
   "cell_type": "code",
   "execution_count": 45,
   "id": "0ad8fb3c-1588-40d6-a058-685f9ffcd916",
   "metadata": {},
   "outputs": [],
   "source": [
    "from sklearn.metrics import roc_auc_score\n",
    "from tqdm import tqdm\n",
    "\n",
    "def train_epoch(model, X, y, criterion, optimizer):\n",
    "    model.train()\n",
    "    optimizer.zero_grad()\n",
    "    loss_val = 0.\n",
    "    aucroc = 0.\n",
    "    out = model(X).squeeze(-1)\n",
    "    loss = criterion(out, y.to(torch.float))\n",
    "    \n",
    "    loss.backward()\n",
    "    optimizer.step()\n",
    "    \n",
    "    loss_val = loss.item()\n",
    "    aucroc = roc_auc_score(y.detach(), out.detach()).item()\n",
    "    return loss_val, aucroc\n",
    "\n",
    "@torch.no_grad()\n",
    "def eval_epoch(model, X, y, criterion):\n",
    "    model.eval()\n",
    "    loss_val = 0.\n",
    "    aucroc = 0.\n",
    "    out = model(X).squeeze(-1)\n",
    "    loss = criterion(out, y.to(torch.float))\n",
    "    \n",
    "    loss_val = loss.item()\n",
    "    aucroc = roc_auc_score(y.detach(), out.detach()).item()\n",
    "    return loss_val, aucroc\n",
    "\n",
    "import matplotlib.pyplot as plt\n",
    "def plot_hist(train_hist):\n",
    "    train_loss_hist, val_loss_hist, train_aucroc_hist, val_aucroc_hist = train_hist\n",
    "    _, (ax1, ax2) = plt.subplots(1, 2, figsize=(13, 5))\n",
    "    ax1.plot(train_loss_hist, label='train loss')\n",
    "    ax1.plot(val_loss_hist, label='val loss')\n",
    "    ax1.set_title('Loss plots')\n",
    "    ax1.legend()\n",
    "    ax2.plot(train_aucroc_hist, label='train aucroc')\n",
    "    ax2.plot(val_aucroc_hist, label='val aucroc')\n",
    "    ax2.set_title('Training and Validation Metric (F1-Score)')\n",
    "    ax2.legend()\n",
    "    plt.show()\n",
    "\n",
    "def train_model(model, X_train, y_train, criterion, optimizer, do_eval=False, epochs=100, X_val=None, y_val=None):\n",
    "    train_loss_hist = []\n",
    "    val_loss_hist = []\n",
    "    train_auc_hist = []\n",
    "    val_auc_hist = []\n",
    "    \n",
    "    with tqdm(range(1, epochs + 1)) as tepoch:\n",
    "        for e in tepoch:\n",
    "            model.train()\n",
    "            tr_loss, tr_auc = train_epoch(model, X_train, y_train, criterion, optimizer)\n",
    "            train_loss_hist.append(tr_loss)\n",
    "            train_auc_hist.append(tr_auc)\n",
    "            if do_eval:\n",
    "                model.eval()\n",
    "                val_loss, val_auc = eval_epoch(model, X_val, y_val, criterion)\n",
    "                val_loss_hist.append(val_loss)\n",
    "                val_auc_hist.append(val_auc)\n",
    "    \n",
    "    return train_loss_hist, val_loss_hist, train_auc_hist, val_auc_hist\n",
    "    "
   ]
  },
  {
   "cell_type": "code",
   "execution_count": 46,
   "id": "79ec5b3b-0379-47c1-b3d4-657b195bbaa1",
   "metadata": {},
   "outputs": [],
   "source": [
    "Xt_train = torch.from_numpy(Xt_train).to(torch.float)\n",
    "Xt_val = torch.from_numpy(Xt_val).to(torch.float)\n",
    "y_train = torch.from_numpy(y_train)\n",
    "y_val = torch.from_numpy(y_val)"
   ]
  },
  {
   "cell_type": "code",
   "execution_count": 47,
   "id": "f0e0d5f3-bce2-4cd9-96f5-8b3cbe21e878",
   "metadata": {},
   "outputs": [],
   "source": [
    "Xt_test = torch.from_numpy(Xt_test).to(torch.float)\n",
    "y_test = torch.from_numpy(y_test)"
   ]
  },
  {
   "cell_type": "code",
   "execution_count": 48,
   "id": "ecbd184c-0bd4-4c6a-8c0b-396b603a0f07",
   "metadata": {},
   "outputs": [],
   "source": [
    "# pos_weights = torch.from_numpy((targ_df['TARGET'].value_counts() / len(targ_df)).values)\n",
    "# weights = []\n",
    "# for y in yt_train:\n",
    "#     weights.append(pos_weights[y.to(int)])\n",
    "# weights = torch.Tensor(weights)"
   ]
  },
  {
   "cell_type": "code",
   "execution_count": 49,
   "id": "21b2efcc-034f-4e0b-b3a7-3ef4b628adec",
   "metadata": {},
   "outputs": [
    {
     "name": "stderr",
     "output_type": "stream",
     "text": [
      "100%|██████████| 500/500 [00:55<00:00,  8.97it/s]\n"
     ]
    },
    {
     "data": {
      "image/png": "[encoded data removed]",
      "text/plain": [
       "<Figure size 1300x500 with 2 Axes>"
      ]
     },
     "metadata": {},
     "output_type": "display_data"
    }
   ],
   "source": [
    "model = MLP()\n",
    "criterion = nn.BCEWithLogitsLoss()\n",
    "optimizer = torch.optim.Adam(model.parameters(), lr=1e-3, weight_decay=1e-4)\n",
    "hist = train_model(model, Xt_train, y_train, criterion, optimizer, epochs=500, do_eval=True, X_val=Xt_val, y_val=y_val)\n",
    "plot_hist(hist)"
   ]
  },
  {
   "cell_type": "code",
   "execution_count": 50,
   "id": "7f94a669-21e8-4cef-8ab6-833b5e0ee365",
   "metadata": {},
   "outputs": [
    {
     "data": {
      "text/plain": [
       "(0.6377843618392944, 0.526262037664652)"
      ]
     },
     "execution_count": 50,
     "metadata": {},
     "output_type": "execute_result"
    }
   ],
   "source": [
    "eval_epoch(model, Xt_test, y_test, nn.BCEWithLogitsLoss())"
   ]
  },
  {
   "cell_type": "markdown",
   "id": "804fb5fb-8101-49a9-aa74-26186de662e7",
   "metadata": {},
   "source": [
    "Experiment logs\n",
    "\n",
    "1. SparsePCA 64 with weights - 0.512 (don't know about overfit)\n",
    "2. SparsePCA 32 - 0.505 - overfitted\n",
    "3. SparsePCA 16 - 0.4999 (huge overfit)\n",
    "4. LSA (TruncatedSVD) 64, 10 it - 0.492, not stable at all\n",
    "5. LSA (TruncatedSVD) 32, 10 it - 0.509, huge overfit\n",
    "6. LSA (TruncatedSVD) 8, 10 it - 0.498, still huge overfit\n",
    "\n",
    "1-6 - 2-3 layers\n",
    "\n",
    "7. FastICA 16 - 0.519, good learning graph\n",
    "8. FASTICA 32 - 0.52-0.53, underfitting (?), still not bad\n",
    "9. FASTICA 64 - 0.524 - underfit, good\n",
    "10. SparsePCA 64 (1-3 layer) - about 0.53, kinda overfitting, on train about 0.54\n",
    "11. SFM with Logreg 0.51-0.52 - a bit overfit"
   ]
  },
  {
   "cell_type": "code",
   "execution_count": null,
   "id": "f63209c0-0824-427d-80f2-7005b5ab699c",
   "metadata": {},
   "outputs": [],
   "source": [
    "X_sub = torch.from_numpy(test_data.drop('TARGET', axis=1).values).to(torch.float).to(DEVICE)\n",
    "model.eval()\n",
    "out = torch.sigmoid(model(X_sub))\n",
    "preds = torch.shape()\n",
    "preds = out[out > 1]"
   ]
  },
  {
   "cell_type": "code",
   "execution_count": null,
   "id": "2c37b8c5-83ec-4f01-8e6f-c61bd42217da",
   "metadata": {},
   "outputs": [],
   "source": []
  },
  {
   "cell_type": "code",
   "execution_count": 9,
   "id": "124f65bb-5bf7-475a-9b4c-e0b80e04f791",
   "metadata": {},
   "outputs": [
    {
     "name": "stderr",
     "output_type": "stream",
     "text": [
      "/home/jupyter-admin/.local/lib/python3.9/site-packages/sklearn/decomposition/_fastica.py:494: FutureWarning: Starting in v1.3, whiten='unit-variance' will be used by default.\n",
      "  warnings.warn(\n"
     ]
    }
   ],
   "source": [
    "from sklearn.decomposition import FastICA\n",
    "import pickle\n",
    "# Fit PCA over all data available\n",
    "X = pd.read_csv('train_num_features_with_target.csv').drop(['TARGET', 'CLIENT_ID'], axis=1)\n",
    "transformer = FastICA(n_components=64, random_state=0)\n",
    "transformer.fit(X)\n",
    "with open('FastICATransformer', 'wb') as tr_file:\n",
    "    pickle.dump(transformer, tr_file)"
   ]
  },
  {
   "cell_type": "code",
   "execution_count": null,
   "id": "76c44c06-1005-4ece-bb0f-fbce4fbd1091",
   "metadata": {},
   "outputs": [],
   "source": [
    "X_transformed = transformer.transform(X)\n",
    "\n",
    "#add weights for target class imbalance before\n",
    "pos_weights = torch.from_numpy((targ_df['TARGET'].value_counts() / len(targ_df)).values)\n",
    "weights = []\n",
    "for y in yt_train:\n",
    "    weights.append(pos_weights[y.to(int)])\n",
    "weights = torch.Tensor(weights)\n",
    "\n",
    "#Fit model over all data\n",
    "model = MLP()\n",
    "criterion = nn.BCEWithLogitsLoss()\n",
    "optimizer = torch.optim.Adam(model.parameters(), lr=3e-4, weight_decay=1e-4)\n",
    "hist = train_model(model, Xt_train, y_train, criterion, optimizer, epochs=200, do_eval=True, X_val=Xt_val, y_val=y_val)\n",
    "plot_hist(hist)\n"
   ]
  },
  {
   "cell_type": "markdown",
   "id": "b25d36f2-028a-4d77-b94f-e5665052b67e",
   "metadata": {},
   "source": [
    "## Gradient Boosting (catboost)"
   ]
  },
  {
   "cell_type": "code",
   "execution_count": 58,
   "id": "1e60c626-b501-4d64-99ae-0c1aa71780ea",
   "metadata": {},
   "outputs": [],
   "source": [
    "import catboost as cb"
   ]
  },
  {
   "cell_type": "code",
   "execution_count": null,
   "id": "8af5a63a-fd2a-44cd-abe0-3bf6042e4a5a",
   "metadata": {},
   "outputs": [],
   "source": [
    "md = cb.CatBoostRegressor(loss_function='RMSE')\n"
   ]
  }
 ],
 "metadata": {
  "kernelspec": {
   "display_name": "Python 3 (ipykernel)",
   "language": "python",
   "name": "python3"
  },
  "language_info": {
   "codemirror_mode": {
    "name": "ipython",
    "version": 3
   },
   "file_extension": ".py",
   "mimetype": "text/x-python",
   "name": "python",
   "nbconvert_exporter": "python",
   "pygments_lexer": "ipython3",
   "version": "3.9.7"
  }
 },
 "nbformat": 4,
 "nbformat_minor": 5
}
