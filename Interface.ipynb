{
 "cells": [
  {
   "cell_type": "code",
   "execution_count": null,
   "id": "14264bab-21cb-4578-9799-07b1f14ca3bd",
   "metadata": {},
   "outputs": [],
   "source": [
    "path = input()"
   ]
  },
  {
   "cell_type": "code",
   "execution_count": null,
   "id": "a136a616-c1e9-4fd9-88a8-7c1aff5fb3e6",
   "metadata": {},
   "outputs": [],
   "source": [
    "data = read.csv(path, sep = \";\")"
   ]
  }
 ],
 "metadata": {
  "kernelspec": {
   "display_name": "Python 3 (ipykernel)",
   "language": "python",
   "name": "python3"
  },
  "language_info": {
   "codemirror_mode": {
    "name": "ipython",
    "version": 3
   },
   "file_extension": ".py",
   "mimetype": "text/x-python",
   "name": "python",
   "nbconvert_exporter": "python",
   "pygments_lexer": "ipython3",
   "version": "3.9.7"
  }
 },
 "nbformat": 4,
 "nbformat_minor": 5
}
