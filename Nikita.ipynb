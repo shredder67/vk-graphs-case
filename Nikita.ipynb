{
 "cells": [
  {
   "cell_type": "code",
   "execution_count": 1,
   "id": "04da26f2-64cf-4601-b882-fdf3e7957d7a",
   "metadata": {},
   "outputs": [],
   "source": [
    "import json\n",
    "import torch\n",
    "import pandas as pd\n",
    "import numpy as np\n",
    "from collections import Counter\n",
    "from torch_geometric import nn as geo_nn\n",
    "from sklearn.metrics import roc_auc_score\n",
    "import torch.nn as nn\n",
    "from torch_geometric.loader import DataLoader\n",
    "from torch.nn import functional as F\n",
    "from torch_scatter import scatter_mean"
   ]
  },
  {
   "cell_type": "code",
   "execution_count": 13,
   "id": "26a2922f-3b3d-449a-8219-5633ef8649b2",
   "metadata": {},
   "outputs": [],
   "source": [
    "features_friends = pd.read_csv(\"data/FINAL_FEATURES_FRIENDS.tsv\", sep='\\t')\n",
    "all_seq_traintest = pd.read_csv(\"data/FINAL_ALL_SEQUENCES_TRAINTEST.tsv\", sep='\\t')\n",
    "features_traintest = pd.read_csv(\"data/FINAL_FEATURES_TRAINTEST.tsv\", sep='\\t')\n",
    "target_traintest = pd.read_csv(\"data/FINAL_TARGETS_DATES_TRAINTEST.tsv\", sep='\\t')\n",
    "seq_matrix = pd.read_csv(\"data/FINAL_SEQUENCES_MATRIX.csv\", sep='\\t')"
   ]
  },
  {
   "cell_type": "code",
   "execution_count": null,
   "id": "6c85da62-8c5d-4ae8-ba62-4d67b208dbcc",
   "metadata": {},
   "outputs": [],
   "source": []
  },
  {
   "cell_type": "code",
   "execution_count": null,
   "id": "73c562f3-f150-45b1-be59-6b26f9177b8a",
   "metadata": {},
   "outputs": [],
   "source": []
  },
  {
   "cell_type": "code",
   "execution_count": 33,
   "id": "3747f0a7-933e-4e47-9c60-8ebab583fb3e",
   "metadata": {},
   "outputs": [],
   "source": [
    "target_traintest = pd.read_csv(\"data/FINAL_TARGETS_DATES_TRAINTEST.tsv\", sep='\\t')\n",
    "\n",
    "test_ids  = target_traintest[target_traintest[\"TARGET\"] == \"test\"][\"CLIENT_ID\"].values\n",
    "train_ids = target_traintest[target_traintest[\"TARGET\"] != \"test\"][\"CLIENT_ID\"].values"
   ]
  },
  {
   "cell_type": "code",
   "execution_count": 34,
   "id": "eae199a6-666d-443c-86a6-e8bb3f0445e5",
   "metadata": {},
   "outputs": [
    {
     "data": {
      "text/html": [
       "<div>\n",
       "<style scoped>\n",
       "    .dataframe tbody tr th:only-of-type {\n",
       "        vertical-align: middle;\n",
       "    }\n",
       "\n",
       "    .dataframe tbody tr th {\n",
       "        vertical-align: top;\n",
       "    }\n",
       "\n",
       "    .dataframe thead th {\n",
       "        text-align: right;\n",
       "    }\n",
       "</style>\n",
       "<table border=\"1\" class=\"dataframe\">\n",
       "  <thead>\n",
       "    <tr style=\"text-align: right;\">\n",
       "      <th></th>\n",
       "      <th>CLIENT_ID</th>\n",
       "      <th>RETRO_DT</th>\n",
       "      <th>TARGET</th>\n",
       "      <th>i1047</th>\n",
       "      <th>i1048</th>\n",
       "      <th>i1056</th>\n",
       "      <th>i1058</th>\n",
       "      <th>i1059</th>\n",
       "      <th>i1060</th>\n",
       "      <th>i1065</th>\n",
       "      <th>...</th>\n",
       "      <th>u8=17</th>\n",
       "      <th>u8=18</th>\n",
       "      <th>u8=19</th>\n",
       "      <th>u8=2</th>\n",
       "      <th>u8=20</th>\n",
       "      <th>u8=21</th>\n",
       "      <th>u8=6</th>\n",
       "      <th>u8=7</th>\n",
       "      <th>u8=8</th>\n",
       "      <th>u8=9</th>\n",
       "    </tr>\n",
       "  </thead>\n",
       "  <tbody>\n",
       "    <tr>\n",
       "      <th>0</th>\n",
       "      <td>1011725</td>\n",
       "      <td>20210501</td>\n",
       "      <td>0</td>\n",
       "      <td>0.0</td>\n",
       "      <td>0.0</td>\n",
       "      <td>304.0</td>\n",
       "      <td>0.0</td>\n",
       "      <td>0.0</td>\n",
       "      <td>28.0</td>\n",
       "      <td>165.0</td>\n",
       "      <td>...</td>\n",
       "      <td>0.0</td>\n",
       "      <td>0.0</td>\n",
       "      <td>0.0</td>\n",
       "      <td>0.0</td>\n",
       "      <td>0.0</td>\n",
       "      <td>0.0</td>\n",
       "      <td>0.0</td>\n",
       "      <td>0.0</td>\n",
       "      <td>0.0</td>\n",
       "      <td>0.0</td>\n",
       "    </tr>\n",
       "    <tr>\n",
       "      <th>1</th>\n",
       "      <td>1018784</td>\n",
       "      <td>20210501</td>\n",
       "      <td>1</td>\n",
       "      <td>0.0</td>\n",
       "      <td>3.0</td>\n",
       "      <td>157.0</td>\n",
       "      <td>0.0</td>\n",
       "      <td>0.0</td>\n",
       "      <td>0.0</td>\n",
       "      <td>92.0</td>\n",
       "      <td>...</td>\n",
       "      <td>0.0</td>\n",
       "      <td>0.0</td>\n",
       "      <td>0.0</td>\n",
       "      <td>0.0</td>\n",
       "      <td>0.0</td>\n",
       "      <td>0.0</td>\n",
       "      <td>0.0</td>\n",
       "      <td>0.0</td>\n",
       "      <td>0.0</td>\n",
       "      <td>0.0</td>\n",
       "    </tr>\n",
       "    <tr>\n",
       "      <th>2</th>\n",
       "      <td>1021812</td>\n",
       "      <td>20210501</td>\n",
       "      <td>0</td>\n",
       "      <td>0.0</td>\n",
       "      <td>250.0</td>\n",
       "      <td>314.0</td>\n",
       "      <td>3.0</td>\n",
       "      <td>12.0</td>\n",
       "      <td>525.0</td>\n",
       "      <td>107.0</td>\n",
       "      <td>...</td>\n",
       "      <td>0.0</td>\n",
       "      <td>0.0</td>\n",
       "      <td>0.0</td>\n",
       "      <td>0.0</td>\n",
       "      <td>0.0</td>\n",
       "      <td>0.0</td>\n",
       "      <td>0.0</td>\n",
       "      <td>0.0</td>\n",
       "      <td>0.0</td>\n",
       "      <td>0.0</td>\n",
       "    </tr>\n",
       "    <tr>\n",
       "      <th>3</th>\n",
       "      <td>1024003</td>\n",
       "      <td>20210501</td>\n",
       "      <td>0</td>\n",
       "      <td>0.0</td>\n",
       "      <td>4.0</td>\n",
       "      <td>17.0</td>\n",
       "      <td>0.0</td>\n",
       "      <td>3.0</td>\n",
       "      <td>3.0</td>\n",
       "      <td>10.0</td>\n",
       "      <td>...</td>\n",
       "      <td>0.0</td>\n",
       "      <td>0.0</td>\n",
       "      <td>0.0</td>\n",
       "      <td>0.0</td>\n",
       "      <td>0.0</td>\n",
       "      <td>0.0</td>\n",
       "      <td>0.0</td>\n",
       "      <td>0.0</td>\n",
       "      <td>0.0</td>\n",
       "      <td>0.0</td>\n",
       "    </tr>\n",
       "    <tr>\n",
       "      <th>4</th>\n",
       "      <td>1026390</td>\n",
       "      <td>20210501</td>\n",
       "      <td>1</td>\n",
       "      <td>0.0</td>\n",
       "      <td>0.0</td>\n",
       "      <td>255.0</td>\n",
       "      <td>0.0</td>\n",
       "      <td>17.0</td>\n",
       "      <td>0.0</td>\n",
       "      <td>168.0</td>\n",
       "      <td>...</td>\n",
       "      <td>0.0</td>\n",
       "      <td>0.0</td>\n",
       "      <td>0.0</td>\n",
       "      <td>0.0</td>\n",
       "      <td>0.0</td>\n",
       "      <td>0.0</td>\n",
       "      <td>0.0</td>\n",
       "      <td>0.0</td>\n",
       "      <td>0.0</td>\n",
       "      <td>0.0</td>\n",
       "    </tr>\n",
       "  </tbody>\n",
       "</table>\n",
       "<p>5 rows × 1017 columns</p>\n",
       "</div>"
      ],
      "text/plain": [
       "   CLIENT_ID  RETRO_DT  TARGET  i1047  i1048  i1056  i1058  i1059  i1060  \\\n",
       "0    1011725  20210501       0    0.0    0.0  304.0    0.0    0.0   28.0   \n",
       "1    1018784  20210501       1    0.0    3.0  157.0    0.0    0.0    0.0   \n",
       "2    1021812  20210501       0    0.0  250.0  314.0    3.0   12.0  525.0   \n",
       "3    1024003  20210501       0    0.0    4.0   17.0    0.0    3.0    3.0   \n",
       "4    1026390  20210501       1    0.0    0.0  255.0    0.0   17.0    0.0   \n",
       "\n",
       "   i1065  ...  u8=17  u8=18  u8=19  u8=2  u8=20  u8=21  u8=6  u8=7  u8=8  u8=9  \n",
       "0  165.0  ...    0.0    0.0    0.0   0.0    0.0    0.0   0.0   0.0   0.0   0.0  \n",
       "1   92.0  ...    0.0    0.0    0.0   0.0    0.0    0.0   0.0   0.0   0.0   0.0  \n",
       "2  107.0  ...    0.0    0.0    0.0   0.0    0.0    0.0   0.0   0.0   0.0   0.0  \n",
       "3   10.0  ...    0.0    0.0    0.0   0.0    0.0    0.0   0.0   0.0   0.0   0.0  \n",
       "4  168.0  ...    0.0    0.0    0.0   0.0    0.0    0.0   0.0   0.0   0.0   0.0  \n",
       "\n",
       "[5 rows x 1017 columns]"
      ]
     },
     "execution_count": 34,
     "metadata": {},
     "output_type": "execute_result"
    }
   ],
   "source": [
    "features_traintest = pd.read_csv(\"data/FINAL_FEATURES_TRAINTEST.tsv\", sep='\\t')\n",
    "\n",
    "train_target_features = pd.merge(target_traintest[target_traintest[\"TARGET\"] != \"test\"], features_traintest, \n",
    "                                 left_on=\"CLIENT_ID\", right_on=\"CLIENT_ID\")\n",
    "train_target_features.fillna(0, inplace=True)\n",
    "train_target_features[\"TARGET\"] = train_target_features[\"TARGET\"].astype(int)\n",
    "train_target_features.head()"
   ]
  },
  {
   "cell_type": "markdown",
   "id": "11ed0fcc-095e-46e7-8664-24e32e268b21",
   "metadata": {},
   "source": [
    "## GAT"
   ]
  },
  {
   "cell_type": "code",
   "execution_count": 28,
   "id": "de10d91a-c0ca-484d-80b8-886a76acb9f8",
   "metadata": {
    "tags": []
   },
   "outputs": [
    {
     "data": {
      "text/plain": [
       "61221    [(x, [tensor([0., 0., 0.,  ..., 0., 0., 0.], d...\n",
       "33134    [(x, [tensor([  0.,   4., 467.,  ...,   0.,   ...\n",
       "54375    [(x, [tensor([  0.,   1., 720.,  ...,   0.,   ...\n",
       "53613    [(x, [tensor([   0.,    0., 1217.,  ...,    0....\n",
       "50411    [(x, [tensor([ 0.,  0., 15.,  ...,  0.,  0.,  ...\n",
       "78383    [(x, [tensor([0., 0., 0.,  ..., 0., 0., 0.], d...\n",
       "14471    [(x, [tensor([  0.,   0., 580.,  ...,   0.,   ...\n",
       "27327    [(x, [tensor([ 0.,  0., 17.,  ...,  0.,  0.,  ...\n",
       "52440    [(x, [tensor([ 0.,  1., 56.,  ...,  0.,  0.,  ...\n",
       "2189     [(x, [tensor([0., 0., 3.,  ..., 0., 0., 0.], d...\n",
       "dtype: object"
      ]
     },
     "execution_count": 28,
     "metadata": {},
     "output_type": "execute_result"
    }
   ],
   "source": [
    "from torch_geometric.data import Data\n",
    "from torch_geometric.transforms import ToUndirected\n",
    "\n",
    "to_und = ToUndirected()\n",
    "\n",
    "def make_data(x):\n",
    "    fr_feat = features_friends[features_friends[\"CLIENT_ID\"] == x[\"CLIENT_ID\"]]\n",
    "    num_friends = fr_feat.shape[0]\n",
    "    edge_index = np.hstack([np.arange(1, num_friends + 1)[:, None], np.zeros(shape=[num_friends, 1], dtype=np.int64)])\n",
    "    y = x[\"TARGET\"]\n",
    "    res = Data(x=torch.from_numpy(np.concatenate([np.array(x.drop([\"CLIENT_ID\", \"RETRO_DT\", \"TARGET\"]))[None, :], \n",
    "                                                    np.array(fr_feat.drop([\"CLIENT_ID\", \"FRIEND_ID\"], axis=1))])), \n",
    "               edge_index=torch.from_numpy(edge_index).T,\n",
    "               y=y,\n",
    "               client_id = x[\"CLIENT_ID\"])\n",
    "    res = to_und(res)\n",
    "    return res\n",
    "\n",
    "friends_dataset = train_target_features.apply(lambda x: make_data(x), axis=1)\n",
    "friends_dataset.sample(10)"
   ]
  },
  {
   "cell_type": "code",
   "execution_count": 30,
   "id": "99c0aa5e-d1af-4006-ab32-230bac16c5e6",
   "metadata": {
    "tags": []
   },
   "outputs": [],
   "source": [
    "mask = np.random.choice(friends_dataset.shape[0], size=friends_dataset.shape[0], replace=False)\n",
    "ratio = int(0.8 * len(mask))\n",
    "train_dataset, val_dataset = friends_dataset[mask[:ratio]].values, friends_dataset[mask[ratio:]].values"
   ]
  },
  {
   "cell_type": "code",
   "execution_count": 32,
   "id": "3e815b75-9c73-4e42-ae34-2af160a1da7e",
   "metadata": {},
   "outputs": [],
   "source": [
    "torch.save(train_dataset, \"data/processed/train_dataset.pt\")\n",
    "torch.save(val_dataset, \"data/processed/val_dataset.pt\")\n",
    "#torch.save(test_dataset, \"data/processed/test_dataset.pt\")"
   ]
  },
  {
   "cell_type": "code",
   "execution_count": 67,
   "id": "aff5fae3-f455-435a-abfc-0a32f59f9422",
   "metadata": {},
   "outputs": [],
   "source": [
    "from torch_geometric.loader import DataLoader\n",
    "\n",
    "dataloaders = {\"train\": DataLoader(train_dataset, batch_size=10_000),\n",
    "               \"val\": DataLoader(val_dataset, batch_size=1000)}"
   ]
  },
  {
   "cell_type": "code",
   "execution_count": 73,
   "id": "a593ca7f-173a-4a3c-9dcb-8462f150f837",
   "metadata": {},
   "outputs": [],
   "source": [
    "class NodeEncoder(Module):\n",
    "    def __init__(self, in_features, hid_features, out_features):\n",
    "        super().__init__()\n",
    "        self.linear_in = Linear(in_features, in_features)\n",
    "        self.gat = GATv2Conv(in_channels=in_features, \n",
    "                       hidden_channels=hid_features, \n",
    "                       out_channels=hid_features,\n",
    "                       num_layers=1)\n",
    "        self.linear_out = Linear(hid_features, out_features)\n",
    "        \n",
    "    def forward(self, data):\n",
    "        x, edges = data.x, data.edge_index\n",
    "        x = self.gat(relu(self.linear_in(x.float())), edges, )\n",
    "        x = self.linear_out(relu(x))\n",
    "        return softmax(scatter_mean(x, data.batch, dim=0), dim=1)\n",
    "\n",
    "node_encoder = NodeEncoder(features_traintest.shape[1]-1, 512, 2)"
   ]
  },
  {
   "cell_type": "code",
   "execution_count": 74,
   "id": "cad96c34-cc8a-4375-864f-e571e4b4245c",
   "metadata": {},
   "outputs": [
    {
     "name": "stdout",
     "output_type": "stream",
     "text": [
      "torch.Size([10000, 2])\n"
     ]
    }
   ],
   "source": [
    "for i in dataloaders[\"train\"]:\n",
    "    res = node_encoder(i)\n",
    "    print(res.shape)\n",
    "    break"
   ]
  },
  {
   "cell_type": "code",
   "execution_count": 75,
   "id": "1e3c9dcc-0d04-4b84-90f5-f3336cb306b7",
   "metadata": {},
   "outputs": [
    {
     "data": {
      "text/plain": [
       "tensor([0, 1, 1,  ..., 0, 0, 1], dtype=torch.int32)"
      ]
     },
     "execution_count": 75,
     "metadata": {},
     "output_type": "execute_result"
    }
   ],
   "source": [
    "i.y.int()"
   ]
  },
  {
   "cell_type": "code",
   "execution_count": 76,
   "id": "907bff5b-50be-4e09-b75c-fd7d1039d5d1",
   "metadata": {},
   "outputs": [
    {
     "data": {
      "text/plain": [
       "tensor([[1.0000e+00, 9.6783e-23],\n",
       "        [0.0000e+00, 1.0000e+00],\n",
       "        [0.0000e+00, 1.0000e+00],\n",
       "        ...,\n",
       "        [0.0000e+00, 1.0000e+00],\n",
       "        [5.0094e-01, 4.9906e-01],\n",
       "        [6.7523e-29, 1.0000e+00]], grad_fn=<SoftmaxBackward0>)"
      ]
     },
     "execution_count": 76,
     "metadata": {},
     "output_type": "execute_result"
    }
   ],
   "source": [
    "res"
   ]
  },
  {
   "cell_type": "code",
   "execution_count": 72,
   "id": "db9a346f-e292-498e-8246-6e3d7ac477f1",
   "metadata": {},
   "outputs": [
    {
     "data": {
      "text/plain": [
       "tensor([0.2742, 0.7258])"
      ]
     },
     "execution_count": 72,
     "metadata": {},
     "output_type": "execute_result"
    }
   ],
   "source": [
    "class_weights = target_traintest[target_traintest[\"TARGET\"] != \"test\"][\"TARGET\"].values.astype(int).mean()\n",
    "class_weights = torch.FloatTensor([class_weights, 1-class_weights])\n",
    "class_weights"
   ]
  },
  {
   "cell_type": "code",
   "execution_count": 77,
   "id": "0092c4b0-fbb1-48b1-8036-468048906849",
   "metadata": {
    "collapsed": true,
    "jupyter": {
     "outputs_hidden": true
    },
    "tags": []
   },
   "outputs": [
    {
     "data": {
      "image/png": "[encoded data removed]",
      "text/plain": [
       "<Figure size 640x480 with 1 Axes>"
      ]
     },
     "metadata": {},
     "output_type": "display_data"
    },
    {
     "data": {
      "image/png": "[encoded data removed]",
      "text/plain": [
       "<Figure size 640x480 with 1 Axes>"
      ]
     },
     "metadata": {},
     "output_type": "display_data"
    },
    {
     "ename": "KeyboardInterrupt",
     "evalue": "",
     "output_type": "error",
     "traceback": [
      "\u001b[0;31m---------------------------------------------------------------------------\u001b[0m",
      "\u001b[0;31mKeyboardInterrupt\u001b[0m                         Traceback (most recent call last)",
      "Cell \u001b[0;32mIn [77], line 49\u001b[0m\n\u001b[1;32m     47\u001b[0m         plt\u001b[38;5;241m.\u001b[39mshow()\n\u001b[1;32m     48\u001b[0m     \u001b[38;5;28;01mreturn\u001b[39;00m score\n\u001b[0;32m---> 49\u001b[0m score \u001b[38;5;241m=\u001b[39m \u001b[43mtrain\u001b[49m\u001b[43m(\u001b[49m\u001b[43mnode_encoder\u001b[49m\u001b[43m,\u001b[49m\u001b[43m \u001b[49m\u001b[43mdataloaders\u001b[49m\u001b[43m)\u001b[49m\n",
      "Cell \u001b[0;32mIn [77], line 22\u001b[0m, in \u001b[0;36mtrain\u001b[0;34m(model, dataloaders, epochs, class_weights, verbose, lr)\u001b[0m\n\u001b[1;32m     20\u001b[0m l \u001b[38;5;241m=\u001b[39m loss(out, data\u001b[38;5;241m.\u001b[39my\u001b[38;5;241m.\u001b[39mlong())\n\u001b[1;32m     21\u001b[0m losses\u001b[38;5;241m.\u001b[39mappend(l\u001b[38;5;241m.\u001b[39mitem())\n\u001b[0;32m---> 22\u001b[0m \u001b[43ml\u001b[49m\u001b[38;5;241;43m.\u001b[39;49m\u001b[43mbackward\u001b[49m\u001b[43m(\u001b[49m\u001b[43m)\u001b[49m\n\u001b[1;32m     23\u001b[0m optimizer\u001b[38;5;241m.\u001b[39mstep()\n\u001b[1;32m     24\u001b[0m roc_aucs\u001b[38;5;241m.\u001b[39mappend(roc_auc_score(data\u001b[38;5;241m.\u001b[39my, out[:, \u001b[38;5;241m1\u001b[39m]\u001b[38;5;241m.\u001b[39mdetach()))\n",
      "File \u001b[0;32m~/.local/lib/python3.9/site-packages/torch/_tensor.py:396\u001b[0m, in \u001b[0;36mTensor.backward\u001b[0;34m(self, gradient, retain_graph, create_graph, inputs)\u001b[0m\n\u001b[1;32m    387\u001b[0m \u001b[38;5;28;01mif\u001b[39;00m has_torch_function_unary(\u001b[38;5;28mself\u001b[39m):\n\u001b[1;32m    388\u001b[0m     \u001b[38;5;28;01mreturn\u001b[39;00m handle_torch_function(\n\u001b[1;32m    389\u001b[0m         Tensor\u001b[38;5;241m.\u001b[39mbackward,\n\u001b[1;32m    390\u001b[0m         (\u001b[38;5;28mself\u001b[39m,),\n\u001b[0;32m   (...)\u001b[0m\n\u001b[1;32m    394\u001b[0m         create_graph\u001b[38;5;241m=\u001b[39mcreate_graph,\n\u001b[1;32m    395\u001b[0m         inputs\u001b[38;5;241m=\u001b[39minputs)\n\u001b[0;32m--> 396\u001b[0m \u001b[43mtorch\u001b[49m\u001b[38;5;241;43m.\u001b[39;49m\u001b[43mautograd\u001b[49m\u001b[38;5;241;43m.\u001b[39;49m\u001b[43mbackward\u001b[49m\u001b[43m(\u001b[49m\u001b[38;5;28;43mself\u001b[39;49m\u001b[43m,\u001b[49m\u001b[43m \u001b[49m\u001b[43mgradient\u001b[49m\u001b[43m,\u001b[49m\u001b[43m \u001b[49m\u001b[43mretain_graph\u001b[49m\u001b[43m,\u001b[49m\u001b[43m \u001b[49m\u001b[43mcreate_graph\u001b[49m\u001b[43m,\u001b[49m\u001b[43m \u001b[49m\u001b[43minputs\u001b[49m\u001b[38;5;241;43m=\u001b[39;49m\u001b[43minputs\u001b[49m\u001b[43m)\u001b[49m\n",
      "File \u001b[0;32m~/.local/lib/python3.9/site-packages/torch/autograd/__init__.py:173\u001b[0m, in \u001b[0;36mbackward\u001b[0;34m(tensors, grad_tensors, retain_graph, create_graph, grad_variables, inputs)\u001b[0m\n\u001b[1;32m    168\u001b[0m     retain_graph \u001b[38;5;241m=\u001b[39m create_graph\n\u001b[1;32m    170\u001b[0m \u001b[38;5;66;03m# The reason we repeat same the comment below is that\u001b[39;00m\n\u001b[1;32m    171\u001b[0m \u001b[38;5;66;03m# some Python versions print out the first line of a multi-line function\u001b[39;00m\n\u001b[1;32m    172\u001b[0m \u001b[38;5;66;03m# calls in the traceback and some print out the last line\u001b[39;00m\n\u001b[0;32m--> 173\u001b[0m \u001b[43mVariable\u001b[49m\u001b[38;5;241;43m.\u001b[39;49m\u001b[43m_execution_engine\u001b[49m\u001b[38;5;241;43m.\u001b[39;49m\u001b[43mrun_backward\u001b[49m\u001b[43m(\u001b[49m\u001b[43m  \u001b[49m\u001b[38;5;66;43;03m# Calls into the C++ engine to run the backward pass\u001b[39;49;00m\n\u001b[1;32m    174\u001b[0m \u001b[43m    \u001b[49m\u001b[43mtensors\u001b[49m\u001b[43m,\u001b[49m\u001b[43m \u001b[49m\u001b[43mgrad_tensors_\u001b[49m\u001b[43m,\u001b[49m\u001b[43m \u001b[49m\u001b[43mretain_graph\u001b[49m\u001b[43m,\u001b[49m\u001b[43m \u001b[49m\u001b[43mcreate_graph\u001b[49m\u001b[43m,\u001b[49m\u001b[43m \u001b[49m\u001b[43minputs\u001b[49m\u001b[43m,\u001b[49m\n\u001b[1;32m    175\u001b[0m \u001b[43m    \u001b[49m\u001b[43mallow_unreachable\u001b[49m\u001b[38;5;241;43m=\u001b[39;49m\u001b[38;5;28;43;01mTrue\u001b[39;49;00m\u001b[43m,\u001b[49m\u001b[43m \u001b[49m\u001b[43maccumulate_grad\u001b[49m\u001b[38;5;241;43m=\u001b[39;49m\u001b[38;5;28;43;01mTrue\u001b[39;49;00m\u001b[43m)\u001b[49m\n",
      "\u001b[0;31mKeyboardInterrupt\u001b[0m: "
     ]
    }
   ],
   "source": [
    "from sklearn.metrics import roc_auc_score\n",
    "from collections import defaultdict\n",
    "from IPython.display import clear_output\n",
    "import matplotlib.pyplot as plt\n",
    "\n",
    "\n",
    "def train(model, dataloaders, epochs=100, class_weights=None, verbose=False, lr=0.001):\n",
    "    optimizer = torch.optim.Adam(model.parameters(), lr=lr)\n",
    "    loss = torch.nn.NLLLoss(weight=class_weights)\n",
    "    \n",
    "    auc_history  = defaultdict(list)\n",
    "    loss_history = defaultdict(list)\n",
    "    for ep in range(epochs):\n",
    "        roc_aucs = []\n",
    "        losses = []\n",
    "        model.train()\n",
    "        for data in dataloaders[\"train\"]:\n",
    "            optimizer.zero_grad()\n",
    "            out = model(data)\n",
    "            l = loss(out, data.y.long())\n",
    "            losses.append(l.item())\n",
    "            l.backward()\n",
    "            optimizer.step()\n",
    "            roc_aucs.append(roc_auc_score(data.y, out[:, 1].detach()))\n",
    "        auc_history[\"train\"].append(np.mean(roc_aucs))\n",
    "        loss_history[\"train\"].append(np.mean(losses))\n",
    "        \n",
    "        roc_aucs = []\n",
    "        losses = []\n",
    "        model.eval()\n",
    "        for data in dataloaders[\"val\"]:\n",
    "            out = model(data)\n",
    "            l = loss(out, data.y.long())\n",
    "            losses.append(l.item())\n",
    "            roc_aucs.append(roc_auc_score(data.y, out[:, 1].detach()))\n",
    "        auc_history[\"val\"].append(np.mean(roc_aucs))\n",
    "        loss_history[\"val\"].append(np.mean(losses))\n",
    "        \n",
    "        clear_output(wait=True)\n",
    "        \n",
    "        plt.plot(range(len(loss_history[\"train\"])), loss_history[\"train\"], label=\"train\")\n",
    "        plt.plot(range(len(loss_history[\"val\"])), loss_history[\"val\"], label=\"val\")\n",
    "        plt.show()\n",
    "        \n",
    "        plt.plot(range(len(auc_history[\"train\"])), auc_history[\"train\"], label=\"train\")\n",
    "        plt.plot(range(len(auc_history[\"val\"])), auc_history[\"val\"], label=\"val\")\n",
    "        plt.show()\n",
    "    return score\n",
    "score = train(node_encoder, dataloaders)"
   ]
  },
  {
   "cell_type": "markdown",
   "id": "642ba684-3133-4021-a1e3-6f8263ea7502",
   "metadata": {},
   "source": [
    "## Пробуем просто линейный + конкатенация"
   ]
  },
  {
   "cell_type": "code",
   "execution_count": 4,
   "id": "6207f4d0-1590-43b1-9e0f-d41dbd4ad688",
   "metadata": {},
   "outputs": [
    {
     "name": "stderr",
     "output_type": "stream",
     "text": [
      "/tmp/ipykernel_1070/3706286511.py:12: SettingWithCopyWarning: \n",
      "A value is trying to be set on a copy of a slice from a DataFrame.\n",
      "Try using .loc[row_indexer,col_indexer] = value instead\n",
      "\n",
      "See the caveats in the documentation: https://pandas.pydata.org/pandas-docs/stable/user_guide/indexing.html#returning-a-view-versus-a-copy\n",
      "  train_target_features[\"TARGET\"] = train_target_features[\"TARGET\"].astype(int)\n"
     ]
    },
    {
     "data": {
      "text/html": [
       "<div>\n",
       "<style scoped>\n",
       "    .dataframe tbody tr th:only-of-type {\n",
       "        vertical-align: middle;\n",
       "    }\n",
       "\n",
       "    .dataframe tbody tr th {\n",
       "        vertical-align: top;\n",
       "    }\n",
       "\n",
       "    .dataframe thead th {\n",
       "        text-align: right;\n",
       "    }\n",
       "</style>\n",
       "<table border=\"1\" class=\"dataframe\">\n",
       "  <thead>\n",
       "    <tr style=\"text-align: right;\">\n",
       "      <th></th>\n",
       "      <th>CLIENT_ID</th>\n",
       "      <th>RETRO_DT</th>\n",
       "      <th>i1047</th>\n",
       "      <th>i1048</th>\n",
       "      <th>i1056</th>\n",
       "      <th>i1058</th>\n",
       "      <th>i1059</th>\n",
       "      <th>i1060</th>\n",
       "      <th>i1065</th>\n",
       "      <th>i1066</th>\n",
       "      <th>...</th>\n",
       "      <th>u8=17</th>\n",
       "      <th>u8=18</th>\n",
       "      <th>u8=19</th>\n",
       "      <th>u8=2</th>\n",
       "      <th>u8=20</th>\n",
       "      <th>u8=21</th>\n",
       "      <th>u8=6</th>\n",
       "      <th>u8=7</th>\n",
       "      <th>u8=8</th>\n",
       "      <th>u8=9</th>\n",
       "    </tr>\n",
       "  </thead>\n",
       "  <tbody>\n",
       "    <tr>\n",
       "      <th>4</th>\n",
       "      <td>1025140</td>\n",
       "      <td>20210501</td>\n",
       "      <td>0.0</td>\n",
       "      <td>10.0</td>\n",
       "      <td>0.0</td>\n",
       "      <td>0.0</td>\n",
       "      <td>0.0</td>\n",
       "      <td>0.0</td>\n",
       "      <td>0.0</td>\n",
       "      <td>0.0</td>\n",
       "      <td>...</td>\n",
       "      <td>0.0</td>\n",
       "      <td>0.0</td>\n",
       "      <td>0.0</td>\n",
       "      <td>0.0</td>\n",
       "      <td>0.0</td>\n",
       "      <td>0.0</td>\n",
       "      <td>0.0</td>\n",
       "      <td>0.0</td>\n",
       "      <td>0.0</td>\n",
       "      <td>0.0</td>\n",
       "    </tr>\n",
       "    <tr>\n",
       "      <th>8</th>\n",
       "      <td>1029732</td>\n",
       "      <td>20210501</td>\n",
       "      <td>0.0</td>\n",
       "      <td>0.0</td>\n",
       "      <td>7.0</td>\n",
       "      <td>0.0</td>\n",
       "      <td>0.0</td>\n",
       "      <td>0.0</td>\n",
       "      <td>0.0</td>\n",
       "      <td>0.0</td>\n",
       "      <td>...</td>\n",
       "      <td>0.0</td>\n",
       "      <td>0.0</td>\n",
       "      <td>0.0</td>\n",
       "      <td>0.0</td>\n",
       "      <td>0.0</td>\n",
       "      <td>0.0</td>\n",
       "      <td>0.0</td>\n",
       "      <td>0.0</td>\n",
       "      <td>0.0</td>\n",
       "      <td>0.0</td>\n",
       "    </tr>\n",
       "    <tr>\n",
       "      <th>18</th>\n",
       "      <td>1079794</td>\n",
       "      <td>20210501</td>\n",
       "      <td>0.0</td>\n",
       "      <td>0.0</td>\n",
       "      <td>0.0</td>\n",
       "      <td>0.0</td>\n",
       "      <td>0.0</td>\n",
       "      <td>0.0</td>\n",
       "      <td>0.0</td>\n",
       "      <td>0.0</td>\n",
       "      <td>...</td>\n",
       "      <td>0.0</td>\n",
       "      <td>0.0</td>\n",
       "      <td>0.0</td>\n",
       "      <td>0.0</td>\n",
       "      <td>0.0</td>\n",
       "      <td>0.0</td>\n",
       "      <td>0.0</td>\n",
       "      <td>0.0</td>\n",
       "      <td>0.0</td>\n",
       "      <td>0.0</td>\n",
       "    </tr>\n",
       "    <tr>\n",
       "      <th>23</th>\n",
       "      <td>1116331</td>\n",
       "      <td>20210501</td>\n",
       "      <td>0.0</td>\n",
       "      <td>0.0</td>\n",
       "      <td>0.0</td>\n",
       "      <td>0.0</td>\n",
       "      <td>0.0</td>\n",
       "      <td>0.0</td>\n",
       "      <td>0.0</td>\n",
       "      <td>0.0</td>\n",
       "      <td>...</td>\n",
       "      <td>0.0</td>\n",
       "      <td>0.0</td>\n",
       "      <td>0.0</td>\n",
       "      <td>0.0</td>\n",
       "      <td>0.0</td>\n",
       "      <td>0.0</td>\n",
       "      <td>0.0</td>\n",
       "      <td>0.0</td>\n",
       "      <td>0.0</td>\n",
       "      <td>0.0</td>\n",
       "    </tr>\n",
       "    <tr>\n",
       "      <th>27</th>\n",
       "      <td>1136822</td>\n",
       "      <td>20210501</td>\n",
       "      <td>0.0</td>\n",
       "      <td>14.0</td>\n",
       "      <td>1.0</td>\n",
       "      <td>0.0</td>\n",
       "      <td>0.0</td>\n",
       "      <td>0.0</td>\n",
       "      <td>0.0</td>\n",
       "      <td>0.0</td>\n",
       "      <td>...</td>\n",
       "      <td>0.0</td>\n",
       "      <td>0.0</td>\n",
       "      <td>0.0</td>\n",
       "      <td>0.0</td>\n",
       "      <td>0.0</td>\n",
       "      <td>0.0</td>\n",
       "      <td>0.0</td>\n",
       "      <td>0.0</td>\n",
       "      <td>0.0</td>\n",
       "      <td>0.0</td>\n",
       "    </tr>\n",
       "  </tbody>\n",
       "</table>\n",
       "<p>5 rows × 1016 columns</p>\n",
       "</div>"
      ],
      "text/plain": [
       "    CLIENT_ID  RETRO_DT  i1047  i1048  i1056  i1058  i1059  i1060  i1065  \\\n",
       "4     1025140  20210501    0.0   10.0    0.0    0.0    0.0    0.0    0.0   \n",
       "8     1029732  20210501    0.0    0.0    7.0    0.0    0.0    0.0    0.0   \n",
       "18    1079794  20210501    0.0    0.0    0.0    0.0    0.0    0.0    0.0   \n",
       "23    1116331  20210501    0.0    0.0    0.0    0.0    0.0    0.0    0.0   \n",
       "27    1136822  20210501    0.0   14.0    1.0    0.0    0.0    0.0    0.0   \n",
       "\n",
       "    i1066  ...  u8=17  u8=18  u8=19  u8=2  u8=20  u8=21  u8=6  u8=7  u8=8  \\\n",
       "4     0.0  ...    0.0    0.0    0.0   0.0    0.0    0.0   0.0   0.0   0.0   \n",
       "8     0.0  ...    0.0    0.0    0.0   0.0    0.0    0.0   0.0   0.0   0.0   \n",
       "18    0.0  ...    0.0    0.0    0.0   0.0    0.0    0.0   0.0   0.0   0.0   \n",
       "23    0.0  ...    0.0    0.0    0.0   0.0    0.0    0.0   0.0   0.0   0.0   \n",
       "27    0.0  ...    0.0    0.0    0.0   0.0    0.0    0.0   0.0   0.0   0.0   \n",
       "\n",
       "    u8=9  \n",
       "4    0.0  \n",
       "8    0.0  \n",
       "18   0.0  \n",
       "23   0.0  \n",
       "27   0.0  \n",
       "\n",
       "[5 rows x 1016 columns]"
      ]
     },
     "execution_count": 4,
     "metadata": {},
     "output_type": "execute_result"
    }
   ],
   "source": [
    "target_traintest = pd.read_csv(\"data/FINAL_TARGETS_DATES_TRAINTEST.tsv\", sep='\\t')\n",
    "\n",
    "#test_ids  = target_traintest[target_traintest[\"TARGET\"] == \"test\"][\"CLIENT_ID\"].values\n",
    "#train_ids = target_traintest[target_traintest[\"TARGET\"] != \"test\"][\"CLIENT_ID\"].values\n",
    "features_traintest = pd.read_csv(\"data/FINAL_FEATURES_TRAINTEST.tsv\", sep='\\t')\n",
    "\n",
    "#target_features = pd.merge(target_traintest, features_traintest, \n",
    "#                                 left_on=\"CLIENT_ID\", right_on=\"CLIENT_ID\")\n",
    "target_features.fillna(0, inplace=True)\n",
    "test_target_features = target_features[target_features[\"TARGET\"] == \"test\"].drop([\"TARGET\"], axis=1)\n",
    "train_target_features = target_features[target_features[\"TARGET\"] != \"test\"]\n",
    "train_target_features[\"TARGET\"] = train_target_features[\"TARGET\"].astype(int)\n",
    "test_target_features.head()"
   ]
  },
  {
   "cell_type": "code",
   "execution_count": 2,
   "id": "ad359d5c-9f1b-4c7f-b565-8a93460453e7",
   "metadata": {},
   "outputs": [],
   "source": [
    "features_traintest = pd.read_csv(\"data/FINAL_FEATURES_TRAINTEST.tsv\", sep='\\t')\n",
    "features_friends = pd.read_csv(\"data/FINAL_FEATURES_FRIENDS.tsv\", sep='\\t')"
   ]
  },
  {
   "cell_type": "markdown",
   "id": "e6ab156b-68d1-40d6-a252-4a4f0ebe7271",
   "metadata": {},
   "source": [
    "# ЫЫЫЫЫЫЫЫЫЫЫЫЫЫЫЫЫЫЫЫЫЫЫЫЫЫЫЫЫЫЫы"
   ]
  },
  {
   "cell_type": "code",
   "execution_count": null,
   "id": "6f14423b-fc30-463f-a885-49b74a32beee",
   "metadata": {
    "tags": []
   },
   "outputs": [],
   "source": [
    "def make_data(x):\n",
    "    friend_embedding = x.mean(axis=0)\n",
    "    num_friends = x.shape[0]\n",
    "    usr_features = pd.merge(friend_embedding.to_frame().T, features_traintest, how=\"left\",\n",
    "                            left_on=\"CLIENT_ID\", right_on=\"CLIENT_ID\")\n",
    "    return usr_features.drop([\"FRIEND_ID\"], axis=1).reset_index(drop=True)\n",
    "\n",
    "friends_dataset = features_friends.groupby([\"CLIENT_ID\"]).apply(lambda x: make_data(x))\n",
    "print(\"ы\")\n",
    "friends_dataset.to_csv(\"data/friends_user_embeddings.csv\")\n",
    "#friends_dataset = features_traintest.apply(lambda x: make_data(x), axis=1)\n",
    "#test_friends_dataset = test_target_features.apply(lambda x: make_data(x), axis=1)\n",
    "#targets = train_target_features[\"TARGET\"].values\n",
    "\n",
    "#friends_dataset[0].shape\n",
    "#friends_dataset.to_csv(\"data/)"
   ]
  },
  {
   "cell_type": "code",
   "execution_count": null,
   "id": "88dcc50d-c43d-4700-a243-6b3e1e97e5be",
   "metadata": {},
   "outputs": [],
   "source": []
  },
  {
   "cell_type": "code",
   "execution_count": 101,
   "id": "bd53cd24-ef88-48b0-9d7c-ebf4cf1f3eb1",
   "metadata": {},
   "outputs": [],
   "source": [
    "class FriendsEmbedder(torch.nn.Module):\n",
    "    def __init__(self, in_features, hid_features, out_features):\n",
    "        super().__init__()\n",
    "        self.linear_in = nn.Linear(in_features, hid_features)\n",
    "        self.linear_out = nn.Linear(hid_features, out_features)\n",
    "    \n",
    "    def forward(self, x):\n",
    "        x_hid = F.relu(self.linear_in(x))\n",
    "        x_out = self.linear_out(x_hid)\n",
    "        return F.softmax(x_out, dim=1)\n",
    "friend_embedder = FriendsEmbedder(friends_dataset[0].shape[0], 512, 2)"
   ]
  },
  {
   "cell_type": "code",
   "execution_count": 102,
   "id": "f8688693-084d-4cca-8afa-a21cabf5c71b",
   "metadata": {},
   "outputs": [],
   "source": [
    "mask = np.random.choice(friends_dataset.shape[0], size=friends_dataset.shape[0], replace=False)\n",
    "ratio = int(0.8 * len(mask))\n",
    "X_train, X_val = np.vstack(friends_dataset[mask[:ratio]].values), np.vstack(friends_dataset[mask[ratio:]].values)\n",
    "y_train, y_val = targets[mask[:ratio]], targets[mask[ratio:]]"
   ]
  },
  {
   "cell_type": "code",
   "execution_count": 103,
   "id": "7b509caf-5892-4679-923a-271f61516d1e",
   "metadata": {},
   "outputs": [],
   "source": [
    "X_train = torch.from_numpy(X_train.astype(np.float32))\n",
    "X_val = torch.from_numpy(X_val.astype(np.float32))\n",
    "y_train = torch.from_numpy(y_train)\n",
    "y_val = torch.from_numpy(y_val)"
   ]
  },
  {
   "cell_type": "code",
   "execution_count": 104,
   "id": "5fd6074c-2424-4c2b-82a2-f1e068a2210b",
   "metadata": {},
   "outputs": [
    {
     "data": {
      "text/plain": [
       "tensor([0.2742, 0.7258])"
      ]
     },
     "execution_count": 104,
     "metadata": {},
     "output_type": "execute_result"
    }
   ],
   "source": [
    "class_weights = target_traintest[target_traintest[\"TARGET\"] != \"test\"][\"TARGET\"].values.astype(int).mean()\n",
    "class_weights = torch.FloatTensor([class_weights, 1-class_weights])\n",
    "class_weights"
   ]
  },
  {
   "cell_type": "code",
   "execution_count": 105,
   "id": "3cde8d61-9fbd-4e15-bafb-9631ded6d3aa",
   "metadata": {
    "tags": []
   },
   "outputs": [
    {
     "data": {
      "image/png": "[encoded data removed]",
      "text/plain": [
       "<Figure size 640x480 with 1 Axes>"
      ]
     },
     "metadata": {},
     "output_type": "display_data"
    },
    {
     "data": {
      "image/png": "[encoded data removed]",
      "text/plain": [
       "<Figure size 640x480 with 1 Axes>"
      ]
     },
     "metadata": {},
     "output_type": "display_data"
    }
   ],
   "source": [
    "from sklearn.metrics import roc_auc_score\n",
    "from collections import defaultdict\n",
    "from IPython.display import clear_output\n",
    "import matplotlib.pyplot as plt\n",
    "\n",
    "def predict(model, X, y, loss):\n",
    "    out = model(X)\n",
    "    l = loss(out, y)\n",
    "    return l, roc_auc_score(y, out[:, 1].detach())\n",
    "\n",
    "def train(model, X_train, y_train, X_val, y_val, epochs=100, class_weights=None, verbose=False, lr=3e-5):\n",
    "    optimizer = torch.optim.Adam(model.parameters(), lr=lr)\n",
    "    loss = torch.nn.NLLLoss(weight=class_weights)\n",
    "    \n",
    "    auc_history  = defaultdict(list)\n",
    "    loss_history = defaultdict(list)\n",
    "    for ep in range(epochs):\n",
    "        model.train()\n",
    "        optimizer.zero_grad()\n",
    "        l, auc = predict(model, X_train, y_train, loss)\n",
    "        loss_history[\"train\"].append(l.item())\n",
    "        auc_history[\"train\"].append(auc)\n",
    "        l.backward()\n",
    "        optimizer.step()\n",
    "        \n",
    "        model.eval()\n",
    "        l, auc = predict(model, X_val, y_val, loss)\n",
    "        loss_history[\"val\"].append(l.item())\n",
    "        auc_history[\"val\"].append(auc)\n",
    "        \n",
    "        if ep % 10 == 0:\n",
    "            clear_output(wait=True)\n",
    "            plt.plot(range(len(loss_history[\"train\"])), loss_history[\"train\"], label=\"train\")\n",
    "            plt.plot(range(len(loss_history[\"val\"])), loss_history[\"val\"], label=\"val\")\n",
    "            plt.legend()\n",
    "            plt.show()\n",
    "\n",
    "            plt.plot(range(len(auc_history[\"train\"])), auc_history[\"train\"], label=\"train\")\n",
    "            plt.plot(range(len(auc_history[\"val\"])), auc_history[\"val\"], label=\"val\")\n",
    "            plt.legend()\n",
    "            plt.show()\n",
    "train(friend_embedder, X_train, y_train, X_val, y_val, \n",
    "      class_weights=class_weights, epochs=1000)"
   ]
  },
  {
   "cell_type": "code",
   "execution_count": 106,
   "id": "4efa8fce-8ac4-4c32-b465-0c3511fdc7a6",
   "metadata": {},
   "outputs": [
    {
     "data": {
      "text/plain": [
       "(tensor([0.2898, 0.7102], grad_fn=<MeanBackward1>), tensor(0.2951))"
      ]
     },
     "execution_count": 106,
     "metadata": {},
     "output_type": "execute_result"
    }
   ],
   "source": [
    "friend_embedder(X_val).mean(axis=0), y_val.float().mean()"
   ]
  },
  {
   "cell_type": "code",
   "execution_count": null,
   "id": "069cd1b8-5c9f-4e0a-9d3d-3818640e77bc",
   "metadata": {},
   "outputs": [],
   "source": [
    "features_friends = pd.read_csv(\"data/FINAL_FEATURES_FRIENDS.tsv\", sep='\\t')\n",
    "all_seq_traintest = pd.read_csv(\"data/FINAL_ALL_SEQUENCES_TRAINTEST.tsv\", sep='\\t')\n",
    "features_traintest = pd.read_csv(\"data/FINAL_FEATURES_TRAINTEST.tsv\", sep='\\t')\n",
    "target_traintest = pd.read_csv(\"data/FINAL_TARGETS_DATES_TRAINTEST.tsv\", sep='\\t')\n",
    "seq_matrix = pd.read_csv(\"data/FINAL_SEQUENCES_MATRIX.csv\", sep='\\t')"
   ]
  },
  {
   "cell_type": "markdown",
   "id": "975df019-a6ed-4242-8fd3-18eda6ba48be",
   "metadata": {},
   "source": [
    "## Word2Vec"
   ]
  },
  {
   "cell_type": "code",
   "execution_count": 6,
   "id": "915683f5-b92d-4ee6-9cc9-e944bd6850ec",
   "metadata": {},
   "outputs": [],
   "source": [
    "from gensim.models import Word2Vec"
   ]
  },
  {
   "cell_type": "code",
   "execution_count": 20,
   "id": "fe1d0be4-5cbb-4955-a2dd-311cb663bd4c",
   "metadata": {},
   "outputs": [
    {
     "data": {
      "text/plain": [
       "True"
      ]
     },
     "execution_count": 20,
     "metadata": {},
     "output_type": "execute_result"
    }
   ],
   "source": [
    "def get_sentences(name, column):\n",
    "    sentences = pd.read_csv(name, sep='\\t')\n",
    "    sentences = sentences[column].apply(lambda x: json.loads(x.replace(\"'\", '\"')))\n",
    "    return sentences\n",
    "\n",
    "sentences_mat = get_sentences(\"data/FINAL_SEQUENCES_MATRIX.csv\", \"SESSIONS_SEQUENCES\")\n",
    "sentences_all = get_sentences(\"data/FINAL_ALL_SEQUENCES_TRAINTEST.tsv\", \"SEQUENCE\")\n",
    "sentences = np.concatenate([sentences_mat, sentences_all])\n",
    "sentences.shape[0] == sentences_mat.shape[0] + sentences_all.shape[0]"
   ]
  },
  {
   "cell_type": "code",
   "execution_count": 21,
   "id": "f50ea6b8-8996-4bd8-9696-6c85c7f891c9",
   "metadata": {},
   "outputs": [],
   "source": [
    "from gensim.models import Word2Vec\n",
    "\n",
    "model = Word2Vec(sentences=sentences, vector_size=200, window=5, min_count=1, workers=4)\n",
    "model.save(\"data/word2vec.model\")"
   ]
  },
  {
   "cell_type": "code",
   "execution_count": 12,
   "id": "98632397-9858-4b60-8ee9-62e32e5e60f4",
   "metadata": {},
   "outputs": [
    {
     "data": {
      "text/plain": [
       "(47786993, 88901005)"
      ]
     },
     "execution_count": 12,
     "metadata": {},
     "output_type": "execute_result"
    }
   ],
   "source": [
    "model = Word2Vec.load(\"data/word2vec.model\")\n",
    "model.train(sentences, total_examples=sentences.shape[0], epochs=5)"
   ]
  },
  {
   "cell_type": "code",
   "execution_count": 22,
   "id": "9f32c3eb-a39b-4198-a238-6d1e4938fb57",
   "metadata": {
    "collapsed": true,
    "jupyter": {
     "outputs_hidden": true
    },
    "tags": []
   },
   "outputs": [
    {
     "name": "stdout",
     "output_type": "stream",
     "text": [
      "(200,)\n",
      "(200,)\n",
      "(200,)\n",
      "(200,)\n",
      "(200,)\n",
      "(200,)\n",
      "(200,)\n",
      "(200,)\n",
      "(200,)\n",
      "(200,)\n",
      "(200,)\n",
      "(200,)\n",
      "(200,)\n",
      "(200,)\n",
      "(200,)\n",
      "(200,)\n",
      "(200,)\n",
      "(200,)\n",
      "(200,)\n",
      "(200,)\n",
      "(200,)\n",
      "(200,)\n",
      "(200,)\n",
      "(200,)\n",
      "(200,)\n",
      "(200,)\n",
      "(200,)\n",
      "(200,)\n",
      "(200,)\n",
      "(200,)\n",
      "(200,)\n",
      "(200,)\n",
      "(200,)\n",
      "(200,)\n",
      "(200,)\n",
      "(200,)\n",
      "(200,)\n",
      "(200,)\n",
      "(200,)\n",
      "(200,)\n",
      "(200,)\n",
      "(200,)\n",
      "(200,)\n",
      "(200,)\n",
      "(200,)\n",
      "(200,)\n",
      "(200,)\n",
      "(200,)\n",
      "(200,)\n",
      "(200,)\n",
      "(200,)\n",
      "(200,)\n",
      "(200,)\n",
      "(200,)\n",
      "(200,)\n",
      "(200,)\n",
      "(200,)\n",
      "(200,)\n",
      "(200,)\n",
      "(200,)\n",
      "(200,)\n",
      "(200,)\n",
      "(200,)\n",
      "(200,)\n",
      "(200,)\n",
      "(200,)\n",
      "(200,)\n",
      "(200,)\n",
      "(200,)\n",
      "(200,)\n",
      "(200,)\n"
     ]
    }
   ],
   "source": [
    "for word in json.loads(all_seq_traintest.loc[0][\"SEQUENCE\"].replace(\"'\", '\"')):\n",
    "    print(model.wv[word].shape)"
   ]
  },
  {
   "cell_type": "code",
   "execution_count": 25,
   "id": "2ed36b14-eab6-4377-8330-8ecef5c99398",
   "metadata": {
    "tags": []
   },
   "outputs": [
    {
     "data": {
      "text/plain": [
       "(71, 200)"
      ]
     },
     "execution_count": 25,
     "metadata": {},
     "output_type": "execute_result"
    }
   ],
   "source": [
    "example = [model.wv[word] for word in json.loads(all_seq_traintest.loc[0][\"SEQUENCE\"].replace(\"'\", '\"'))]\n",
    "example = np.vstack(example)\n",
    "example.shape"
   ]
  },
  {
   "cell_type": "code",
   "execution_count": 43,
   "id": "4070bc8a-ade8-46af-b7b6-970763684aec",
   "metadata": {},
   "outputs": [
    {
     "data": {
      "text/plain": [
       "Int64Index([     4,      8,     18,     23,     27,     28,     29,     30,\n",
       "                38,     43,\n",
       "            ...\n",
       "            159243, 159250, 159251, 159253, 159257, 159263, 159276, 159278,\n",
       "            159284, 159288],\n",
       "           dtype='int64', length=31858)"
      ]
     },
     "execution_count": 43,
     "metadata": {},
     "output_type": "execute_result"
    }
   ],
   "source": [
    "# Сразу выделим train/test части\n",
    "\n",
    "target_traintest = pd.read_csv(\"data/FINAL_TARGETS_DATES_TRAINTEST.tsv\", sep='\\t')\n",
    "\n",
    "test_ids  = target_traintest[target_traintest[\"TARGET\"] == \"test\"].index\n",
    "train_ids = target_traintest[target_traintest[\"TARGET\"] != \"test\"].index\n",
    "test_ids"
   ]
  },
  {
   "cell_type": "code",
   "execution_count": 78,
   "id": "d46192e6-850c-4647-b384-6ec147556c69",
   "metadata": {},
   "outputs": [
    {
     "data": {
      "text/plain": [
       "0        [(x, [tensor([ 0.1860,  1.3867, -1.5953,  1.70...\n",
       "1        [(x, [tensor([-0.0156,  1.1201,  0.8188,  0.59...\n",
       "2        [(x, [tensor([-3.6969e-02,  7.6490e-01,  2.171...\n",
       "3        [(x, [tensor([-5.8542e-02,  1.6408e+00, -1.011...\n",
       "4        [(x, [tensor([ 0.1315,  0.3126,  0.7061, -0.51...\n",
       "                               ...                        \n",
       "98938    [(x, [tensor([ 0.5836, -0.1100,  1.1718,  0.11...\n",
       "98939    [(x, [tensor([ 3.2160e-01, -4.5308e-01, -3.363...\n",
       "98940    [(x, [tensor([ 2.1938e+00,  1.8171e+00, -3.633...\n",
       "98941    [(x, [tensor([-0.7559,  0.6764,  0.5907, -0.55...\n",
       "98942    [(x, [tensor([ 1.6228,  0.0836,  0.1474,  0.42...\n",
       "Length: 98943, dtype: object"
      ]
     },
     "execution_count": 78,
     "metadata": {},
     "output_type": "execute_result"
    }
   ],
   "source": [
    "from torch_geometric.data import Data\n",
    "\n",
    "def collect_graph(row):\n",
    "    sequence = json.loads(row['SEQUENCE'].replace(\"'\", '\"'))\n",
    "    if sequence == []:\n",
    "        return Data(x=torch.FloatTensor(), edge_index=torch.FloatTensor(), y=torch.LongTensor(int(row[\"TARGET\"])))\n",
    "    x = torch.from_numpy(np.vstack([model.wv[word] for word in sequence]))\n",
    "    nodes = list(set(sequence))\n",
    "    edge_index = torch.IntTensor([[nodes.index(sequence[i]), nodes.index(sequence[i+1])] for i in range(len(nodes)-1)]).T\n",
    "    return Data(x=x, edge_index=edge_index, y=torch.LongTensor(int(row[\"TARGET\"])))\n",
    "new_df = pd.merge(target_traintest.iloc[train_ids], all_seq_traintest, on=\"CLIENT_ID\").apply(lambda x: collect_graph(x), axis=1)\n",
    "new_df"
   ]
  },
  {
   "cell_type": "code",
   "execution_count": 46,
   "id": "6791349b-41f8-4a5a-81f5-72bae5e19fa8",
   "metadata": {},
   "outputs": [
    {
     "data": {
      "text/plain": [
       "Data(x=[163, 200], edge_index=[2, 76], y=[0])"
      ]
     },
     "execution_count": 46,
     "metadata": {},
     "output_type": "execute_result"
    }
   ],
   "source": [
    "new_df['TARGET'] = new_df.apply(lambda x: x.y[0])"
   ]
  },
  {
   "cell_type": "code",
   "execution_count": 79,
   "id": "383a3bdf-afac-4bb7-a4c2-e559db564cea",
   "metadata": {},
   "outputs": [
    {
     "data": {
      "text/plain": [
       "torch.int32"
      ]
     },
     "execution_count": 79,
     "metadata": {},
     "output_type": "execute_result"
    }
   ],
   "source": [
    "new_df[0].edge_index.dtype"
   ]
  },
  {
   "cell_type": "code",
   "execution_count": 80,
   "id": "83e4d1ad-8f64-47c7-921b-2ae915146644",
   "metadata": {},
   "outputs": [
    {
     "data": {
      "text/plain": [
       "tensor([[9.0000e+00, 3.0000e+00, 9.0000e+00,  ..., 1.4037e+06, 1.4037e+06,\n",
       "         1.4037e+06],\n",
       "        [3.0000e+00, 9.0000e+00, 4.0000e+00,  ..., 1.4037e+06, 1.4037e+06,\n",
       "         1.4037e+06]])"
      ]
     },
     "execution_count": 80,
     "metadata": {},
     "output_type": "execute_result"
    }
   ],
   "source": [
    "i.edge_index"
   ]
  },
  {
   "cell_type": "code",
   "execution_count": 81,
   "id": "258d3f24-cd12-4ada-96c4-badc6daac88f",
   "metadata": {},
   "outputs": [],
   "source": [
    "class GraphCollector(nn.Module):\n",
    "    def __init__(self, in_features, hid_features, out_features):\n",
    "        super().__init__()\n",
    "        self.linear_in = nn.Linear(in_features, in_features)\n",
    "        self.gcn = geo_nn.GCNConv(in_features, hid_features)\n",
    "        self.linear_out = nn.Linear(hid_features, out_features)\n",
    "    \n",
    "    def forward(self, x, edge_index, batch=None):\n",
    "        x_hid = F.relu(self.linear_in(x))\n",
    "        x_hid = F.relu(self.gcn(x, edge_index))\n",
    "        x_out = F.relu(self.linear_out(x_hid))\n",
    "        if batch is not None:\n",
    "            return F.softmax(scatter_mean(x_out, batch, dim=0), dim=1)\n",
    "        else:\n",
    "            return F.softmax(x_out, dim=1)\n",
    "\n",
    "gnn = GraphCollector(200, 100, 2)"
   ]
  },
  {
   "cell_type": "code",
   "execution_count": 87,
   "id": "27bb158b-82e3-4771-ad1d-b93fd53d29b3",
   "metadata": {},
   "outputs": [],
   "source": [
    "from torch_geometric.loader import DataLoader\n",
    "mask = np.random.choice(new_df.shape[0], size=new_df.shape[0], replace=False)\n",
    "ratio = int(0.8 * len(mask))\n",
    "dataloaders = {\"train\": DataLoader(new_df[mask[:ratio]].values, batch_size=10_000),\n",
    "                \"val\": DataLoader(new_df[mask[ratio:]].values, batch_size=10_000)}\n",
    "#X_train, X_val = np.vstack(new_df[mask[:ratio]].values), np.vstack(new_df[mask[ratio:]].values)\n",
    "#y_train, y_val = targets[mask[:ratio]], targets[mask[ratio:]]"
   ]
  },
  {
   "cell_type": "code",
   "execution_count": 88,
   "id": "aa434c38-bc67-40a5-a159-65a2e15e5f5b",
   "metadata": {},
   "outputs": [
    {
     "data": {
      "text/plain": [
       "torch.float32"
      ]
     },
     "execution_count": 88,
     "metadata": {},
     "output_type": "execute_result"
    }
   ],
   "source": [
    "i.edge_index.dtype"
   ]
  },
  {
   "cell_type": "code",
   "execution_count": 89,
   "id": "693f6f80-cee3-48d4-b4be-e636620831dd",
   "metadata": {},
   "outputs": [
    {
     "ename": "KeyError",
     "evalue": "9",
     "output_type": "error",
     "traceback": [
      "\u001b[0;31m---------------------------------------------------------------------------\u001b[0m",
      "\u001b[0;31mKeyError\u001b[0m                                  Traceback (most recent call last)",
      "File \u001b[0;32m/opt/tljh/user/lib/python3.9/site-packages/pandas/core/indexes/base.py:3629\u001b[0m, in \u001b[0;36mIndex.get_loc\u001b[0;34m(self, key, method, tolerance)\u001b[0m\n\u001b[1;32m   3628\u001b[0m \u001b[38;5;28;01mtry\u001b[39;00m:\n\u001b[0;32m-> 3629\u001b[0m     \u001b[38;5;28;01mreturn\u001b[39;00m \u001b[38;5;28;43mself\u001b[39;49m\u001b[38;5;241;43m.\u001b[39;49m\u001b[43m_engine\u001b[49m\u001b[38;5;241;43m.\u001b[39;49m\u001b[43mget_loc\u001b[49m\u001b[43m(\u001b[49m\u001b[43mcasted_key\u001b[49m\u001b[43m)\u001b[49m\n\u001b[1;32m   3630\u001b[0m \u001b[38;5;28;01mexcept\u001b[39;00m \u001b[38;5;167;01mKeyError\u001b[39;00m \u001b[38;5;28;01mas\u001b[39;00m err:\n",
      "File \u001b[0;32m/opt/tljh/user/lib/python3.9/site-packages/pandas/_libs/index.pyx:136\u001b[0m, in \u001b[0;36mpandas._libs.index.IndexEngine.get_loc\u001b[0;34m()\u001b[0m\n",
      "File \u001b[0;32m/opt/tljh/user/lib/python3.9/site-packages/pandas/_libs/index.pyx:163\u001b[0m, in \u001b[0;36mpandas._libs.index.IndexEngine.get_loc\u001b[0;34m()\u001b[0m\n",
      "File \u001b[0;32mpandas/_libs/hashtable_class_helper.pxi:2131\u001b[0m, in \u001b[0;36mpandas._libs.hashtable.Int64HashTable.get_item\u001b[0;34m()\u001b[0m\n",
      "File \u001b[0;32mpandas/_libs/hashtable_class_helper.pxi:2140\u001b[0m, in \u001b[0;36mpandas._libs.hashtable.Int64HashTable.get_item\u001b[0;34m()\u001b[0m\n",
      "\u001b[0;31mKeyError\u001b[0m: 9",
      "\nThe above exception was the direct cause of the following exception:\n",
      "\u001b[0;31mKeyError\u001b[0m                                  Traceback (most recent call last)",
      "Cell \u001b[0;32mIn [89], line 1\u001b[0m\n\u001b[0;32m----> 1\u001b[0m \u001b[38;5;28;01mfor\u001b[39;00m i \u001b[38;5;129;01min\u001b[39;00m dataloaders[\u001b[38;5;124m\"\u001b[39m\u001b[38;5;124mtrain\u001b[39m\u001b[38;5;124m\"\u001b[39m]:\n\u001b[1;32m      2\u001b[0m     out \u001b[38;5;241m=\u001b[39m gnn(i\u001b[38;5;241m.\u001b[39mx, i\u001b[38;5;241m.\u001b[39medge_index, i\u001b[38;5;241m.\u001b[39mbatch)\n\u001b[1;32m      3\u001b[0m     \u001b[38;5;28mprint\u001b[39m(i, out\u001b[38;5;241m.\u001b[39mshape)\n",
      "File \u001b[0;32m~/.local/lib/python3.9/site-packages/torch/utils/data/dataloader.py:681\u001b[0m, in \u001b[0;36m_BaseDataLoaderIter.__next__\u001b[0;34m(self)\u001b[0m\n\u001b[1;32m    678\u001b[0m \u001b[38;5;28;01mif\u001b[39;00m \u001b[38;5;28mself\u001b[39m\u001b[38;5;241m.\u001b[39m_sampler_iter \u001b[38;5;129;01mis\u001b[39;00m \u001b[38;5;28;01mNone\u001b[39;00m:\n\u001b[1;32m    679\u001b[0m     \u001b[38;5;66;03m# TODO(https://github.com/pytorch/pytorch/issues/76750)\u001b[39;00m\n\u001b[1;32m    680\u001b[0m     \u001b[38;5;28mself\u001b[39m\u001b[38;5;241m.\u001b[39m_reset()  \u001b[38;5;66;03m# type: ignore[call-arg]\u001b[39;00m\n\u001b[0;32m--> 681\u001b[0m data \u001b[38;5;241m=\u001b[39m \u001b[38;5;28;43mself\u001b[39;49m\u001b[38;5;241;43m.\u001b[39;49m\u001b[43m_next_data\u001b[49m\u001b[43m(\u001b[49m\u001b[43m)\u001b[49m\n\u001b[1;32m    682\u001b[0m \u001b[38;5;28mself\u001b[39m\u001b[38;5;241m.\u001b[39m_num_yielded \u001b[38;5;241m+\u001b[39m\u001b[38;5;241m=\u001b[39m \u001b[38;5;241m1\u001b[39m\n\u001b[1;32m    683\u001b[0m \u001b[38;5;28;01mif\u001b[39;00m \u001b[38;5;28mself\u001b[39m\u001b[38;5;241m.\u001b[39m_dataset_kind \u001b[38;5;241m==\u001b[39m _DatasetKind\u001b[38;5;241m.\u001b[39mIterable \u001b[38;5;129;01mand\u001b[39;00m \\\n\u001b[1;32m    684\u001b[0m         \u001b[38;5;28mself\u001b[39m\u001b[38;5;241m.\u001b[39m_IterableDataset_len_called \u001b[38;5;129;01mis\u001b[39;00m \u001b[38;5;129;01mnot\u001b[39;00m \u001b[38;5;28;01mNone\u001b[39;00m \u001b[38;5;129;01mand\u001b[39;00m \\\n\u001b[1;32m    685\u001b[0m         \u001b[38;5;28mself\u001b[39m\u001b[38;5;241m.\u001b[39m_num_yielded \u001b[38;5;241m>\u001b[39m \u001b[38;5;28mself\u001b[39m\u001b[38;5;241m.\u001b[39m_IterableDataset_len_called:\n",
      "File \u001b[0;32m~/.local/lib/python3.9/site-packages/torch/utils/data/dataloader.py:721\u001b[0m, in \u001b[0;36m_SingleProcessDataLoaderIter._next_data\u001b[0;34m(self)\u001b[0m\n\u001b[1;32m    719\u001b[0m \u001b[38;5;28;01mdef\u001b[39;00m \u001b[38;5;21m_next_data\u001b[39m(\u001b[38;5;28mself\u001b[39m):\n\u001b[1;32m    720\u001b[0m     index \u001b[38;5;241m=\u001b[39m \u001b[38;5;28mself\u001b[39m\u001b[38;5;241m.\u001b[39m_next_index()  \u001b[38;5;66;03m# may raise StopIteration\u001b[39;00m\n\u001b[0;32m--> 721\u001b[0m     data \u001b[38;5;241m=\u001b[39m \u001b[38;5;28;43mself\u001b[39;49m\u001b[38;5;241;43m.\u001b[39;49m\u001b[43m_dataset_fetcher\u001b[49m\u001b[38;5;241;43m.\u001b[39;49m\u001b[43mfetch\u001b[49m\u001b[43m(\u001b[49m\u001b[43mindex\u001b[49m\u001b[43m)\u001b[49m  \u001b[38;5;66;03m# may raise StopIteration\u001b[39;00m\n\u001b[1;32m    722\u001b[0m     \u001b[38;5;28;01mif\u001b[39;00m \u001b[38;5;28mself\u001b[39m\u001b[38;5;241m.\u001b[39m_pin_memory:\n\u001b[1;32m    723\u001b[0m         data \u001b[38;5;241m=\u001b[39m _utils\u001b[38;5;241m.\u001b[39mpin_memory\u001b[38;5;241m.\u001b[39mpin_memory(data, \u001b[38;5;28mself\u001b[39m\u001b[38;5;241m.\u001b[39m_pin_memory_device)\n",
      "File \u001b[0;32m~/.local/lib/python3.9/site-packages/torch/utils/data/_utils/fetch.py:49\u001b[0m, in \u001b[0;36m_MapDatasetFetcher.fetch\u001b[0;34m(self, possibly_batched_index)\u001b[0m\n\u001b[1;32m     47\u001b[0m \u001b[38;5;28;01mdef\u001b[39;00m \u001b[38;5;21mfetch\u001b[39m(\u001b[38;5;28mself\u001b[39m, possibly_batched_index):\n\u001b[1;32m     48\u001b[0m     \u001b[38;5;28;01mif\u001b[39;00m \u001b[38;5;28mself\u001b[39m\u001b[38;5;241m.\u001b[39mauto_collation:\n\u001b[0;32m---> 49\u001b[0m         data \u001b[38;5;241m=\u001b[39m [\u001b[38;5;28mself\u001b[39m\u001b[38;5;241m.\u001b[39mdataset[idx] \u001b[38;5;28;01mfor\u001b[39;00m idx \u001b[38;5;129;01min\u001b[39;00m possibly_batched_index]\n\u001b[1;32m     50\u001b[0m     \u001b[38;5;28;01melse\u001b[39;00m:\n\u001b[1;32m     51\u001b[0m         data \u001b[38;5;241m=\u001b[39m \u001b[38;5;28mself\u001b[39m\u001b[38;5;241m.\u001b[39mdataset[possibly_batched_index]\n",
      "File \u001b[0;32m~/.local/lib/python3.9/site-packages/torch/utils/data/_utils/fetch.py:49\u001b[0m, in \u001b[0;36m<listcomp>\u001b[0;34m(.0)\u001b[0m\n\u001b[1;32m     47\u001b[0m \u001b[38;5;28;01mdef\u001b[39;00m \u001b[38;5;21mfetch\u001b[39m(\u001b[38;5;28mself\u001b[39m, possibly_batched_index):\n\u001b[1;32m     48\u001b[0m     \u001b[38;5;28;01mif\u001b[39;00m \u001b[38;5;28mself\u001b[39m\u001b[38;5;241m.\u001b[39mauto_collation:\n\u001b[0;32m---> 49\u001b[0m         data \u001b[38;5;241m=\u001b[39m [\u001b[38;5;28;43mself\u001b[39;49m\u001b[38;5;241;43m.\u001b[39;49m\u001b[43mdataset\u001b[49m\u001b[43m[\u001b[49m\u001b[43midx\u001b[49m\u001b[43m]\u001b[49m \u001b[38;5;28;01mfor\u001b[39;00m idx \u001b[38;5;129;01min\u001b[39;00m possibly_batched_index]\n\u001b[1;32m     50\u001b[0m     \u001b[38;5;28;01melse\u001b[39;00m:\n\u001b[1;32m     51\u001b[0m         data \u001b[38;5;241m=\u001b[39m \u001b[38;5;28mself\u001b[39m\u001b[38;5;241m.\u001b[39mdataset[possibly_batched_index]\n",
      "File \u001b[0;32m/opt/tljh/user/lib/python3.9/site-packages/pandas/core/series.py:958\u001b[0m, in \u001b[0;36mSeries.__getitem__\u001b[0;34m(self, key)\u001b[0m\n\u001b[1;32m    955\u001b[0m     \u001b[38;5;28;01mreturn\u001b[39;00m \u001b[38;5;28mself\u001b[39m\u001b[38;5;241m.\u001b[39m_values[key]\n\u001b[1;32m    957\u001b[0m \u001b[38;5;28;01melif\u001b[39;00m key_is_scalar:\n\u001b[0;32m--> 958\u001b[0m     \u001b[38;5;28;01mreturn\u001b[39;00m \u001b[38;5;28;43mself\u001b[39;49m\u001b[38;5;241;43m.\u001b[39;49m\u001b[43m_get_value\u001b[49m\u001b[43m(\u001b[49m\u001b[43mkey\u001b[49m\u001b[43m)\u001b[49m\n\u001b[1;32m    960\u001b[0m \u001b[38;5;28;01mif\u001b[39;00m is_hashable(key):\n\u001b[1;32m    961\u001b[0m     \u001b[38;5;66;03m# Otherwise index.get_value will raise InvalidIndexError\u001b[39;00m\n\u001b[1;32m    962\u001b[0m     \u001b[38;5;28;01mtry\u001b[39;00m:\n\u001b[1;32m    963\u001b[0m         \u001b[38;5;66;03m# For labels that don't resolve as scalars like tuples and frozensets\u001b[39;00m\n",
      "File \u001b[0;32m/opt/tljh/user/lib/python3.9/site-packages/pandas/core/series.py:1069\u001b[0m, in \u001b[0;36mSeries._get_value\u001b[0;34m(self, label, takeable)\u001b[0m\n\u001b[1;32m   1066\u001b[0m     \u001b[38;5;28;01mreturn\u001b[39;00m \u001b[38;5;28mself\u001b[39m\u001b[38;5;241m.\u001b[39m_values[label]\n\u001b[1;32m   1068\u001b[0m \u001b[38;5;66;03m# Similar to Index.get_value, but we do not fall back to positional\u001b[39;00m\n\u001b[0;32m-> 1069\u001b[0m loc \u001b[38;5;241m=\u001b[39m \u001b[38;5;28;43mself\u001b[39;49m\u001b[38;5;241;43m.\u001b[39;49m\u001b[43mindex\u001b[49m\u001b[38;5;241;43m.\u001b[39;49m\u001b[43mget_loc\u001b[49m\u001b[43m(\u001b[49m\u001b[43mlabel\u001b[49m\u001b[43m)\u001b[49m\n\u001b[1;32m   1070\u001b[0m \u001b[38;5;28;01mreturn\u001b[39;00m \u001b[38;5;28mself\u001b[39m\u001b[38;5;241m.\u001b[39mindex\u001b[38;5;241m.\u001b[39m_get_values_for_loc(\u001b[38;5;28mself\u001b[39m, loc, label)\n",
      "File \u001b[0;32m/opt/tljh/user/lib/python3.9/site-packages/pandas/core/indexes/base.py:3631\u001b[0m, in \u001b[0;36mIndex.get_loc\u001b[0;34m(self, key, method, tolerance)\u001b[0m\n\u001b[1;32m   3629\u001b[0m     \u001b[38;5;28;01mreturn\u001b[39;00m \u001b[38;5;28mself\u001b[39m\u001b[38;5;241m.\u001b[39m_engine\u001b[38;5;241m.\u001b[39mget_loc(casted_key)\n\u001b[1;32m   3630\u001b[0m \u001b[38;5;28;01mexcept\u001b[39;00m \u001b[38;5;167;01mKeyError\u001b[39;00m \u001b[38;5;28;01mas\u001b[39;00m err:\n\u001b[0;32m-> 3631\u001b[0m     \u001b[38;5;28;01mraise\u001b[39;00m \u001b[38;5;167;01mKeyError\u001b[39;00m(key) \u001b[38;5;28;01mfrom\u001b[39;00m \u001b[38;5;21;01merr\u001b[39;00m\n\u001b[1;32m   3632\u001b[0m \u001b[38;5;28;01mexcept\u001b[39;00m \u001b[38;5;167;01mTypeError\u001b[39;00m:\n\u001b[1;32m   3633\u001b[0m     \u001b[38;5;66;03m# If we have a listlike key, _check_indexing_error will raise\u001b[39;00m\n\u001b[1;32m   3634\u001b[0m     \u001b[38;5;66;03m#  InvalidIndexError. Otherwise we fall through and re-raise\u001b[39;00m\n\u001b[1;32m   3635\u001b[0m     \u001b[38;5;66;03m#  the TypeError.\u001b[39;00m\n\u001b[1;32m   3636\u001b[0m     \u001b[38;5;28mself\u001b[39m\u001b[38;5;241m.\u001b[39m_check_indexing_error(key)\n",
      "\u001b[0;31mKeyError\u001b[0m: 9"
     ]
    }
   ],
   "source": [
    "for i in dataloaders[\"train\"]:\n",
    "    out = gnn(i.x, i.edge_index, i.batch)\n",
    "    print(i, out.shape)"
   ]
  },
  {
   "cell_type": "code",
   "execution_count": 60,
   "id": "e0ca4700-237a-42ea-8e15-eac55001cae1",
   "metadata": {},
   "outputs": [
    {
     "name": "stdout",
     "output_type": "stream",
     "text": [
      "torch.Size([114, 2]) torch.Size([0])\n"
     ]
    },
    {
     "ename": "ValueError",
     "evalue": "Expected input batch_size (114) to match target batch_size (0).",
     "output_type": "error",
     "traceback": [
      "\u001b[0;31m---------------------------------------------------------------------------\u001b[0m",
      "\u001b[0;31mValueError\u001b[0m                                Traceback (most recent call last)",
      "Cell \u001b[0;32mIn [60], line 54\u001b[0m\n\u001b[1;32m     52\u001b[0m         plt\u001b[38;5;241m.\u001b[39mshow()\n\u001b[1;32m     53\u001b[0m     \u001b[38;5;28;01mreturn\u001b[39;00m score\n\u001b[0;32m---> 54\u001b[0m score \u001b[38;5;241m=\u001b[39m \u001b[43mtrain\u001b[49m\u001b[43m(\u001b[49m\u001b[43mgnn\u001b[49m\u001b[43m,\u001b[49m\u001b[43m \u001b[49m\u001b[43mdataloaders\u001b[49m\u001b[43m)\u001b[49m\n",
      "Cell \u001b[0;32mIn [60], line 25\u001b[0m, in \u001b[0;36mtrain\u001b[0;34m(model, dataloaders, epochs, class_weights, verbose, lr)\u001b[0m\n\u001b[1;32m     23\u001b[0m out \u001b[38;5;241m=\u001b[39m model(data\u001b[38;5;241m.\u001b[39mx, data\u001b[38;5;241m.\u001b[39medge_index)\n\u001b[1;32m     24\u001b[0m \u001b[38;5;28mprint\u001b[39m(out\u001b[38;5;241m.\u001b[39mshape, data\u001b[38;5;241m.\u001b[39my\u001b[38;5;241m.\u001b[39mshape)\n\u001b[0;32m---> 25\u001b[0m l \u001b[38;5;241m=\u001b[39m \u001b[43mloss\u001b[49m\u001b[43m(\u001b[49m\u001b[43mout\u001b[49m\u001b[43m,\u001b[49m\u001b[43m \u001b[49m\u001b[43mdata\u001b[49m\u001b[38;5;241;43m.\u001b[39;49m\u001b[43my\u001b[49m\u001b[38;5;241;43m.\u001b[39;49m\u001b[43mlong\u001b[49m\u001b[43m(\u001b[49m\u001b[43m)\u001b[49m\u001b[43m)\u001b[49m\n\u001b[1;32m     26\u001b[0m losses\u001b[38;5;241m.\u001b[39mappend(l\u001b[38;5;241m.\u001b[39mitem())\n\u001b[1;32m     27\u001b[0m l\u001b[38;5;241m.\u001b[39mbackward()\n",
      "File \u001b[0;32m~/.local/lib/python3.9/site-packages/torch/nn/modules/module.py:1130\u001b[0m, in \u001b[0;36mModule._call_impl\u001b[0;34m(self, *input, **kwargs)\u001b[0m\n\u001b[1;32m   1126\u001b[0m \u001b[38;5;66;03m# If we don't have any hooks, we want to skip the rest of the logic in\u001b[39;00m\n\u001b[1;32m   1127\u001b[0m \u001b[38;5;66;03m# this function, and just call forward.\u001b[39;00m\n\u001b[1;32m   1128\u001b[0m \u001b[38;5;28;01mif\u001b[39;00m \u001b[38;5;129;01mnot\u001b[39;00m (\u001b[38;5;28mself\u001b[39m\u001b[38;5;241m.\u001b[39m_backward_hooks \u001b[38;5;129;01mor\u001b[39;00m \u001b[38;5;28mself\u001b[39m\u001b[38;5;241m.\u001b[39m_forward_hooks \u001b[38;5;129;01mor\u001b[39;00m \u001b[38;5;28mself\u001b[39m\u001b[38;5;241m.\u001b[39m_forward_pre_hooks \u001b[38;5;129;01mor\u001b[39;00m _global_backward_hooks\n\u001b[1;32m   1129\u001b[0m         \u001b[38;5;129;01mor\u001b[39;00m _global_forward_hooks \u001b[38;5;129;01mor\u001b[39;00m _global_forward_pre_hooks):\n\u001b[0;32m-> 1130\u001b[0m     \u001b[38;5;28;01mreturn\u001b[39;00m \u001b[43mforward_call\u001b[49m\u001b[43m(\u001b[49m\u001b[38;5;241;43m*\u001b[39;49m\u001b[38;5;28;43minput\u001b[39;49m\u001b[43m,\u001b[49m\u001b[43m \u001b[49m\u001b[38;5;241;43m*\u001b[39;49m\u001b[38;5;241;43m*\u001b[39;49m\u001b[43mkwargs\u001b[49m\u001b[43m)\u001b[49m\n\u001b[1;32m   1131\u001b[0m \u001b[38;5;66;03m# Do not call functions when jit is used\u001b[39;00m\n\u001b[1;32m   1132\u001b[0m full_backward_hooks, non_full_backward_hooks \u001b[38;5;241m=\u001b[39m [], []\n",
      "File \u001b[0;32m~/.local/lib/python3.9/site-packages/torch/nn/modules/loss.py:211\u001b[0m, in \u001b[0;36mNLLLoss.forward\u001b[0;34m(self, input, target)\u001b[0m\n\u001b[1;32m    210\u001b[0m \u001b[38;5;28;01mdef\u001b[39;00m \u001b[38;5;21mforward\u001b[39m(\u001b[38;5;28mself\u001b[39m, \u001b[38;5;28minput\u001b[39m: Tensor, target: Tensor) \u001b[38;5;241m-\u001b[39m\u001b[38;5;241m>\u001b[39m Tensor:\n\u001b[0;32m--> 211\u001b[0m     \u001b[38;5;28;01mreturn\u001b[39;00m \u001b[43mF\u001b[49m\u001b[38;5;241;43m.\u001b[39;49m\u001b[43mnll_loss\u001b[49m\u001b[43m(\u001b[49m\u001b[38;5;28;43minput\u001b[39;49m\u001b[43m,\u001b[49m\u001b[43m \u001b[49m\u001b[43mtarget\u001b[49m\u001b[43m,\u001b[49m\u001b[43m \u001b[49m\u001b[43mweight\u001b[49m\u001b[38;5;241;43m=\u001b[39;49m\u001b[38;5;28;43mself\u001b[39;49m\u001b[38;5;241;43m.\u001b[39;49m\u001b[43mweight\u001b[49m\u001b[43m,\u001b[49m\u001b[43m \u001b[49m\u001b[43mignore_index\u001b[49m\u001b[38;5;241;43m=\u001b[39;49m\u001b[38;5;28;43mself\u001b[39;49m\u001b[38;5;241;43m.\u001b[39;49m\u001b[43mignore_index\u001b[49m\u001b[43m,\u001b[49m\u001b[43m \u001b[49m\u001b[43mreduction\u001b[49m\u001b[38;5;241;43m=\u001b[39;49m\u001b[38;5;28;43mself\u001b[39;49m\u001b[38;5;241;43m.\u001b[39;49m\u001b[43mreduction\u001b[49m\u001b[43m)\u001b[49m\n",
      "File \u001b[0;32m~/.local/lib/python3.9/site-packages/torch/nn/functional.py:2689\u001b[0m, in \u001b[0;36mnll_loss\u001b[0;34m(input, target, weight, size_average, ignore_index, reduce, reduction)\u001b[0m\n\u001b[1;32m   2687\u001b[0m \u001b[38;5;28;01mif\u001b[39;00m size_average \u001b[38;5;129;01mis\u001b[39;00m \u001b[38;5;129;01mnot\u001b[39;00m \u001b[38;5;28;01mNone\u001b[39;00m \u001b[38;5;129;01mor\u001b[39;00m reduce \u001b[38;5;129;01mis\u001b[39;00m \u001b[38;5;129;01mnot\u001b[39;00m \u001b[38;5;28;01mNone\u001b[39;00m:\n\u001b[1;32m   2688\u001b[0m     reduction \u001b[38;5;241m=\u001b[39m _Reduction\u001b[38;5;241m.\u001b[39mlegacy_get_string(size_average, reduce)\n\u001b[0;32m-> 2689\u001b[0m \u001b[38;5;28;01mreturn\u001b[39;00m \u001b[43mtorch\u001b[49m\u001b[38;5;241;43m.\u001b[39;49m\u001b[43m_C\u001b[49m\u001b[38;5;241;43m.\u001b[39;49m\u001b[43m_nn\u001b[49m\u001b[38;5;241;43m.\u001b[39;49m\u001b[43mnll_loss_nd\u001b[49m\u001b[43m(\u001b[49m\u001b[38;5;28;43minput\u001b[39;49m\u001b[43m,\u001b[49m\u001b[43m \u001b[49m\u001b[43mtarget\u001b[49m\u001b[43m,\u001b[49m\u001b[43m \u001b[49m\u001b[43mweight\u001b[49m\u001b[43m,\u001b[49m\u001b[43m \u001b[49m\u001b[43m_Reduction\u001b[49m\u001b[38;5;241;43m.\u001b[39;49m\u001b[43mget_enum\u001b[49m\u001b[43m(\u001b[49m\u001b[43mreduction\u001b[49m\u001b[43m)\u001b[49m\u001b[43m,\u001b[49m\u001b[43m \u001b[49m\u001b[43mignore_index\u001b[49m\u001b[43m)\u001b[49m\n",
      "\u001b[0;31mValueError\u001b[0m: Expected input batch_size (114) to match target batch_size (0)."
     ]
    }
   ],
   "source": [
    "from sklearn.metrics import roc_auc_score\n",
    "from collections import defaultdict\n",
    "from IPython.display import clear_output\n",
    "import matplotlib.pyplot as plt\n",
    "\n",
    "def predict(model, X, y, loss):\n",
    "    out = model(X)\n",
    "    l = loss(out, y)\n",
    "    return l, roc_auc_score(y, out[:, 1].detach())\n",
    "\n",
    "def train(model, dataloaders, epochs=100, class_weights=None, verbose=False, lr=0.001):\n",
    "    optimizer = torch.optim.Adam(model.parameters(), lr=lr)\n",
    "    loss = torch.nn.NLLLoss(weight=class_weights)\n",
    "    \n",
    "    auc_history  = defaultdict(list)\n",
    "    loss_history = defaultdict(list)\n",
    "    for ep in range(epochs):\n",
    "        roc_aucs = []\n",
    "        losses = []\n",
    "        model.train()\n",
    "        for data in dataloaders[\"train\"]:\n",
    "            optimizer.zero_grad()\n",
    "            out = model(data.x, data.edge_index)\n",
    "            print(out.shape, data.y.shape)\n",
    "            l = loss(out, data.y.long())\n",
    "            losses.append(l.item())\n",
    "            l.backward()\n",
    "            optimizer.step()\n",
    "            roc_aucs.append(roc_auc_score(data.y, out[:, 1].detach()))\n",
    "        auc_history[\"train\"].append(np.mean(roc_aucs))\n",
    "        loss_history[\"train\"].append(np.mean(losses))\n",
    "        \n",
    "        roc_aucs = []\n",
    "        losses = []\n",
    "        model.eval()\n",
    "        for data in dataloaders[\"val\"]:\n",
    "            out = model(data.x, data.edge_index)\n",
    "            l = loss(out, data.y.long())\n",
    "            losses.append(l.item())\n",
    "            roc_aucs.append(roc_auc_score(data.y, out[:, 1].detach()))\n",
    "        auc_history[\"val\"].append(np.mean(roc_aucs))\n",
    "        loss_history[\"val\"].append(np.mean(losses))\n",
    "        \n",
    "        clear_output(wait=True)\n",
    "        \n",
    "        plt.plot(range(len(loss_history[\"train\"])), loss_history[\"train\"], label=\"train\")\n",
    "        plt.plot(range(len(loss_history[\"val\"])), loss_history[\"val\"], label=\"val\")\n",
    "        plt.show()\n",
    "        \n",
    "        plt.plot(range(len(auc_history[\"train\"])), auc_history[\"train\"], label=\"train\")\n",
    "        plt.plot(range(len(auc_history[\"val\"])), auc_history[\"val\"], label=\"val\")\n",
    "        plt.show()\n",
    "    return score\n",
    "score = train(gnn, dataloaders)"
   ]
  },
  {
   "cell_type": "code",
   "execution_count": null,
   "id": "985f33d2-f6c5-4962-9c9f-79249ef93293",
   "metadata": {},
   "outputs": [],
   "source": []
  }
 ],
 "metadata": {
  "kernelspec": {
   "display_name": "Python 3 (ipykernel)",
   "language": "python",
   "name": "python3"
  },
  "language_info": {
   "codemirror_mode": {
    "name": "ipython",
    "version": 3
   },
   "file_extension": ".py",
   "mimetype": "text/x-python",
   "name": "python",
   "nbconvert_exporter": "python",
   "pygments_lexer": "ipython3",
   "version": "3.9.7"
  }
 },
 "nbformat": 4,
 "nbformat_minor": 5
}
