{
 "cells": [
  {
   "cell_type": "code",
   "execution_count": 108,
   "id": "ef83c2ba-fc1d-4473-b918-f80c73d5b245",
   "metadata": {},
   "outputs": [],
   "source": [
    "import torch\n",
    "from torch import Tensor\n",
    "from torch.nn import Sequential, Linear, ReLU\n",
    "from torch_geometric.nn import MessagePassing"
   ]
  },
  {
   "cell_type": "code",
   "execution_count": 111,
   "id": "de28722a-ed33-46c4-88c4-7f8e60adb19f",
   "metadata": {},
   "outputs": [],
   "source": [
    "class EdgeConv(MessagePassing):\n",
    "    def __init__(self, in_channels, out_channels):\n",
    "        super.__init__(aggr=\"max\")\n",
    "        self.mlp = Sequential(\n",
    "            Linear(2 * in_channels, out_channels),\n",
    "            ReLU(),\n",
    "            Linear(out_channels,out_channels)\n",
    "        )\n",
    "        \n",
    "    def forward(self, x:Tensor, edge_index: Tensor) -> Tensor:\n",
    "        return self.propagater(edg_index,x=x)\n",
    "    \n",
    "    def message(self, x_j, Tensor, x_i: Tensor) -> Tensor:\n",
    "        edge_features = torch.cat([x_i, x_j - x_i],dim=-1)\n",
    "        return self.mlp(edge_fe)"
   ]
  },
  {
   "cell_type": "code",
   "execution_count": null,
   "id": "88b5e1ef-3dd1-45a7-930d-545e0bedcaa9",
   "metadata": {},
   "outputs": [],
   "source": []
  }
 ],
 "metadata": {
  "kernelspec": {
   "display_name": "Python 3 (ipykernel)",
   "language": "python",
   "name": "python3"
  },
  "language_info": {
   "codemirror_mode": {
    "name": "ipython",
    "version": 3
   },
   "file_extension": ".py",
   "mimetype": "text/x-python",
   "name": "python",
   "nbconvert_exporter": "python",
   "pygments_lexer": "ipython3",
   "version": "3.9.7"
  }
 },
 "nbformat": 4,
 "nbformat_minor": 5
}
