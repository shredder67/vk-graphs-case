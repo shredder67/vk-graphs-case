{
 "cells": [
  {
   "cell_type": "code",
   "execution_count": 5,
   "id": "9b4196e9-0675-4b30-8e19-7a6bd8defa5c",
   "metadata": {},
   "outputs": [],
   "source": [
    "from sklearn.metrics import roc_auc_score\n",
    "from catboost import CatBoostClassifier\n",
    "import pandas as pd\n",
    "import numpy as np\n",
    "import math"
   ]
  },
  {
   "cell_type": "code",
   "execution_count": 3,
   "id": "76ceb15a-d512-4ec4-a247-ac2f885634f2",
   "metadata": {},
   "outputs": [],
   "source": [
    "fch = pd.read_csv(\"data/FINAL_FEATURES_TRAINTEST.tsv\",sep='\\t')\n",
    "trg = pd.read_csv(\"data/FINAL_TARGETS_DATES_TRAINTEST.tsv\",sep=\"\\t\")"
   ]
  },
  {
   "cell_type": "code",
   "execution_count": 4,
   "id": "c0eeb2ef-f12b-4910-b1d4-a5cd74e9bd70",
   "metadata": {},
   "outputs": [],
   "source": [
    "new_fch_trg = pd.merge(trg, fch, on=\"CLIENT_ID\",how=\"left\")"
   ]
  },
  {
   "cell_type": "code",
   "execution_count": 8,
   "id": "7630a3ef-c7c3-4659-b92e-c57e2845d51b",
   "metadata": {
    "collapsed": true,
    "jupyter": {
     "outputs_hidden": true
    },
    "tags": []
   },
   "outputs": [
    {
     "name": "stderr",
     "output_type": "stream",
     "text": [
      "/tmp/ipykernel_126354/947684188.py:2: SettingWithCopyWarning: \n",
      "A value is trying to be set on a copy of a slice from a DataFrame\n",
      "\n",
      "See the caveats in the documentation: https://pandas.pydata.org/pandas-docs/stable/user_guide/indexing.html#returning-a-view-versus-a-copy\n",
      "  oneMiddleFrame.drop([\"CLIENT_ID\"],axis=1,inplace=True)\n",
      "/tmp/ipykernel_126354/947684188.py:3: SettingWithCopyWarning: \n",
      "A value is trying to be set on a copy of a slice from a DataFrame\n",
      "\n",
      "See the caveats in the documentation: https://pandas.pydata.org/pandas-docs/stable/user_guide/indexing.html#returning-a-view-versus-a-copy\n",
      "  oneMiddleFrame.drop([\"RETRO_DT\"],axis=1,inplace=True)\n",
      "/tmp/ipykernel_126354/947684188.py:4: SettingWithCopyWarning: \n",
      "A value is trying to be set on a copy of a slice from a DataFrame\n",
      "\n",
      "See the caveats in the documentation: https://pandas.pydata.org/pandas-docs/stable/user_guide/indexing.html#returning-a-view-versus-a-copy\n",
      "  oneMiddleFrame.drop([\"TARGET\"],axis=1,inplace=True)\n"
     ]
    },
    {
     "name": "stdout",
     "output_type": "stream",
     "text": [
      "[1.29600610e-02 5.61716996e+00 4.63970607e+01 ... 0.00000000e+00\n",
      " 1.10118165e-03 1.45864216e-01]\n"
     ]
    }
   ],
   "source": [
    "oneMiddleFrame =  new_fch_trg[new_fch_trg[\"TARGET\"] == \"1\"]\n",
    "oneMiddleFrame.drop([\"CLIENT_ID\"],axis=1,inplace=True)\n",
    "oneMiddleFrame.drop([\"RETRO_DT\"],axis=1,inplace=True)\n",
    "oneMiddleFrame.drop([\"TARGET\"],axis=1,inplace=True)\n",
    "head = oneMiddleFrame.head(0)\n",
    "oneMiddle = []\n",
    "for word in head:\n",
    "    listFeature = (oneMiddleFrame[word].tolist())\n",
    "    datas = [x for x in oneMiddleFrame[word] if not math.isnan(x)]\n",
    "    oneMiddle.append(np.mean(datas))\n",
    "oneMiddle = np.array(oneMiddle)"
   ]
  },
  {
   "cell_type": "code",
   "execution_count": 10,
   "id": "56d18ba5-a6ae-41db-a864-28592f6d4884",
   "metadata": {
    "collapsed": true,
    "jupyter": {
     "outputs_hidden": true
    },
    "tags": []
   },
   "outputs": [
    {
     "name": "stderr",
     "output_type": "stream",
     "text": [
      "/tmp/ipykernel_126354/757863315.py:2: SettingWithCopyWarning: \n",
      "A value is trying to be set on a copy of a slice from a DataFrame\n",
      "\n",
      "See the caveats in the documentation: https://pandas.pydata.org/pandas-docs/stable/user_guide/indexing.html#returning-a-view-versus-a-copy\n",
      "  zeroMiddleFrame.drop([\"CLIENT_ID\"],axis=1,inplace=True)\n",
      "/tmp/ipykernel_126354/757863315.py:3: SettingWithCopyWarning: \n",
      "A value is trying to be set on a copy of a slice from a DataFrame\n",
      "\n",
      "See the caveats in the documentation: https://pandas.pydata.org/pandas-docs/stable/user_guide/indexing.html#returning-a-view-versus-a-copy\n",
      "  zeroMiddleFrame.drop([\"RETRO_DT\"],axis=1,inplace=True)\n",
      "/tmp/ipykernel_126354/757863315.py:4: SettingWithCopyWarning: \n",
      "A value is trying to be set on a copy of a slice from a DataFrame\n",
      "\n",
      "See the caveats in the documentation: https://pandas.pydata.org/pandas-docs/stable/user_guide/indexing.html#returning-a-view-versus-a-copy\n",
      "  zeroMiddleFrame.drop([\"TARGET\"],axis=1,inplace=True)\n"
     ]
    },
    {
     "name": "stdout",
     "output_type": "stream",
     "text": [
      "[2.69189765e-02 8.24829424e+00 6.01964819e+01 ... 0.00000000e+00\n",
      " 4.26446810e-04 4.57719576e-02]\n"
     ]
    }
   ],
   "source": [
    "zeroMiddleFrame =  new_fch_trg[new_fch_trg[\"TARGET\"] == \"0\"]\n",
    "zeroMiddleFrame.drop([\"CLIENT_ID\"],axis=1,inplace=True)\n",
    "zeroMiddleFrame.drop([\"RETRO_DT\"],axis=1,inplace=True)\n",
    "zeroMiddleFrame.drop([\"TARGET\"],axis=1,inplace=True)\n",
    "head = zeroMiddleFrame.head(0)\n",
    "zeroMiddle = []\n",
    "for word in head:\n",
    "    listFeature = (zeroMiddleFrame[word].tolist())\n",
    "    datas = [x for x in zeroMiddleFrame[word] if not math.isnan(x)]\n",
    "    zeroMiddle.append(np.mean(datas))\n",
    "zeroMiddle = np.array(zeroMiddle)"
   ]
  },
  {
   "cell_type": "code",
   "execution_count": 11,
   "id": "3ca1016d-9e75-451f-a7b6-e04c7b30bb6c",
   "metadata": {
    "collapsed": true,
    "jupyter": {
     "outputs_hidden": true
    },
    "tags": []
   },
   "outputs": [
    {
     "name": "stderr",
     "output_type": "stream",
     "text": [
      "/tmp/ipykernel_126354/156119213.py:2: SettingWithCopyWarning: \n",
      "A value is trying to be set on a copy of a slice from a DataFrame\n",
      "\n",
      "See the caveats in the documentation: https://pandas.pydata.org/pandas-docs/stable/user_guide/indexing.html#returning-a-view-versus-a-copy\n",
      "  testMiddleFrame.drop([\"CLIENT_ID\"],axis=1,inplace=True)\n",
      "/tmp/ipykernel_126354/156119213.py:3: SettingWithCopyWarning: \n",
      "A value is trying to be set on a copy of a slice from a DataFrame\n",
      "\n",
      "See the caveats in the documentation: https://pandas.pydata.org/pandas-docs/stable/user_guide/indexing.html#returning-a-view-versus-a-copy\n",
      "  testMiddleFrame.drop([\"RETRO_DT\"],axis=1,inplace=True)\n",
      "/tmp/ipykernel_126354/156119213.py:4: SettingWithCopyWarning: \n",
      "A value is trying to be set on a copy of a slice from a DataFrame\n",
      "\n",
      "See the caveats in the documentation: https://pandas.pydata.org/pandas-docs/stable/user_guide/indexing.html#returning-a-view-versus-a-copy\n",
      "  testMiddleFrame.drop([\"TARGET\"],axis=1,inplace=True)\n"
     ]
    },
    {
     "name": "stdout",
     "output_type": "stream",
     "text": [
      "[2.80848521e-02 7.66128872e+00 5.63843243e+01 ... 0.00000000e+00\n",
      " 0.00000000e+00 2.02669057e-02]\n"
     ]
    }
   ],
   "source": [
    "testMiddleFrame =  new_fch_trg[new_fch_trg[\"TARGET\"] == \"test\"]\n",
    "testMiddleFrame.drop([\"CLIENT_ID\"],axis=1,inplace=True)\n",
    "testMiddleFrame.drop([\"RETRO_DT\"],axis=1,inplace=True)\n",
    "testMiddleFrame.drop([\"TARGET\"],axis=1,inplace=True)\n",
    "head = testMiddleFrame.head(0)\n",
    "testMiddle = []\n",
    "for word in head:\n",
    "    listFeature = (testMiddleFrame[word].tolist())\n",
    "    datas = [x for x in testMiddleFrame[word] if not math.isnan(x)]\n",
    "    testMiddle.append(np.mean(datas))\n",
    "testMiddle = np.array(testMiddle)"
   ]
  },
  {
   "cell_type": "code",
   "execution_count": 42,
   "id": "25b8fad8-24f1-4ad8-ab08-ee5817e2f368",
   "metadata": {},
   "outputs": [
    {
     "ename": "KeyboardInterrupt",
     "evalue": "",
     "output_type": "error",
     "traceback": [
      "\u001b[0;31m---------------------------------------------------------------------------\u001b[0m",
      "\u001b[0;31mKeyboardInterrupt\u001b[0m                         Traceback (most recent call last)",
      "Cell \u001b[0;32mIn [42], line 4\u001b[0m\n\u001b[1;32m      2\u001b[0m L \u001b[38;5;241m=\u001b[39m \u001b[38;5;28mlen\u001b[39m(head)\n\u001b[1;32m      3\u001b[0m \u001b[38;5;28;01mfor\u001b[39;00m i \u001b[38;5;129;01min\u001b[39;00m \u001b[38;5;28mrange\u001b[39m(\u001b[38;5;241m3\u001b[39m, L):\n\u001b[0;32m----> 4\u001b[0m     new_fch_trg[head[i]]\u001b[38;5;241m.\u001b[39mupdate(\u001b[43mnew_fch_trg\u001b[49m\u001b[43m[\u001b[49m\u001b[43mnew_fch_trg\u001b[49m\u001b[43m[\u001b[49m\u001b[38;5;124;43m\"\u001b[39;49m\u001b[38;5;124;43mTARGET\u001b[39;49m\u001b[38;5;124;43m\"\u001b[39;49m\u001b[43m]\u001b[49m\u001b[43m \u001b[49m\u001b[38;5;241;43m==\u001b[39;49m\u001b[43m \u001b[49m\u001b[38;5;124;43m\"\u001b[39;49m\u001b[38;5;124;43m0\u001b[39;49m\u001b[38;5;124;43m\"\u001b[39;49m\u001b[43m]\u001b[49m[head[i]]\u001b[38;5;241m.\u001b[39mfillna(zeroMiddle[i\u001b[38;5;241m-\u001b[39m\u001b[38;5;241m3\u001b[39m]))\n\u001b[1;32m      5\u001b[0m     new_fch_trg[head[i]]\u001b[38;5;241m.\u001b[39mupdate(new_fch_trg[new_fch_trg[\u001b[38;5;124m\"\u001b[39m\u001b[38;5;124mTARGET\u001b[39m\u001b[38;5;124m\"\u001b[39m] \u001b[38;5;241m==\u001b[39m \u001b[38;5;124m\"\u001b[39m\u001b[38;5;124m1\u001b[39m\u001b[38;5;124m\"\u001b[39m][head[i]]\u001b[38;5;241m.\u001b[39mfillna(testMiddle[i\u001b[38;5;241m-\u001b[39m\u001b[38;5;241m3\u001b[39m]))\n\u001b[1;32m      6\u001b[0m     new_fch_trg[head[i]]\u001b[38;5;241m.\u001b[39mupdate(new_fch_trg[new_fch_trg[\u001b[38;5;124m\"\u001b[39m\u001b[38;5;124mTARGET\u001b[39m\u001b[38;5;124m\"\u001b[39m] \u001b[38;5;241m==\u001b[39m \u001b[38;5;124m\"\u001b[39m\u001b[38;5;124mtest\u001b[39m\u001b[38;5;124m\"\u001b[39m][head[i]]\u001b[38;5;241m.\u001b[39mfillna(testMiddle[i\u001b[38;5;241m-\u001b[39m\u001b[38;5;241m3\u001b[39m]))\n",
      "File \u001b[0;32m/opt/tljh/user/lib/python3.9/site-packages/pandas/core/frame.py:3496\u001b[0m, in \u001b[0;36mDataFrame.__getitem__\u001b[0;34m(self, key)\u001b[0m\n\u001b[1;32m   3494\u001b[0m \u001b[38;5;66;03m# Do we have a (boolean) 1d indexer?\u001b[39;00m\n\u001b[1;32m   3495\u001b[0m \u001b[38;5;28;01mif\u001b[39;00m com\u001b[38;5;241m.\u001b[39mis_bool_indexer(key):\n\u001b[0;32m-> 3496\u001b[0m     \u001b[38;5;28;01mreturn\u001b[39;00m \u001b[38;5;28;43mself\u001b[39;49m\u001b[38;5;241;43m.\u001b[39;49m\u001b[43m_getitem_bool_array\u001b[49m\u001b[43m(\u001b[49m\u001b[43mkey\u001b[49m\u001b[43m)\u001b[49m\n\u001b[1;32m   3498\u001b[0m \u001b[38;5;66;03m# We are left with two options: a single key, and a collection of keys,\u001b[39;00m\n\u001b[1;32m   3499\u001b[0m \u001b[38;5;66;03m# We interpret tuples as collections only for non-MultiIndex\u001b[39;00m\n\u001b[1;32m   3500\u001b[0m is_single_key \u001b[38;5;241m=\u001b[39m \u001b[38;5;28misinstance\u001b[39m(key, \u001b[38;5;28mtuple\u001b[39m) \u001b[38;5;129;01mor\u001b[39;00m \u001b[38;5;129;01mnot\u001b[39;00m is_list_like(key)\n",
      "File \u001b[0;32m/opt/tljh/user/lib/python3.9/site-packages/pandas/core/frame.py:3551\u001b[0m, in \u001b[0;36mDataFrame._getitem_bool_array\u001b[0;34m(self, key)\u001b[0m\n\u001b[1;32m   3549\u001b[0m key \u001b[38;5;241m=\u001b[39m check_bool_indexer(\u001b[38;5;28mself\u001b[39m\u001b[38;5;241m.\u001b[39mindex, key)\n\u001b[1;32m   3550\u001b[0m indexer \u001b[38;5;241m=\u001b[39m key\u001b[38;5;241m.\u001b[39mnonzero()[\u001b[38;5;241m0\u001b[39m]\n\u001b[0;32m-> 3551\u001b[0m \u001b[38;5;28;01mreturn\u001b[39;00m \u001b[38;5;28;43mself\u001b[39;49m\u001b[38;5;241;43m.\u001b[39;49m\u001b[43m_take_with_is_copy\u001b[49m\u001b[43m(\u001b[49m\u001b[43mindexer\u001b[49m\u001b[43m,\u001b[49m\u001b[43m \u001b[49m\u001b[43maxis\u001b[49m\u001b[38;5;241;43m=\u001b[39;49m\u001b[38;5;241;43m0\u001b[39;49m\u001b[43m)\u001b[49m\n",
      "File \u001b[0;32m/opt/tljh/user/lib/python3.9/site-packages/pandas/core/generic.py:3716\u001b[0m, in \u001b[0;36mNDFrame._take_with_is_copy\u001b[0;34m(self, indices, axis)\u001b[0m\n\u001b[1;32m   3708\u001b[0m \u001b[38;5;28;01mdef\u001b[39;00m \u001b[38;5;21m_take_with_is_copy\u001b[39m(\u001b[38;5;28mself\u001b[39m: NDFrameT, indices, axis\u001b[38;5;241m=\u001b[39m\u001b[38;5;241m0\u001b[39m) \u001b[38;5;241m-\u001b[39m\u001b[38;5;241m>\u001b[39m NDFrameT:\n\u001b[1;32m   3709\u001b[0m     \u001b[38;5;124;03m\"\"\"\u001b[39;00m\n\u001b[1;32m   3710\u001b[0m \u001b[38;5;124;03m    Internal version of the `take` method that sets the `_is_copy`\u001b[39;00m\n\u001b[1;32m   3711\u001b[0m \u001b[38;5;124;03m    attribute to keep track of the parent dataframe (using in indexing\u001b[39;00m\n\u001b[0;32m   (...)\u001b[0m\n\u001b[1;32m   3714\u001b[0m \u001b[38;5;124;03m    See the docstring of `take` for full explanation of the parameters.\u001b[39;00m\n\u001b[1;32m   3715\u001b[0m \u001b[38;5;124;03m    \"\"\"\u001b[39;00m\n\u001b[0;32m-> 3716\u001b[0m     result \u001b[38;5;241m=\u001b[39m \u001b[38;5;28;43mself\u001b[39;49m\u001b[38;5;241;43m.\u001b[39;49m\u001b[43mtake\u001b[49m\u001b[43m(\u001b[49m\u001b[43mindices\u001b[49m\u001b[38;5;241;43m=\u001b[39;49m\u001b[43mindices\u001b[49m\u001b[43m,\u001b[49m\u001b[43m \u001b[49m\u001b[43maxis\u001b[49m\u001b[38;5;241;43m=\u001b[39;49m\u001b[43maxis\u001b[49m\u001b[43m)\u001b[49m\n\u001b[1;32m   3717\u001b[0m     \u001b[38;5;66;03m# Maybe set copy if we didn't actually change the index.\u001b[39;00m\n\u001b[1;32m   3718\u001b[0m     \u001b[38;5;28;01mif\u001b[39;00m \u001b[38;5;129;01mnot\u001b[39;00m result\u001b[38;5;241m.\u001b[39m_get_axis(axis)\u001b[38;5;241m.\u001b[39mequals(\u001b[38;5;28mself\u001b[39m\u001b[38;5;241m.\u001b[39m_get_axis(axis)):\n",
      "File \u001b[0;32m/opt/tljh/user/lib/python3.9/site-packages/pandas/core/generic.py:3701\u001b[0m, in \u001b[0;36mNDFrame.take\u001b[0;34m(self, indices, axis, is_copy, **kwargs)\u001b[0m\n\u001b[1;32m   3692\u001b[0m     warnings\u001b[38;5;241m.\u001b[39mwarn(\n\u001b[1;32m   3693\u001b[0m         \u001b[38;5;124m\"\u001b[39m\u001b[38;5;124mis_copy is deprecated and will be removed in a future version. \u001b[39m\u001b[38;5;124m\"\u001b[39m\n\u001b[1;32m   3694\u001b[0m         \u001b[38;5;124m\"\u001b[39m\u001b[38;5;124m'\u001b[39m\u001b[38;5;124mtake\u001b[39m\u001b[38;5;124m'\u001b[39m\u001b[38;5;124m always returns a copy, so there is no need to specify this.\u001b[39m\u001b[38;5;124m\"\u001b[39m,\n\u001b[1;32m   3695\u001b[0m         \u001b[38;5;167;01mFutureWarning\u001b[39;00m,\n\u001b[1;32m   3696\u001b[0m         stacklevel\u001b[38;5;241m=\u001b[39mfind_stack_level(),\n\u001b[1;32m   3697\u001b[0m     )\n\u001b[1;32m   3699\u001b[0m nv\u001b[38;5;241m.\u001b[39mvalidate_take((), kwargs)\n\u001b[0;32m-> 3701\u001b[0m \u001b[38;5;28;43mself\u001b[39;49m\u001b[38;5;241;43m.\u001b[39;49m\u001b[43m_consolidate_inplace\u001b[49m\u001b[43m(\u001b[49m\u001b[43m)\u001b[49m\n\u001b[1;32m   3703\u001b[0m new_data \u001b[38;5;241m=\u001b[39m \u001b[38;5;28mself\u001b[39m\u001b[38;5;241m.\u001b[39m_mgr\u001b[38;5;241m.\u001b[39mtake(\n\u001b[1;32m   3704\u001b[0m     indices, axis\u001b[38;5;241m=\u001b[39m\u001b[38;5;28mself\u001b[39m\u001b[38;5;241m.\u001b[39m_get_block_manager_axis(axis), verify\u001b[38;5;241m=\u001b[39m\u001b[38;5;28;01mTrue\u001b[39;00m\n\u001b[1;32m   3705\u001b[0m )\n\u001b[1;32m   3706\u001b[0m \u001b[38;5;28;01mreturn\u001b[39;00m \u001b[38;5;28mself\u001b[39m\u001b[38;5;241m.\u001b[39m_constructor(new_data)\u001b[38;5;241m.\u001b[39m__finalize__(\u001b[38;5;28mself\u001b[39m, method\u001b[38;5;241m=\u001b[39m\u001b[38;5;124m\"\u001b[39m\u001b[38;5;124mtake\u001b[39m\u001b[38;5;124m\"\u001b[39m)\n",
      "File \u001b[0;32m/opt/tljh/user/lib/python3.9/site-packages/pandas/core/generic.py:5653\u001b[0m, in \u001b[0;36mNDFrame._consolidate_inplace\u001b[0;34m(self)\u001b[0m\n\u001b[1;32m   5650\u001b[0m \u001b[38;5;28;01mdef\u001b[39;00m \u001b[38;5;21mf\u001b[39m():\n\u001b[1;32m   5651\u001b[0m     \u001b[38;5;28mself\u001b[39m\u001b[38;5;241m.\u001b[39m_mgr \u001b[38;5;241m=\u001b[39m \u001b[38;5;28mself\u001b[39m\u001b[38;5;241m.\u001b[39m_mgr\u001b[38;5;241m.\u001b[39mconsolidate()\n\u001b[0;32m-> 5653\u001b[0m \u001b[38;5;28;43mself\u001b[39;49m\u001b[38;5;241;43m.\u001b[39;49m\u001b[43m_protect_consolidate\u001b[49m\u001b[43m(\u001b[49m\u001b[43mf\u001b[49m\u001b[43m)\u001b[49m\n",
      "File \u001b[0;32m/opt/tljh/user/lib/python3.9/site-packages/pandas/core/generic.py:5641\u001b[0m, in \u001b[0;36mNDFrame._protect_consolidate\u001b[0;34m(self, f)\u001b[0m\n\u001b[1;32m   5639\u001b[0m     \u001b[38;5;28;01mreturn\u001b[39;00m f()\n\u001b[1;32m   5640\u001b[0m blocks_before \u001b[38;5;241m=\u001b[39m \u001b[38;5;28mlen\u001b[39m(\u001b[38;5;28mself\u001b[39m\u001b[38;5;241m.\u001b[39m_mgr\u001b[38;5;241m.\u001b[39mblocks)\n\u001b[0;32m-> 5641\u001b[0m result \u001b[38;5;241m=\u001b[39m \u001b[43mf\u001b[49m\u001b[43m(\u001b[49m\u001b[43m)\u001b[49m\n\u001b[1;32m   5642\u001b[0m \u001b[38;5;28;01mif\u001b[39;00m \u001b[38;5;28mlen\u001b[39m(\u001b[38;5;28mself\u001b[39m\u001b[38;5;241m.\u001b[39m_mgr\u001b[38;5;241m.\u001b[39mblocks) \u001b[38;5;241m!=\u001b[39m blocks_before:\n\u001b[1;32m   5643\u001b[0m     \u001b[38;5;28mself\u001b[39m\u001b[38;5;241m.\u001b[39m_clear_item_cache()\n",
      "File \u001b[0;32m/opt/tljh/user/lib/python3.9/site-packages/pandas/core/generic.py:5651\u001b[0m, in \u001b[0;36mNDFrame._consolidate_inplace.<locals>.f\u001b[0;34m()\u001b[0m\n\u001b[1;32m   5650\u001b[0m \u001b[38;5;28;01mdef\u001b[39;00m \u001b[38;5;21mf\u001b[39m():\n\u001b[0;32m-> 5651\u001b[0m     \u001b[38;5;28mself\u001b[39m\u001b[38;5;241m.\u001b[39m_mgr \u001b[38;5;241m=\u001b[39m \u001b[38;5;28;43mself\u001b[39;49m\u001b[38;5;241;43m.\u001b[39;49m\u001b[43m_mgr\u001b[49m\u001b[38;5;241;43m.\u001b[39;49m\u001b[43mconsolidate\u001b[49m\u001b[43m(\u001b[49m\u001b[43m)\u001b[49m\n",
      "File \u001b[0;32m/opt/tljh/user/lib/python3.9/site-packages/pandas/core/internals/managers.py:631\u001b[0m, in \u001b[0;36mBaseBlockManager.consolidate\u001b[0;34m(self)\u001b[0m\n\u001b[1;32m    629\u001b[0m bm \u001b[38;5;241m=\u001b[39m \u001b[38;5;28mtype\u001b[39m(\u001b[38;5;28mself\u001b[39m)(\u001b[38;5;28mself\u001b[39m\u001b[38;5;241m.\u001b[39mblocks, \u001b[38;5;28mself\u001b[39m\u001b[38;5;241m.\u001b[39maxes, verify_integrity\u001b[38;5;241m=\u001b[39m\u001b[38;5;28;01mFalse\u001b[39;00m)\n\u001b[1;32m    630\u001b[0m bm\u001b[38;5;241m.\u001b[39m_is_consolidated \u001b[38;5;241m=\u001b[39m \u001b[38;5;28;01mFalse\u001b[39;00m\n\u001b[0;32m--> 631\u001b[0m \u001b[43mbm\u001b[49m\u001b[38;5;241;43m.\u001b[39;49m\u001b[43m_consolidate_inplace\u001b[49m\u001b[43m(\u001b[49m\u001b[43m)\u001b[49m\n\u001b[1;32m    632\u001b[0m \u001b[38;5;28;01mreturn\u001b[39;00m bm\n",
      "File \u001b[0;32m/opt/tljh/user/lib/python3.9/site-packages/pandas/core/internals/managers.py:1699\u001b[0m, in \u001b[0;36mBlockManager._consolidate_inplace\u001b[0;34m(self)\u001b[0m\n\u001b[1;32m   1693\u001b[0m \u001b[38;5;28;01mdef\u001b[39;00m \u001b[38;5;21m_consolidate_inplace\u001b[39m(\u001b[38;5;28mself\u001b[39m) \u001b[38;5;241m-\u001b[39m\u001b[38;5;241m>\u001b[39m \u001b[38;5;28;01mNone\u001b[39;00m:\n\u001b[1;32m   1694\u001b[0m     \u001b[38;5;66;03m# In general, _consolidate_inplace should only be called via\u001b[39;00m\n\u001b[1;32m   1695\u001b[0m     \u001b[38;5;66;03m#  DataFrame._consolidate_inplace, otherwise we will fail to invalidate\u001b[39;00m\n\u001b[1;32m   1696\u001b[0m     \u001b[38;5;66;03m#  the DataFrame's _item_cache. The exception is for newly-created\u001b[39;00m\n\u001b[1;32m   1697\u001b[0m     \u001b[38;5;66;03m#  BlockManager objects not yet attached to a DataFrame.\u001b[39;00m\n\u001b[1;32m   1698\u001b[0m     \u001b[38;5;28;01mif\u001b[39;00m \u001b[38;5;129;01mnot\u001b[39;00m \u001b[38;5;28mself\u001b[39m\u001b[38;5;241m.\u001b[39mis_consolidated():\n\u001b[0;32m-> 1699\u001b[0m         \u001b[38;5;28mself\u001b[39m\u001b[38;5;241m.\u001b[39mblocks \u001b[38;5;241m=\u001b[39m \u001b[38;5;28mtuple\u001b[39m(\u001b[43m_consolidate\u001b[49m\u001b[43m(\u001b[49m\u001b[38;5;28;43mself\u001b[39;49m\u001b[38;5;241;43m.\u001b[39;49m\u001b[43mblocks\u001b[49m\u001b[43m)\u001b[49m)\n\u001b[1;32m   1700\u001b[0m         \u001b[38;5;28mself\u001b[39m\u001b[38;5;241m.\u001b[39m_is_consolidated \u001b[38;5;241m=\u001b[39m \u001b[38;5;28;01mTrue\u001b[39;00m\n\u001b[1;32m   1701\u001b[0m         \u001b[38;5;28mself\u001b[39m\u001b[38;5;241m.\u001b[39m_known_consolidated \u001b[38;5;241m=\u001b[39m \u001b[38;5;28;01mTrue\u001b[39;00m\n",
      "File \u001b[0;32m/opt/tljh/user/lib/python3.9/site-packages/pandas/core/internals/managers.py:2098\u001b[0m, in \u001b[0;36m_consolidate\u001b[0;34m(blocks)\u001b[0m\n\u001b[1;32m   2096\u001b[0m new_blocks: \u001b[38;5;28mlist\u001b[39m[Block] \u001b[38;5;241m=\u001b[39m []\n\u001b[1;32m   2097\u001b[0m \u001b[38;5;28;01mfor\u001b[39;00m (_can_consolidate, dtype), group_blocks \u001b[38;5;129;01min\u001b[39;00m grouper:\n\u001b[0;32m-> 2098\u001b[0m     merged_blocks \u001b[38;5;241m=\u001b[39m \u001b[43m_merge_blocks\u001b[49m\u001b[43m(\u001b[49m\n\u001b[1;32m   2099\u001b[0m \u001b[43m        \u001b[49m\u001b[38;5;28;43mlist\u001b[39;49m\u001b[43m(\u001b[49m\u001b[43mgroup_blocks\u001b[49m\u001b[43m)\u001b[49m\u001b[43m,\u001b[49m\u001b[43m \u001b[49m\u001b[43mdtype\u001b[49m\u001b[38;5;241;43m=\u001b[39;49m\u001b[43mdtype\u001b[49m\u001b[43m,\u001b[49m\u001b[43m \u001b[49m\u001b[43mcan_consolidate\u001b[49m\u001b[38;5;241;43m=\u001b[39;49m\u001b[43m_can_consolidate\u001b[49m\n\u001b[1;32m   2100\u001b[0m \u001b[43m    \u001b[49m\u001b[43m)\u001b[49m\n\u001b[1;32m   2101\u001b[0m     new_blocks \u001b[38;5;241m=\u001b[39m extend_blocks(merged_blocks, new_blocks)\n\u001b[1;32m   2102\u001b[0m \u001b[38;5;28;01mreturn\u001b[39;00m new_blocks\n",
      "File \u001b[0;32m/opt/tljh/user/lib/python3.9/site-packages/pandas/core/internals/managers.py:2125\u001b[0m, in \u001b[0;36m_merge_blocks\u001b[0;34m(blocks, dtype, can_consolidate)\u001b[0m\n\u001b[1;32m   2118\u001b[0m new_values: ArrayLike\n\u001b[1;32m   2120\u001b[0m \u001b[38;5;28;01mif\u001b[39;00m \u001b[38;5;28misinstance\u001b[39m(blocks[\u001b[38;5;241m0\u001b[39m]\u001b[38;5;241m.\u001b[39mdtype, np\u001b[38;5;241m.\u001b[39mdtype):\n\u001b[1;32m   2121\u001b[0m     \u001b[38;5;66;03m# error: List comprehension has incompatible type List[Union[ndarray,\u001b[39;00m\n\u001b[1;32m   2122\u001b[0m     \u001b[38;5;66;03m# ExtensionArray]]; expected List[Union[complex, generic,\u001b[39;00m\n\u001b[1;32m   2123\u001b[0m     \u001b[38;5;66;03m# Sequence[Union[int, float, complex, str, bytes, generic]],\u001b[39;00m\n\u001b[1;32m   2124\u001b[0m     \u001b[38;5;66;03m# Sequence[Sequence[Any]], SupportsArray]]\u001b[39;00m\n\u001b[0;32m-> 2125\u001b[0m     new_values \u001b[38;5;241m=\u001b[39m \u001b[43mnp\u001b[49m\u001b[38;5;241;43m.\u001b[39;49m\u001b[43mvstack\u001b[49m\u001b[43m(\u001b[49m\u001b[43m[\u001b[49m\u001b[43mb\u001b[49m\u001b[38;5;241;43m.\u001b[39;49m\u001b[43mvalues\u001b[49m\u001b[43m \u001b[49m\u001b[38;5;28;43;01mfor\u001b[39;49;00m\u001b[43m \u001b[49m\u001b[43mb\u001b[49m\u001b[43m \u001b[49m\u001b[38;5;129;43;01min\u001b[39;49;00m\u001b[43m \u001b[49m\u001b[43mblocks\u001b[49m\u001b[43m]\u001b[49m\u001b[43m)\u001b[49m  \u001b[38;5;66;03m# type: ignore[misc]\u001b[39;00m\n\u001b[1;32m   2126\u001b[0m \u001b[38;5;28;01melse\u001b[39;00m:\n\u001b[1;32m   2127\u001b[0m     bvals \u001b[38;5;241m=\u001b[39m [blk\u001b[38;5;241m.\u001b[39mvalues \u001b[38;5;28;01mfor\u001b[39;00m blk \u001b[38;5;129;01min\u001b[39;00m blocks]\n",
      "File \u001b[0;32m<__array_function__ internals>:180\u001b[0m, in \u001b[0;36mvstack\u001b[0;34m(*args, **kwargs)\u001b[0m\n",
      "File \u001b[0;32m/opt/tljh/user/lib/python3.9/site-packages/numpy/core/shape_base.py:282\u001b[0m, in \u001b[0;36mvstack\u001b[0;34m(tup)\u001b[0m\n\u001b[1;32m    280\u001b[0m \u001b[38;5;28;01mif\u001b[39;00m \u001b[38;5;129;01mnot\u001b[39;00m \u001b[38;5;28misinstance\u001b[39m(arrs, \u001b[38;5;28mlist\u001b[39m):\n\u001b[1;32m    281\u001b[0m     arrs \u001b[38;5;241m=\u001b[39m [arrs]\n\u001b[0;32m--> 282\u001b[0m \u001b[38;5;28;01mreturn\u001b[39;00m \u001b[43m_nx\u001b[49m\u001b[38;5;241;43m.\u001b[39;49m\u001b[43mconcatenate\u001b[49m\u001b[43m(\u001b[49m\u001b[43marrs\u001b[49m\u001b[43m,\u001b[49m\u001b[43m \u001b[49m\u001b[38;5;241;43m0\u001b[39;49m\u001b[43m)\u001b[49m\n",
      "File \u001b[0;32m<__array_function__ internals>:180\u001b[0m, in \u001b[0;36mconcatenate\u001b[0;34m(*args, **kwargs)\u001b[0m\n",
      "\u001b[0;31mKeyboardInterrupt\u001b[0m: "
     ]
    }
   ],
   "source": [
    "head = list(new_fch_trg.head(0))\n",
    "L = len(head)\n",
    "for i in range(3, L):\n",
    "    new_fch_trg[head[i]].update(new_fch_trg[new_fch_trg[\"TARGET\"] == \"0\"][head[i]].fillna(zeroMiddle[i-3]))\n",
    "    new_fch_trg[head[i]].update(new_fch_trg[new_fch_trg[\"TARGET\"] == \"1\"][head[i]].fillna(testMiddle[i-3]))\n",
    "    new_fch_trg[head[i]].update(new_fch_trg[new_fch_trg[\"TARGET\"] == \"test\"][head[i]].fillna(testMiddle[i-3]))"
   ]
  },
  {
   "cell_type": "code",
   "execution_count": 37,
   "id": "88812d39-51ff-4b48-818d-f8f48502c2bd",
   "metadata": {},
   "outputs": [
    {
     "data": {
      "text/plain": [
       "CLIENT_ID        0\n",
       "RETRO_DT         0\n",
       "TARGET           0\n",
       "i1047        59317\n",
       "i1048        59317\n",
       "             ...  \n",
       "u8=21        59318\n",
       "u8=6         59318\n",
       "u8=7         59318\n",
       "u8=8         59318\n",
       "u8=9             0\n",
       "Length: 1017, dtype: int64"
      ]
     },
     "execution_count": 37,
     "metadata": {},
     "output_type": "execute_result"
    }
   ],
   "source": [
    "new_fch_trg.isna().sum()"
   ]
  },
  {
   "cell_type": "code",
   "execution_count": null,
   "id": "6b1bc059-bd35-4589-94e9-5dcc16bb64e2",
   "metadata": {},
   "outputs": [],
   "source": [
    "\n",
    "#new_fch_trg.drop([\"CLIENT_ID\"],axis=1,inplace=True)\n",
    "#new_fch_trg.drop([\"RETRO_DT\"],axis=1,inplace=True)"
   ]
  },
  {
   "cell_type": "code",
   "execution_count": null,
   "id": "4d2fa3c5-3a98-482e-a8c2-6aab43209188",
   "metadata": {},
   "outputs": [],
   "source": [
    "new_fch_trg.fillna(0)\n",
    "new_test = new_fch_trg[(new_fch_trg[\"TARGET\"]=='test')]\n",
    "new_fch_trg.drop(new_fch_trg.index[(new_fch_trg[\"TARGET\"]=='test')],axis=0,inplace=True)\n",
    "new_fch = new_fch_trg.drop([\"TARGET\"],axis=1)\n",
    "new_trg = new_fch_trg[\"TARGET\"]"
   ]
  },
  {
   "cell_type": "code",
   "execution_count": 27,
   "id": "21f101f1-1809-4fc6-b806-b603ce5158bb",
   "metadata": {},
   "outputs": [],
   "source": [
    "cat = CatBoostClassifier()\n",
    "#cat.fit(X=new_fch,y=new_trg,verbose=False)"
   ]
  },
  {
   "cell_type": "code",
   "execution_count": null,
   "id": "272c097d-25b1-4684-9e6b-9ba00d90afa2",
   "metadata": {},
   "outputs": [],
   "source": [
    "new_test_fch = new_test.drop([\"TARGET\"],axis=1)\n",
    "new_test_fch"
   ]
  },
  {
   "cell_type": "code",
   "execution_count": null,
   "id": "17d368d1-1418-470e-a649-6e966cd3c0fd",
   "metadata": {},
   "outputs": [],
   "source": [
    "pred = cat.predict_proba(new_fch,verbose=False)\n",
    "pred[::1]"
   ]
  },
  {
   "cell_type": "code",
   "execution_count": null,
   "id": "061505cc-e568-4905-b549-0b43641b2257",
   "metadata": {},
   "outputs": [],
   "source": [
    "roc_auc_score(new_trg,pred[:, 1])"
   ]
  },
  {
   "cell_type": "code",
   "execution_count": 24,
   "id": "210d17c3-0686-4b58-8234-ecaa9fe824ed",
   "metadata": {},
   "outputs": [],
   "source": [
    "join_fch_trg = pd.merge(trg, fch, on=\"CLIENT_ID\",how=\"left\")\n",
    "join_fch_trg.drop([\"CLIENT_ID\"],axis=1,inplace=True)\n",
    "join_fch_trg.drop([\"RETRO_DT\"],axis=1,inplace=True)\n",
    "join_fch_trg.drop(join_fch_trg.index[(join_fch_trg[\"TARGET\"]=='test')],axis=0,inplace=True)\n",
    "witout_null = join_fch_trg.dropna(axis=0)\n",
    "with_null = join_fch_trg.fillna(0)\n",
    "#join_fch_trg = join_fch_trg.reset_index()\n",
    "mask = np.random.choice(join_fch_trg.shape[0], size=join_fch_trg.shape[0], replace=False)\n",
    "ratio = int(0.8 * len(mask))\n",
    "train_dataset, val_dataset = join_fch_trg.iloc[list(mask[:ratio])], join_fch_trg.iloc[list(mask[ratio:])]"
   ]
  },
  {
   "cell_type": "markdown",
   "id": "887559d4-00af-407a-9a73-fc7c68a202e6",
   "metadata": {},
   "source": [
    "### С нулями"
   ]
  },
  {
   "cell_type": "code",
   "execution_count": 34,
   "id": "f0263333-00ac-499b-a8c0-ec13f5e278df",
   "metadata": {},
   "outputs": [
    {
     "data": {
      "text/plain": [
       "<catboost.core.CatBoostClassifier at 0x7f8a5f3e83d0>"
      ]
     },
     "execution_count": 34,
     "metadata": {},
     "output_type": "execute_result"
    }
   ],
   "source": [
    "mask = np.random.choice(with_null.shape[0], size=with_null.shape[0], replace=False)\n",
    "ratio = int(0.8 * len(mask))\n",
    "train_null_dataset, val_null_dataset = with_null.iloc[list(mask[:ratio])], with_null.iloc[list(mask[ratio:])]\n",
    "train_null_fch = train_null_dataset.drop([\"TARGET\"],axis=1)\n",
    "train_null_trg = train_null_dataset[\"TARGET\"]\n",
    "val_null_fch = val_null_dataset.drop([\"TARGET\"],axis=1)\n",
    "val_null_trg = val_null_dataset[\"TARGET\"]\n",
    "mask = np.random.choice(witout_null.shape[0], size=witout_null.shape[0], replace=False)\n",
    "ratio = int(0.8 * len(mask))\n",
    "train_wnull_dataset, val_wnull_dataset = witout_null.iloc[list(mask[:ratio])], witout_null.iloc[list(mask[ratio:])]\n",
    "train_wnull_fch = train_wnull_dataset.drop([\"TARGET\"],axis=1)\n",
    "train_wnull_trg = train_wnull_dataset[\"TARGET\"]\n",
    "val_wnull_fch = val_wnull_dataset.drop([\"TARGET\"],axis=1)\n",
    "val_wnull_trg = val_wnull_dataset[\"TARGET\"]\n",
    "\n",
    "cat.fit(X=train_null_fch,y=train_null_trg,verbose=False)\n",
    "cat.fit(X=train_wnull_fch,y=train_wnull_trg,verbose=False)\n"
   ]
  },
  {
   "cell_type": "code",
   "execution_count": 37,
   "id": "857d82ae-a8cb-4522-8345-42df1490c8a7",
   "metadata": {},
   "outputs": [
    {
     "data": {
      "text/plain": [
       "0.6743723386059519"
      ]
     },
     "execution_count": 37,
     "metadata": {},
     "output_type": "execute_result"
    }
   ],
   "source": [
    "new_prd = cat.predict_proba(val_null_fch,verbose=False)\n",
    "roc_auc_score(val_null_trg,new_prd[:,1])"
   ]
  },
  {
   "cell_type": "code",
   "execution_count": null,
   "id": "f50d1597-dfef-427e-a865-8f1712f29641",
   "metadata": {},
   "outputs": [],
   "source": [
    "train_fch = train_dataset.drop([\"TARGET\"],axis=1)\n",
    "train_trg = train_dataset[\"TARGET\"]\n",
    "cat.fit(X=train_fch,y=train_trg,verbose=False)"
   ]
  },
  {
   "cell_type": "code",
   "execution_count": 31,
   "id": "64eb8f94-3cfb-4114-b961-a2649222052a",
   "metadata": {},
   "outputs": [],
   "source": [
    "val_fch = val_dataset.drop([\"TARGET\"],axis=1)\n",
    "val_trg = val_dataset[\"TARGET\"]\n",
    "new_prd = cat.predict_proba(val_fch,verbose=False)"
   ]
  },
  {
   "cell_type": "code",
   "execution_count": 32,
   "id": "24ce578a-4461-4f09-b907-02e09d1fefc4",
   "metadata": {},
   "outputs": [
    {
     "data": {
      "text/plain": [
       "0.6949126664205015"
      ]
     },
     "execution_count": 32,
     "metadata": {},
     "output_type": "execute_result"
    }
   ],
   "source": [
    "roc_auc_score(val_trg,new_prd[:,1])"
   ]
  },
  {
   "cell_type": "code",
   "execution_count": null,
   "id": "806bc4ce-77ac-47f6-ba26-eeb8019191e4",
   "metadata": {},
   "outputs": [],
   "source": []
  },
  {
   "cell_type": "code",
   "execution_count": null,
   "id": "39354121-b31f-4d71-91d0-742ed79b874b",
   "metadata": {},
   "outputs": [],
   "source": []
  },
  {
   "cell_type": "code",
   "execution_count": null,
   "id": "794233f4-42f4-4402-ba41-f5234f187667",
   "metadata": {},
   "outputs": [],
   "source": [
    "submission = pd.read_csv(\"sample_submission.csv\")"
   ]
  },
  {
   "cell_type": "code",
   "execution_count": null,
   "id": "cf0b0a79-7b3c-41dd-952b-2ba62e60676b",
   "metadata": {},
   "outputs": [],
   "source": [
    "features = pd.merge(submission, fch, on=\"CLIENT_ID\", how=\"left\")\n",
    "X = features.drop(\"CLIENT_ID\", axis=1)\n",
    "submission[\"TARGET\"] = cat.predict_proba(X)[:, 1]\n",
    "submission"
   ]
  },
  {
   "cell_type": "code",
   "execution_count": null,
   "id": "1c3ce5fd-3f92-4c47-9db4-65c431b6f818",
   "metadata": {},
   "outputs": [],
   "source": [
    "submission.to_csv(\"submission.csv\", index=False)"
   ]
  },
  {
   "cell_type": "code",
   "execution_count": null,
   "id": "0e28bc11-d2ee-4875-aa69-3f45ab73cee8",
   "metadata": {},
   "outputs": [],
   "source": []
  }
 ],
 "metadata": {
  "kernelspec": {
   "display_name": "Python 3 (ipykernel)",
   "language": "python",
   "name": "python3"
  },
  "language_info": {
   "codemirror_mode": {
    "name": "ipython",
    "version": 3
   },
   "file_extension": ".py",
   "mimetype": "text/x-python",
   "name": "python",
   "nbconvert_exporter": "python",
   "pygments_lexer": "ipython3",
   "version": "3.9.7"
  }
 },
 "nbformat": 4,
 "nbformat_minor": 5
}
