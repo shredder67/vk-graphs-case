{
 "cells": [
  {
   "cell_type": "code",
   "execution_count": 40,
   "id": "df1a5a88-f019-463d-9e13-898569bed2c1",
   "metadata": {},
   "outputs": [],
   "source": [
    "from catboost import CatBoostClassifier\n",
    "from sklearn.linear_model import LogisticRegression\n",
    "from sklearn.model_selection import train_test_split\n",
    "from sklearn.metrics import roc_auc_score\n",
    "import pandas as pd\n",
    "import numpy as np\n",
    "\n",
    "np.random.seed(42)"
   ]
  },
  {
   "cell_type": "markdown",
   "id": "95de6dfc-4c3d-4933-81b8-6d68e692c498",
   "metadata": {},
   "source": [
    "# Голова модели в виде композиции обученных градиентных бустингов\n",
    "\n",
    "Градиетные бустинги обучались независимо на задачу предсказания таргетов, каждый на своей таблице с данным\n",
    "\n",
    "- model_a - градиентный бустинг на эмбеддингах графов\n",
    "- model_c - градиентный бустинг на признаках пользователей\n",
    "- model_d - градиентный бустинг на агрегированных признаках друзей"
   ]
  },
  {
   "cell_type": "code",
   "execution_count": 154,
   "id": "9c60a170-eff7-4178-b8bb-3c9863f66d81",
   "metadata": {},
   "outputs": [
    {
     "data": {
      "text/html": [
       "<div>\n",
       "<style scoped>\n",
       "    .dataframe tbody tr th:only-of-type {\n",
       "        vertical-align: middle;\n",
       "    }\n",
       "\n",
       "    .dataframe tbody tr th {\n",
       "        vertical-align: top;\n",
       "    }\n",
       "\n",
       "    .dataframe thead th {\n",
       "        text-align: right;\n",
       "    }\n",
       "</style>\n",
       "<table border=\"1\" class=\"dataframe\">\n",
       "  <thead>\n",
       "    <tr style=\"text-align: right;\">\n",
       "      <th></th>\n",
       "      <th>CLIENT_ID</th>\n",
       "      <th>RETRO_DT</th>\n",
       "      <th>TARGET</th>\n",
       "    </tr>\n",
       "  </thead>\n",
       "  <tbody>\n",
       "    <tr>\n",
       "      <th>0</th>\n",
       "      <td>1011725</td>\n",
       "      <td>20210501</td>\n",
       "      <td>0</td>\n",
       "    </tr>\n",
       "    <tr>\n",
       "      <th>1</th>\n",
       "      <td>1018784</td>\n",
       "      <td>20210501</td>\n",
       "      <td>1</td>\n",
       "    </tr>\n",
       "    <tr>\n",
       "      <th>2</th>\n",
       "      <td>1021812</td>\n",
       "      <td>20210501</td>\n",
       "      <td>0</td>\n",
       "    </tr>\n",
       "    <tr>\n",
       "      <th>3</th>\n",
       "      <td>1024003</td>\n",
       "      <td>20210501</td>\n",
       "      <td>0</td>\n",
       "    </tr>\n",
       "    <tr>\n",
       "      <th>4</th>\n",
       "      <td>1025140</td>\n",
       "      <td>20210501</td>\n",
       "      <td>test</td>\n",
       "    </tr>\n",
       "  </tbody>\n",
       "</table>\n",
       "</div>"
      ],
      "text/plain": [
       "   CLIENT_ID  RETRO_DT TARGET\n",
       "0    1011725  20210501      0\n",
       "1    1018784  20210501      1\n",
       "2    1021812  20210501      0\n",
       "3    1024003  20210501      0\n",
       "4    1025140  20210501   test"
      ]
     },
     "execution_count": 154,
     "metadata": {},
     "output_type": "execute_result"
    }
   ],
   "source": [
    "target_traintest = pd.read_csv(\"../data/FINAL_TARGETS_DATES_TRAINTEST.tsv\", sep='\\t')"
   ]
  },
  {
   "cell_type": "code",
   "execution_count": 170,
   "id": "fb4e5fba-b197-47fc-ad5f-f8b23e510f9b",
   "metadata": {},
   "outputs": [],
   "source": [
    "model_a = CatBoostClassifier().load_model('catboosts/ctb_graph.ctb')\n",
    "model_c = CatBoostClassifier().load_model('catboosts/ctb_friends_features.ctb')\n",
    "model_d = CatBoostClassifier().load_model('catboosts/ctb_user_features.ctb')"
   ]
  },
  {
   "cell_type": "code",
   "execution_count": 171,
   "id": "85e526e6-ca09-40dc-84ec-952e909206e0",
   "metadata": {},
   "outputs": [],
   "source": [
    "# summed graph embeddings features\n",
    "graph_sequences = np.load(\"../data/graph_sequences.npy\")\n",
    "Xgs_train = graph_sequences[target_traintest['TARGET'] != 'test']\n",
    "Xgs_test = graph_sequences[target_traintest['TARGET'] == 'test']\n",
    "\n",
    "\n",
    "# friends features\n",
    "ff_target = pd.read_csv('../data/features_friends_target.csv')\n",
    "ff_test = ff_target[ff_target['TARGET'] == 'test']\n",
    "ff_train = ff_target[ff_target['TARGET'] != 'test']\n",
    "Xff_train, Xff_test = ff_train.drop([\"TARGET\"], axis=1), ff_test.drop([\"TARGET\"], axis=1)\n",
    "y_train = ff_train[\"TARGET\"].apply(int)\n",
    "\n",
    "\n",
    "# user features\n",
    "uf_target = pd.read_csv('../data/features_user_target.csv')\n",
    "uf_train = uf_target[uf_target['TARGET'] != 'test']\n",
    "uf_test = uf_target[uf_target['TARGET'] == 'test']\n",
    "Xuf_train, Xuf_test = uf_train.drop([\"TARGET\"], axis=1), uf_test.drop([\"TARGET\"], axis=1)\n",
    "\n",
    "Xff_train.fillna(0, inplace=True)\n",
    "Xff_test.fillna(0, inplace=True)\n",
    "Xuf_train.fillna(0, inplace=True)\n",
    "Xuf_test.fillna(0, inplace=True)\n",
    "\n",
    "mask = np.random.choice(Xff_train.shape[0], size=Xff_train.shape[0], replace=False)\n",
    "ratio = int(0.8 * len(mask))\n",
    "\n",
    "Xff_train, Xff_val = Xff_train.iloc[mask[:ratio]], Xff_train.iloc[mask[ratio:]]\n",
    "Xuf_train, Xuf_val = Xuf_train.iloc[mask[:ratio]], Xuf_train.iloc[mask[ratio:]]\n",
    "y_train, y_val = y_train.iloc[mask[:ratio]], y_train.iloc[mask[ratio:]]\n",
    "\n",
    "Xgs_train, Xgs_val = Xgs_train[mask[:ratio]], Xgs_train[mask[ratio:]]"
   ]
  },
  {
   "cell_type": "code",
   "execution_count": null,
   "id": "668f3ff0",
   "metadata": {},
   "outputs": [],
   "source": [
    "# weights for loss to comepnsate class disbalance\n",
    "class_1_count = len(target_traintest[target_traintest['TARGET'] == '1'])\n",
    "class_0_count = len(target_traintest[target_traintest['TARGET'] == '0'])\n",
    "class_0_count, class_1_count\n",
    "class_0_weight = class_1_count / (class_0_count + class_1_count)\n",
    "class_1_weight = class_0_count / (class_0_count + class_1_count)\n",
    "class_0_weight, class_1_weight"
   ]
  },
  {
   "cell_type": "code",
   "execution_count": 172,
   "id": "315f37e0-a82b-4a95-a47b-7ed60b7ca801",
   "metadata": {},
   "outputs": [
    {
     "data": {
      "text/plain": [
       "0.6951701596804765"
      ]
     },
     "execution_count": 172,
     "metadata": {},
     "output_type": "execute_result"
    }
   ],
   "source": [
    "preds_a = model_a.predict_proba(Xgs_train)[:, 1]\n",
    "preds_c = model_c.predict_proba(Xff_train)[:, 1]\n",
    "preds_d = model_d.predict_proba(Xuf_train)[:, 1]\n",
    "\n",
    "X_preds_train = np.stack([preds_a, preds_d, preds_c], axis=1)\n",
    "\n",
    "clf = LogisticRegression(random_state=42, class_weight={0: class_0_weight, 1: class_1_weight}).fit(X_preds_train, y_train)\n",
    "\n",
    "X_preds_val = np.stack([\n",
    "    model_a.predict_proba(Xgs_val)[:, 1],\n",
    "    model_c.predict_proba(Xff_val)[:, 1],\n",
    "    model_d.predict_proba(Xuf_val)[:, 1]\n",
    "], axis=1)\n",
    "\n",
    "probs = clf.predict_proba(X_preds_val)\n",
    "roc_auc_score(y_val, probs[:, 1])"
   ]
  },
  {
   "cell_type": "code",
   "execution_count": 173,
   "id": "5be10ccd-94bd-4583-a5dc-86dc26990dc8",
   "metadata": {},
   "outputs": [
    {
     "data": {
      "text/plain": [
       "array([[ 4.36128685, 24.0825212 , 11.38729949]])"
      ]
     },
     "execution_count": 173,
     "metadata": {},
     "output_type": "execute_result"
    }
   ],
   "source": [
    "clf.coef_ # выученные моделью коэффициэнты"
   ]
  },
  {
   "cell_type": "markdown",
   "id": "ce4a5615",
   "metadata": {},
   "source": [
    "# Предсказание тестовых данных и создание submit-а"
   ]
  },
  {
   "cell_type": "code",
   "execution_count": 176,
   "id": "e2c925e3-b091-44f0-adfd-4285a6907bb2",
   "metadata": {},
   "outputs": [],
   "source": [
    "# lets try submit\n",
    "preds_a = model_a.predict_proba(Xgs_test)[:, 1]\n",
    "preds_c = model_c.predict_proba(Xff_test)[:, 1]\n",
    "preds_d = model_d.predict_proba(Xuf_test)[:, 1]\n",
    "\n",
    "preds = np.stack([preds_a, preds_c, preds_d], axis=1)\n",
    "X_submit = preds\n",
    "submit_probas = clf.predict_proba(X_submit)[:, 1]"
   ]
  },
  {
   "cell_type": "code",
   "execution_count": 177,
   "id": "2461fb04-0b93-447c-9b7e-25e443dcfc2b",
   "metadata": {},
   "outputs": [],
   "source": [
    "result = target_traintest[target_traintest[\"TARGET\"] == 'test'].reset_index(drop=True)\n",
    "result[\"TARGET\"] = submit_probas\n",
    "result.drop(\"RETRO_DT\", inplace=True, axis=1)\n",
    "result.to_csv(\"gb3_submit.csv\", index=False)"
   ]
  },
  {
   "cell_type": "markdown",
   "id": "1d07a031-63e5-4313-92aa-3cf137bd2cdd",
   "metadata": {},
   "source": [
    "# Предсказывание на дообученных по всей выборке моделях\n",
    "Для получения лучшего качества скора в хакатоне градиентные бустинги дообучаются на всех доступных метках"
   ]
  },
  {
   "cell_type": "code",
   "execution_count": null,
   "id": "d8f3a519-5ed0-42df-bc7f-5694b544efe0",
   "metadata": {},
   "outputs": [],
   "source": [
    "model_a_full = CatBoostClassifier().load_model('catboosts/ctb_graph_full.ctb')\n",
    "model_b_full = CatBoostClassifier().load_model('catboosts/ctb_friend_features_full.ctb')"
   ]
  },
  {
   "cell_type": "code",
   "execution_count": null,
   "id": "e1e5da69-6f6a-43a6-ab3d-a3a9925f7c26",
   "metadata": {},
   "outputs": [],
   "source": [
    "# get learned proba features\n",
    "preds_a = model_a_full.predict_proba(Xgs_test)[:, 1]\n",
    "preds_c = model_c.predict_proba(Xff_test)[:, 1]\n",
    "preds_d = model_d.predict_proba(Xuf_test)[:, 1]\n",
    "\n",
    "preds = np.stack([preds_a, preds_c, preds_d], axis=1)\n",
    "X_submit = preds\n",
    "submit_probas = clf.predict_proba(X_submit)[:, 1]"
   ]
  },
  {
   "cell_type": "code",
   "execution_count": null,
   "id": "e8a7aa1d-b558-4718-a1fb-bfa0b74b3cd8",
   "metadata": {},
   "outputs": [],
   "source": [
    "result = target_traintest[target_traintest[\"TARGET\"] == 'test'].reset_index(drop=True)\n",
    "result[\"TARGET\"] = submit_probas\n",
    "result.drop(\"RETRO_DT\", inplace=True, axis=1)\n",
    "result.to_csv(\"submit.csv\", index=False)"
   ]
  }
 ],
 "metadata": {
  "kernelspec": {
   "display_name": "Python 3.10.4 ('mlgraph')",
   "language": "python",
   "name": "python3"
  },
  "language_info": {
   "codemirror_mode": {
    "name": "ipython",
    "version": 3
   },
   "file_extension": ".py",
   "mimetype": "text/x-python",
   "name": "python",
   "nbconvert_exporter": "python",
   "pygments_lexer": "ipython3",
   "version": "3.10.4"
  },
  "vscode": {
   "interpreter": {
    "hash": "e9d42bfb1d7fb50cbe7b057f6e41ea2e1c4ee5fda1b8721608b77b0027b9cfe4"
   }
  }
 },
 "nbformat": 4,
 "nbformat_minor": 5
}
