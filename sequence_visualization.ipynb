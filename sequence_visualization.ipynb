{
 "cells": [
  {
   "cell_type": "code",
   "execution_count": 1,
   "id": "0e4de981-f978-4953-a691-f71960829aea",
   "metadata": {},
   "outputs": [],
   "source": [
    "%matplotlib inline  \n",
    "import numpy as np\n",
    "import plotly.offline as py\n",
    "import plotly.graph_objs as go\n",
    "import pandas as pd\n",
    "import igraph as ig"
   ]
  },
  {
   "cell_type": "code",
   "execution_count": 2,
   "id": "fc9a4bc5-958d-4c20-abf7-0e50e2cb219c",
   "metadata": {},
   "outputs": [],
   "source": [
    "dataN = pd.read_csv(\"data/FINAL_ALL_SEQUENCES_TRAINTEST.tsv\", sep = '\\t')"
   ]
  },
  {
   "cell_type": "code",
   "execution_count": 33,
   "id": "f9a133e9-8de6-4443-8d5c-b74e88e5105b",
   "metadata": {},
   "outputs": [],
   "source": [
    "a = []\n",
    "for i in range(123707):\n",
    "    a.append(len(list(dataN.loc[i])[1]))\n",
    "y = a.index(max(a))"
   ]
  },
  {
   "cell_type": "code",
   "execution_count": null,
   "id": "8998c6c4-c167-4c65-b617-c310ee893f8d",
   "metadata": {},
   "outputs": [],
   "source": []
  },
  {
   "cell_type": "code",
   "execution_count": 69,
   "id": "7f7c2d6b-55b9-4a96-9ad2-4a459682745f",
   "metadata": {},
   "outputs": [],
   "source": [
    "string = list(dataN.loc[4])[1]\n",
    "clientId = str(list(dataN.loc[4])[0])\n",
    "string = eval(string)"
   ]
  },
  {
   "cell_type": "code",
   "execution_count": 70,
   "id": "55bcbdb3-bd88-4904-84ca-a524c4eff85f",
   "metadata": {},
   "outputs": [],
   "source": [
    "nodes = []\n",
    "nodes = np.unique(string)\n",
    "N = len(nodes)"
   ]
  },
  {
   "cell_type": "code",
   "execution_count": 71,
   "id": "fc30c4f9-8900-48c7-a2ef-467ef3a34dd2",
   "metadata": {},
   "outputs": [],
   "source": [
    "links = []\n",
    "for i in range(len(string)-1):\n",
    "    t = {}\n",
    "    t[\"source\"] = list(nodes).index(list(string)[i])\n",
    "    t[\"target\"] = list(nodes).index(list(string)[i+1])\n",
    "    links.append(t)"
   ]
  },
  {
   "cell_type": "code",
   "execution_count": 72,
   "id": "92de4a30-884c-42cd-a28c-b52732b8ba99",
   "metadata": {},
   "outputs": [
    {
     "name": "stdout",
     "output_type": "stream",
     "text": [
      "43 28\n"
     ]
    }
   ],
   "source": [
    "L=len(links)\n",
    "print(L, N)\n",
    "Edges = [(links[k]['source'], links[k]['target']) for k in range(L)]"
   ]
  },
  {
   "cell_type": "code",
   "execution_count": 73,
   "id": "1d0fec53-255a-4d50-859d-76d20313202d",
   "metadata": {},
   "outputs": [
    {
     "name": "stdout",
     "output_type": "stream",
     "text": [
      "IGRAPH U--- 28 43 --\n",
      "+ edges:\n",
      "19--27 11--27 5--11 3--5 3--11 11--23 11--23 11--21 21--24 3--24 3--14 14--25\n",
      "1--25 1--6 6--9 9--13 13--24 13--24 1--13 1--25 11--25 0--11 0--4 2--4 2--16\n",
      "0--16 0--15 15--18 7--18 7--12 12--18 7--18 0--7 0--10 9--10 8--9 0--8 0--26\n",
      "17--26 17--22 0--22 0--3 3--20\n"
     ]
    }
   ],
   "source": [
    "G=ig.Graph(Edges, directed=False)\n",
    "print(G)"
   ]
  },
  {
   "cell_type": "code",
   "execution_count": 74,
   "id": "4f884219-71e2-4021-a771-be57dec7eb3f",
   "metadata": {},
   "outputs": [],
   "source": [
    "layt = G.layout('kk', dim=3)"
   ]
  },
  {
   "cell_type": "code",
   "execution_count": 75,
   "id": "0ad7f1e9-efd9-44fd-bf2b-d6dae80a03c4",
   "metadata": {},
   "outputs": [],
   "source": [
    "Xn=[layt[k][0] for k in range(N)]# x-coordinates of nodes\n",
    "Yn=[layt[k][1] for k in range(N)]# y-coordinates\n",
    "Zn=[layt[k][2] for k in range(N)]# z-coordinates\n",
    "Xe=[]\n",
    "Ye=[]\n",
    "Ze=[]\n",
    "for e in Edges:\n",
    "    Xe+=[layt[e[0]][0],layt[e[1]][0], None]# x-coordinates of edge ends\n",
    "    Ye+=[layt[e[0]][1],layt[e[1]][1], None]\n",
    "    Ze+=[layt[e[0]][2],layt[e[1]][2], None]"
   ]
  },
  {
   "cell_type": "code",
   "execution_count": 76,
   "id": "9815d100-b00e-4f21-8f0e-b3d2ef79654a",
   "metadata": {},
   "outputs": [],
   "source": [
    "\n",
    "trace1=go.Scatter3d(x=Xe,\n",
    "               y=Ye,\n",
    "               z=Ze,\n",
    "               mode='lines',\n",
    "               line=dict(color='rgb(125,125,125)', width=1),\n",
    "               hoverinfo='none'\n",
    "               )\n",
    "\n",
    "trace2=go.Scatter3d(x=Xn,\n",
    "               y=Yn,\n",
    "               z=Zn,\n",
    "               mode='markers',\n",
    "               name='actors',\n",
    "               marker=dict(symbol='circle',\n",
    "                             size=6,\n",
    "                             color=\"red\",\n",
    "                             colorscale='Viridis',\n",
    "                             line=dict(color='rgb(50,50,50)', width=0.5)\n",
    "                             ),\n",
    "               text=nodes,\n",
    "               hoverinfo='text'\n",
    "               )\n",
    "\n",
    "axis=dict(showbackground=False,\n",
    "          showline=False,\n",
    "          zeroline=False,\n",
    "          showgrid=False,\n",
    "          showticklabels=False,\n",
    "          title=''\n",
    "          )\n",
    "\n",
    "layout = go.Layout(\n",
    "         title=\"Client_ID sequences: \" + clientId,\n",
    "         width=1000,\n",
    "         height=1000,\n",
    "         showlegend=False,\n",
    "         scene=dict(\n",
    "             xaxis=dict(axis),\n",
    "             yaxis=dict(axis),\n",
    "             zaxis=dict(axis),\n",
    "        ),\n",
    "     margin=dict(\n",
    "        t=100\n",
    "    ),\n",
    "    hovermode='closest',\n",
    "    annotations=[\n",
    "           dict(\n",
    "           showarrow=False,\n",
    "            xref='paper',\n",
    "            yref='paper',\n",
    "            text = \"Datasourse: FINAL_ALL_SEQUENCES_TRAINTEST.tsv\",\n",
    "            x=0,\n",
    "            y=0.1,\n",
    "            xanchor='left',\n",
    "            yanchor='bottom',\n",
    "            font=dict(\n",
    "            size=14\n",
    "            )\n",
    "            )\n",
    "        ],    )"
   ]
  },
  {
   "cell_type": "code",
   "execution_count": 77,
   "id": "b59208c7-fe88-4cfa-8df9-a83e2ad84df9",
   "metadata": {},
   "outputs": [
    {
     "data": {
      "application/vnd.plotly.v1+json": {
       "config": {
        "linkText": "Export to plot.ly",
        "plotlyServerURL": "https://plot.ly",
        "showLink": false
       },
       "data": [
        {
         "hoverinfo": "none",
         "line": {
          "color": "rgb(125,125,125)",
          "width": 1
         },
         "mode": "lines",
         "type": "scatter3d",
         "x": [
          2.420238838083591,
          1.646472189315376,
          null,
          1.646472189315376,
          0.9398423177099271,
          null,
          0.9398423177099271,
          0.9553605909620574,
          null,
          0.9553605909620574,
          0.30644141619346155,
          null,
          0.30644141619346155,
          0.9398423177099271,
          null,
          0.9398423177099271,
          1.866472817553073,
          null,
          1.866472817553073,
          0.9398423177099271,
          null,
          0.9398423177099271,
          1.2824601986255395,
          null,
          1.2824601986255395,
          0.5861408970587118,
          null,
          0.5861408970587118,
          0.30644141619346155,
          null,
          0.30644141619346155,
          1.6626518841037174,
          null,
          1.6626518841037174,
          1.8572147022835208,
          null,
          1.8572147022835208,
          1.9132702498536274,
          null,
          1.9132702498536274,
          1.2172524804890943,
          null,
          1.2172524804890943,
          0.12224886671224518,
          null,
          0.12224886671224518,
          0.8885985326441843,
          null,
          0.8885985326441843,
          0.5861408970587118,
          null,
          0.5861408970587118,
          0.8885985326441843,
          null,
          0.8885985326441843,
          1.9132702498536274,
          null,
          1.9132702498536274,
          1.8572147022835208,
          null,
          1.8572147022835208,
          0.9398423177099271,
          null,
          0.9398423177099271,
          -0.36715075193530955,
          null,
          -0.36715075193530955,
          -1.499005783509329,
          null,
          -1.499005783509329,
          -2.0637291923761794,
          null,
          -2.0637291923761794,
          -0.9829814567390357,
          null,
          -0.9829814567390357,
          -0.36715075193530955,
          null,
          -0.36715075193530955,
          -1.0902682958748071,
          null,
          -1.0902682958748071,
          -2.1610900112800646,
          null,
          -2.1610900112800646,
          -1.522230032171733,
          null,
          -1.522230032171733,
          -2.583657329699967,
          null,
          -2.583657329699967,
          -2.1610900112800646,
          null,
          -2.1610900112800646,
          -1.522230032171733,
          null,
          -1.522230032171733,
          -0.36715075193530955,
          null,
          -0.36715075193530955,
          -0.5987718179537685,
          null,
          -0.5987718179537685,
          0.12224886671224518,
          null,
          0.12224886671224518,
          -0.07055158613299785,
          null,
          -0.07055158613299785,
          -0.36715075193530955,
          null,
          -0.36715075193530955,
          -0.401466497622188,
          null,
          -0.401466497622188,
          -0.2758134814136602,
          null,
          -0.2758134814136602,
          -0.04479079109539544,
          null,
          -0.04479079109539544,
          -0.36715075193530955,
          null,
          -0.36715075193530955,
          0.30644141619346155,
          null,
          0.30644141619346155,
          -0.10396816997957635,
          null
         ],
         "y": [
          -1.1946956888034828,
          -0.7927586039966833,
          null,
          -0.7927586039966833,
          -0.3590630244562396,
          null,
          -0.3590630244562396,
          -1.5615634448742728,
          null,
          -1.5615634448742728,
          -0.8896031746654225,
          null,
          -0.8896031746654225,
          -0.3590630244562396,
          null,
          -0.3590630244562396,
          0.34267263746116605,
          null,
          0.34267263746116605,
          -0.3590630244562396,
          null,
          -0.3590630244562396,
          -1.4010601310570632,
          null,
          -1.4010601310570632,
          -1.081684925299019,
          null,
          -1.081684925299019,
          -0.8896031746654225,
          null,
          -0.8896031746654225,
          -0.8912712098201493,
          null,
          -0.8912712098201493,
          0.14570895362595154,
          null,
          0.14570895362595154,
          0.4914079759878647,
          null,
          0.4914079759878647,
          1.4361354164527615,
          null,
          1.4361354164527615,
          0.9125383938126501,
          null,
          0.9125383938126501,
          -0.12619402014271833,
          null,
          -0.12619402014271833,
          -1.081684925299019,
          null,
          -1.081684925299019,
          -0.12619402014271833,
          null,
          -0.12619402014271833,
          0.4914079759878647,
          null,
          0.4914079759878647,
          0.14570895362595154,
          null,
          0.14570895362595154,
          -0.3590630244562396,
          null,
          -0.3590630244562396,
          0.14619608355898353,
          null,
          0.14619608355898353,
          0.7328867611196095,
          null,
          0.7328867611196095,
          1.827058131352806,
          null,
          1.827058131352806,
          1.2979401739997334,
          null,
          1.2979401739997334,
          0.14619608355898353,
          null,
          0.14619608355898353,
          -0.5559482201671414,
          null,
          -0.5559482201671414,
          -1.1401158753552665,
          null,
          -1.1401158753552665,
          -0.6484997208509246,
          null,
          -0.6484997208509246,
          -1.211198765215615,
          null,
          -1.211198765215615,
          -1.1401158753552665,
          null,
          -1.1401158753552665,
          -0.6484997208509246,
          null,
          -0.6484997208509246,
          0.14619608355898353,
          null,
          0.14619608355898353,
          0.4229869348197822,
          null,
          0.4229869348197822,
          0.9125383938126501,
          null,
          0.9125383938126501,
          1.044608559088634,
          null,
          1.044608559088634,
          0.14619608355898353,
          null,
          0.14619608355898353,
          0.5148518951621656,
          null,
          0.5148518951621656,
          1.4985349918568514,
          null,
          1.4985349918568514,
          1.138446583885561,
          null,
          1.138446583885561,
          0.14619608355898353,
          null,
          0.14619608355898353,
          -0.8896031746654225,
          null,
          -0.8896031746654225,
          -2.1862486910041588,
          null
         ],
         "z": [
          2.3419082160917646,
          1.5249561871762827,
          null,
          1.5249561871762827,
          0.45446631175194374,
          null,
          0.45446631175194374,
          0.6583471227696783,
          null,
          0.6583471227696783,
          -0.11079821296898519,
          null,
          -0.11079821296898519,
          0.45446631175194374,
          null,
          0.45446631175194374,
          1.0187911740214095,
          null,
          1.0187911740214095,
          0.45446631175194374,
          null,
          0.45446631175194374,
          -0.4573711355800311,
          null,
          -0.4573711355800311,
          -1.410514141532771,
          null,
          -1.410514141532771,
          -0.11079821296898519,
          null,
          -0.11079821296898519,
          -0.6304727117057181,
          null,
          -0.6304727117057181,
          -0.5107843254063491,
          null,
          -0.5107843254063491,
          -1.8189195652197485,
          null,
          -1.8189195652197485,
          -2.274316846410936,
          null,
          -2.274316846410936,
          -1.904052957825842,
          null,
          -1.904052957825842,
          -2.2898731822470766,
          null,
          -2.2898731822470766,
          -1.410514141532771,
          null,
          -1.410514141532771,
          -2.2898731822470766,
          null,
          -2.2898731822470766,
          -1.8189195652197485,
          null,
          -1.8189195652197485,
          -0.5107843254063491,
          null,
          -0.5107843254063491,
          0.45446631175194374,
          null,
          0.45446631175194374,
          0.3547038329382147,
          null,
          0.3547038329382147,
          0.10515796697621155,
          null,
          0.10515796697621155,
          0.2538624480324879,
          null,
          0.2538624480324879,
          0.44094576168111294,
          null,
          0.44094576168111294,
          0.3547038329382147,
          null,
          0.3547038329382147,
          1.191748450294858,
          null,
          1.191748450294858,
          1.3060553344096175,
          null,
          1.3060553344096175,
          0.38862630094670747,
          null,
          0.38862630094670747,
          0.3977065364945288,
          null,
          0.3977065364945288,
          1.3060553344096175,
          null,
          1.3060553344096175,
          0.38862630094670747,
          null,
          0.38862630094670747,
          0.3547038329382147,
          null,
          0.3547038329382147,
          -0.9669102005690606,
          null,
          -0.9669102005690606,
          -1.904052957825842,
          null,
          -1.904052957825842,
          -0.6173160956841452,
          null,
          -0.6173160956841452,
          0.3547038329382147,
          null,
          0.3547038329382147,
          1.6413169431658041,
          null,
          1.6413169431658041,
          2.384512692014947,
          null,
          2.384512692014947,
          1.2318724191227464,
          null,
          1.2318724191227464,
          0.3547038329382147,
          null,
          0.3547038329382147,
          -0.11079821296898519,
          null,
          -0.11079821296898519,
          -0.2746587300425161,
          null
         ]
        },
        {
         "hoverinfo": "text",
         "marker": {
          "color": "red",
          "colorscale": [
           [
            0,
            "#440154"
           ],
           [
            0.1111111111111111,
            "#482878"
           ],
           [
            0.2222222222222222,
            "#3e4989"
           ],
           [
            0.3333333333333333,
            "#31688e"
           ],
           [
            0.4444444444444444,
            "#26828e"
           ],
           [
            0.5555555555555556,
            "#1f9e89"
           ],
           [
            0.6666666666666666,
            "#35b779"
           ],
           [
            0.7777777777777778,
            "#6ece58"
           ],
           [
            0.8888888888888888,
            "#b5de2b"
           ],
           [
            1,
            "#fde725"
           ]
          ],
          "line": {
           "color": "rgb(50,50,50)",
           "width": 0.5
          },
          "size": 6,
          "symbol": "circle"
         },
         "mode": "markers",
         "name": "actors",
         "text": [
          "00708ed91a6904a6b2a53152c24f58f3",
          "03c929667f81ea227731193143637930",
          "09e9c17dd5ed59af4fac2bd014c28e41",
          "102ea67be78b0d7277d2a22719c6426d",
          "126562dc8703e8aa7df156fb6dcad546",
          "12cf546c700e955d023e335b6ca7b8b2",
          "1669b50f343dd2e888c2ef6e2a218b23",
          "3dfbbc680feefe09131f1e83ef908ec4",
          "4384176905e4f4591a8125da454b80f1",
          "4541985713e1b0d40e9f2af792a50b34",
          "4bd3981228debd5428b72ccaf9e16e4a",
          "5265ab43c658670dd554db886cd53307",
          "5623c50b51bfad7f99c425865e85886c",
          "5a449e1e2333f2f684848eb2b0c94a68",
          "69e9e614a4d89e7527f68c5c93231502",
          "80c1f1602b3784e7e6525a6e7b22fcb9",
          "828e617555709596bc3b9f248bbab38b",
          "8b588744bbc306360f774c6d068747fa",
          "9d3087e7e08df9267ad8676fd02b19f7",
          "b496d19eb25556bd64e481d11b6f7dd6",
          "b6486c2402c646e280af20bb4115c4bd",
          "c768530e7d8124941406f905bdcdcc5b",
          "cfaebc0021cc3729028be60c8dbf6ec8",
          "d694f3b60c35b806451e8d91cac8f579",
          "dd253659a9e69f90b62669f71daf8de2",
          "e841b1dc98f3b54f95c0f496cd2769fb",
          "effcefd26eb9accd8b96c21f4c378c20",
          "fc18cab3702816377a93da2726bc6a2d"
         ],
         "type": "scatter3d",
         "x": [
          -0.36715075193530955,
          1.9132702498536274,
          -2.0637291923761794,
          0.30644141619346155,
          -1.499005783509329,
          0.9553605909620574,
          1.2172524804890943,
          -1.522230032171733,
          -0.07055158613299785,
          0.12224886671224518,
          -0.5987718179537685,
          0.9398423177099271,
          -2.583657329699967,
          0.8885985326441843,
          1.6626518841037174,
          -1.0902682958748071,
          -0.9829814567390357,
          -0.2758134814136602,
          -2.1610900112800646,
          2.420238838083591,
          -0.10396816997957635,
          1.2824601986255395,
          -0.04479079109539544,
          1.866472817553073,
          0.5861408970587118,
          1.8572147022835208,
          -0.401466497622188,
          1.646472189315376
         ],
         "y": [
          0.14619608355898353,
          0.4914079759878647,
          1.827058131352806,
          -0.8896031746654225,
          0.7328867611196095,
          -1.5615634448742728,
          1.4361354164527615,
          -0.6484997208509246,
          1.044608559088634,
          0.9125383938126501,
          0.4229869348197822,
          -0.3590630244562396,
          -1.211198765215615,
          -0.12619402014271833,
          -0.8912712098201493,
          -0.5559482201671414,
          1.2979401739997334,
          1.4985349918568514,
          -1.1401158753552665,
          -1.1946956888034828,
          -2.1862486910041588,
          -1.4010601310570632,
          1.138446583885561,
          0.34267263746116605,
          -1.081684925299019,
          0.14570895362595154,
          0.5148518951621656,
          -0.7927586039966833
         ],
         "z": [
          0.3547038329382147,
          -1.8189195652197485,
          0.2538624480324879,
          -0.11079821296898519,
          0.10515796697621155,
          0.6583471227696783,
          -2.274316846410936,
          0.38862630094670747,
          -0.6173160956841452,
          -1.904052957825842,
          -0.9669102005690606,
          0.45446631175194374,
          0.3977065364945288,
          -2.2898731822470766,
          -0.6304727117057181,
          1.191748450294858,
          0.44094576168111294,
          2.384512692014947,
          1.3060553344096175,
          2.3419082160917646,
          -0.2746587300425161,
          -0.4573711355800311,
          1.2318724191227464,
          1.0187911740214095,
          -1.410514141532771,
          -0.5107843254063491,
          1.6413169431658041,
          1.5249561871762827
         ]
        }
       ],
       "layout": {
        "annotations": [
         {
          "font": {
           "size": 14
          },
          "showarrow": false,
          "text": "Datasourse: FINAL_ALL_SEQUENCES_TRAINTEST.tsv",
          "x": 0,
          "xanchor": "left",
          "xref": "paper",
          "y": 0.1,
          "yanchor": "bottom",
          "yref": "paper"
         }
        ],
        "height": 1000,
        "hovermode": "closest",
        "margin": {
         "t": 100
        },
        "scene": {
         "aspectmode": "auto",
         "aspectratio": {
          "x": 1.101023406072764,
          "y": 0.8830608387950982,
          "z": 1.0285201938668609
         },
         "camera": {
          "center": {
           "x": 0,
           "y": 0,
           "z": 0
          },
          "eye": {
           "x": -0.45061653452100575,
           "y": -1.579903176925777,
           "z": 1.3151092240145192
          },
          "projection": {
           "type": "perspective"
          },
          "up": {
           "x": 0,
           "y": 0,
           "z": 1
          }
         },
         "xaxis": {
          "showbackground": false,
          "showgrid": false,
          "showline": false,
          "showticklabels": false,
          "title": {
           "text": ""
          },
          "type": "linear",
          "zeroline": false
         },
         "yaxis": {
          "showbackground": false,
          "showgrid": false,
          "showline": false,
          "showticklabels": false,
          "title": {
           "text": ""
          },
          "type": "linear",
          "zeroline": false
         },
         "zaxis": {
          "showbackground": false,
          "showgrid": false,
          "showline": false,
          "showticklabels": false,
          "title": {
           "text": ""
          },
          "type": "linear",
          "zeroline": false
         }
        },
        "showlegend": false,
        "template": {
         "data": {
          "bar": [
           {
            "error_x": {
             "color": "#2a3f5f"
            },
            "error_y": {
             "color": "#2a3f5f"
            },
            "marker": {
             "line": {
              "color": "#E5ECF6",
              "width": 0.5
             },
             "pattern": {
              "fillmode": "overlay",
              "size": 10,
              "solidity": 0.2
             }
            },
            "type": "bar"
           }
          ],
          "barpolar": [
           {
            "marker": {
             "line": {
              "color": "#E5ECF6",
              "width": 0.5
             },
             "pattern": {
              "fillmode": "overlay",
              "size": 10,
              "solidity": 0.2
             }
            },
            "type": "barpolar"
           }
          ],
          "carpet": [
           {
            "aaxis": {
             "endlinecolor": "#2a3f5f",
             "gridcolor": "white",
             "linecolor": "white",
             "minorgridcolor": "white",
             "startlinecolor": "#2a3f5f"
            },
            "baxis": {
             "endlinecolor": "#2a3f5f",
             "gridcolor": "white",
             "linecolor": "white",
             "minorgridcolor": "white",
             "startlinecolor": "#2a3f5f"
            },
            "type": "carpet"
           }
          ],
          "choropleth": [
           {
            "colorbar": {
             "outlinewidth": 0,
             "ticks": ""
            },
            "type": "choropleth"
           }
          ],
          "contour": [
           {
            "colorbar": {
             "outlinewidth": 0,
             "ticks": ""
            },
            "colorscale": [
             [
              0,
              "#0d0887"
             ],
             [
              0.1111111111111111,
              "#46039f"
             ],
             [
              0.2222222222222222,
              "#7201a8"
             ],
             [
              0.3333333333333333,
              "#9c179e"
             ],
             [
              0.4444444444444444,
              "#bd3786"
             ],
             [
              0.5555555555555556,
              "#d8576b"
             ],
             [
              0.6666666666666666,
              "#ed7953"
             ],
             [
              0.7777777777777778,
              "#fb9f3a"
             ],
             [
              0.8888888888888888,
              "#fdca26"
             ],
             [
              1,
              "#f0f921"
             ]
            ],
            "type": "contour"
           }
          ],
          "contourcarpet": [
           {
            "colorbar": {
             "outlinewidth": 0,
             "ticks": ""
            },
            "type": "contourcarpet"
           }
          ],
          "heatmap": [
           {
            "colorbar": {
             "outlinewidth": 0,
             "ticks": ""
            },
            "colorscale": [
             [
              0,
              "#0d0887"
             ],
             [
              0.1111111111111111,
              "#46039f"
             ],
             [
              0.2222222222222222,
              "#7201a8"
             ],
             [
              0.3333333333333333,
              "#9c179e"
             ],
             [
              0.4444444444444444,
              "#bd3786"
             ],
             [
              0.5555555555555556,
              "#d8576b"
             ],
             [
              0.6666666666666666,
              "#ed7953"
             ],
             [
              0.7777777777777778,
              "#fb9f3a"
             ],
             [
              0.8888888888888888,
              "#fdca26"
             ],
             [
              1,
              "#f0f921"
             ]
            ],
            "type": "heatmap"
           }
          ],
          "heatmapgl": [
           {
            "colorbar": {
             "outlinewidth": 0,
             "ticks": ""
            },
            "colorscale": [
             [
              0,
              "#0d0887"
             ],
             [
              0.1111111111111111,
              "#46039f"
             ],
             [
              0.2222222222222222,
              "#7201a8"
             ],
             [
              0.3333333333333333,
              "#9c179e"
             ],
             [
              0.4444444444444444,
              "#bd3786"
             ],
             [
              0.5555555555555556,
              "#d8576b"
             ],
             [
              0.6666666666666666,
              "#ed7953"
             ],
             [
              0.7777777777777778,
              "#fb9f3a"
             ],
             [
              0.8888888888888888,
              "#fdca26"
             ],
             [
              1,
              "#f0f921"
             ]
            ],
            "type": "heatmapgl"
           }
          ],
          "histogram": [
           {
            "marker": {
             "pattern": {
              "fillmode": "overlay",
              "size": 10,
              "solidity": 0.2
             }
            },
            "type": "histogram"
           }
          ],
          "histogram2d": [
           {
            "colorbar": {
             "outlinewidth": 0,
             "ticks": ""
            },
            "colorscale": [
             [
              0,
              "#0d0887"
             ],
             [
              0.1111111111111111,
              "#46039f"
             ],
             [
              0.2222222222222222,
              "#7201a8"
             ],
             [
              0.3333333333333333,
              "#9c179e"
             ],
             [
              0.4444444444444444,
              "#bd3786"
             ],
             [
              0.5555555555555556,
              "#d8576b"
             ],
             [
              0.6666666666666666,
              "#ed7953"
             ],
             [
              0.7777777777777778,
              "#fb9f3a"
             ],
             [
              0.8888888888888888,
              "#fdca26"
             ],
             [
              1,
              "#f0f921"
             ]
            ],
            "type": "histogram2d"
           }
          ],
          "histogram2dcontour": [
           {
            "colorbar": {
             "outlinewidth": 0,
             "ticks": ""
            },
            "colorscale": [
             [
              0,
              "#0d0887"
             ],
             [
              0.1111111111111111,
              "#46039f"
             ],
             [
              0.2222222222222222,
              "#7201a8"
             ],
             [
              0.3333333333333333,
              "#9c179e"
             ],
             [
              0.4444444444444444,
              "#bd3786"
             ],
             [
              0.5555555555555556,
              "#d8576b"
             ],
             [
              0.6666666666666666,
              "#ed7953"
             ],
             [
              0.7777777777777778,
              "#fb9f3a"
             ],
             [
              0.8888888888888888,
              "#fdca26"
             ],
             [
              1,
              "#f0f921"
             ]
            ],
            "type": "histogram2dcontour"
           }
          ],
          "mesh3d": [
           {
            "colorbar": {
             "outlinewidth": 0,
             "ticks": ""
            },
            "type": "mesh3d"
           }
          ],
          "parcoords": [
           {
            "line": {
             "colorbar": {
              "outlinewidth": 0,
              "ticks": ""
             }
            },
            "type": "parcoords"
           }
          ],
          "pie": [
           {
            "automargin": true,
            "type": "pie"
           }
          ],
          "scatter": [
           {
            "fillpattern": {
             "fillmode": "overlay",
             "size": 10,
             "solidity": 0.2
            },
            "type": "scatter"
           }
          ],
          "scatter3d": [
           {
            "line": {
             "colorbar": {
              "outlinewidth": 0,
              "ticks": ""
             }
            },
            "marker": {
             "colorbar": {
              "outlinewidth": 0,
              "ticks": ""
             }
            },
            "type": "scatter3d"
           }
          ],
          "scattercarpet": [
           {
            "marker": {
             "colorbar": {
              "outlinewidth": 0,
              "ticks": ""
             }
            },
            "type": "scattercarpet"
           }
          ],
          "scattergeo": [
           {
            "marker": {
             "colorbar": {
              "outlinewidth": 0,
              "ticks": ""
             }
            },
            "type": "scattergeo"
           }
          ],
          "scattergl": [
           {
            "marker": {
             "colorbar": {
              "outlinewidth": 0,
              "ticks": ""
             }
            },
            "type": "scattergl"
           }
          ],
          "scattermapbox": [
           {
            "marker": {
             "colorbar": {
              "outlinewidth": 0,
              "ticks": ""
             }
            },
            "type": "scattermapbox"
           }
          ],
          "scatterpolar": [
           {
            "marker": {
             "colorbar": {
              "outlinewidth": 0,
              "ticks": ""
             }
            },
            "type": "scatterpolar"
           }
          ],
          "scatterpolargl": [
           {
            "marker": {
             "colorbar": {
              "outlinewidth": 0,
              "ticks": ""
             }
            },
            "type": "scatterpolargl"
           }
          ],
          "scatterternary": [
           {
            "marker": {
             "colorbar": {
              "outlinewidth": 0,
              "ticks": ""
             }
            },
            "type": "scatterternary"
           }
          ],
          "surface": [
           {
            "colorbar": {
             "outlinewidth": 0,
             "ticks": ""
            },
            "colorscale": [
             [
              0,
              "#0d0887"
             ],
             [
              0.1111111111111111,
              "#46039f"
             ],
             [
              0.2222222222222222,
              "#7201a8"
             ],
             [
              0.3333333333333333,
              "#9c179e"
             ],
             [
              0.4444444444444444,
              "#bd3786"
             ],
             [
              0.5555555555555556,
              "#d8576b"
             ],
             [
              0.6666666666666666,
              "#ed7953"
             ],
             [
              0.7777777777777778,
              "#fb9f3a"
             ],
             [
              0.8888888888888888,
              "#fdca26"
             ],
             [
              1,
              "#f0f921"
             ]
            ],
            "type": "surface"
           }
          ],
          "table": [
           {
            "cells": {
             "fill": {
              "color": "#EBF0F8"
             },
             "line": {
              "color": "white"
             }
            },
            "header": {
             "fill": {
              "color": "#C8D4E3"
             },
             "line": {
              "color": "white"
             }
            },
            "type": "table"
           }
          ]
         },
         "layout": {
          "annotationdefaults": {
           "arrowcolor": "#2a3f5f",
           "arrowhead": 0,
           "arrowwidth": 1
          },
          "autotypenumbers": "strict",
          "coloraxis": {
           "colorbar": {
            "outlinewidth": 0,
            "ticks": ""
           }
          },
          "colorscale": {
           "diverging": [
            [
             0,
             "#8e0152"
            ],
            [
             0.1,
             "#c51b7d"
            ],
            [
             0.2,
             "#de77ae"
            ],
            [
             0.3,
             "#f1b6da"
            ],
            [
             0.4,
             "#fde0ef"
            ],
            [
             0.5,
             "#f7f7f7"
            ],
            [
             0.6,
             "#e6f5d0"
            ],
            [
             0.7,
             "#b8e186"
            ],
            [
             0.8,
             "#7fbc41"
            ],
            [
             0.9,
             "#4d9221"
            ],
            [
             1,
             "#276419"
            ]
           ],
           "sequential": [
            [
             0,
             "#0d0887"
            ],
            [
             0.1111111111111111,
             "#46039f"
            ],
            [
             0.2222222222222222,
             "#7201a8"
            ],
            [
             0.3333333333333333,
             "#9c179e"
            ],
            [
             0.4444444444444444,
             "#bd3786"
            ],
            [
             0.5555555555555556,
             "#d8576b"
            ],
            [
             0.6666666666666666,
             "#ed7953"
            ],
            [
             0.7777777777777778,
             "#fb9f3a"
            ],
            [
             0.8888888888888888,
             "#fdca26"
            ],
            [
             1,
             "#f0f921"
            ]
           ],
           "sequentialminus": [
            [
             0,
             "#0d0887"
            ],
            [
             0.1111111111111111,
             "#46039f"
            ],
            [
             0.2222222222222222,
             "#7201a8"
            ],
            [
             0.3333333333333333,
             "#9c179e"
            ],
            [
             0.4444444444444444,
             "#bd3786"
            ],
            [
             0.5555555555555556,
             "#d8576b"
            ],
            [
             0.6666666666666666,
             "#ed7953"
            ],
            [
             0.7777777777777778,
             "#fb9f3a"
            ],
            [
             0.8888888888888888,
             "#fdca26"
            ],
            [
             1,
             "#f0f921"
            ]
           ]
          },
          "colorway": [
           "#636efa",
           "#EF553B",
           "#00cc96",
           "#ab63fa",
           "#FFA15A",
           "#19d3f3",
           "#FF6692",
           "#B6E880",
           "#FF97FF",
           "#FECB52"
          ],
          "font": {
           "color": "#2a3f5f"
          },
          "geo": {
           "bgcolor": "white",
           "lakecolor": "white",
           "landcolor": "#E5ECF6",
           "showlakes": true,
           "showland": true,
           "subunitcolor": "white"
          },
          "hoverlabel": {
           "align": "left"
          },
          "hovermode": "closest",
          "mapbox": {
           "style": "light"
          },
          "paper_bgcolor": "white",
          "plot_bgcolor": "#E5ECF6",
          "polar": {
           "angularaxis": {
            "gridcolor": "white",
            "linecolor": "white",
            "ticks": ""
           },
           "bgcolor": "#E5ECF6",
           "radialaxis": {
            "gridcolor": "white",
            "linecolor": "white",
            "ticks": ""
           }
          },
          "scene": {
           "xaxis": {
            "backgroundcolor": "#E5ECF6",
            "gridcolor": "white",
            "gridwidth": 2,
            "linecolor": "white",
            "showbackground": true,
            "ticks": "",
            "zerolinecolor": "white"
           },
           "yaxis": {
            "backgroundcolor": "#E5ECF6",
            "gridcolor": "white",
            "gridwidth": 2,
            "linecolor": "white",
            "showbackground": true,
            "ticks": "",
            "zerolinecolor": "white"
           },
           "zaxis": {
            "backgroundcolor": "#E5ECF6",
            "gridcolor": "white",
            "gridwidth": 2,
            "linecolor": "white",
            "showbackground": true,
            "ticks": "",
            "zerolinecolor": "white"
           }
          },
          "shapedefaults": {
           "line": {
            "color": "#2a3f5f"
           }
          },
          "ternary": {
           "aaxis": {
            "gridcolor": "white",
            "linecolor": "white",
            "ticks": ""
           },
           "baxis": {
            "gridcolor": "white",
            "linecolor": "white",
            "ticks": ""
           },
           "bgcolor": "#E5ECF6",
           "caxis": {
            "gridcolor": "white",
            "linecolor": "white",
            "ticks": ""
           }
          },
          "title": {
           "x": 0.05
          },
          "xaxis": {
           "automargin": true,
           "gridcolor": "white",
           "linecolor": "white",
           "ticks": "",
           "title": {
            "standoff": 15
           },
           "zerolinecolor": "white",
           "zerolinewidth": 2
          },
          "yaxis": {
           "automargin": true,
           "gridcolor": "white",
           "linecolor": "white",
           "ticks": "",
           "title": {
            "standoff": 15
           },
           "zerolinecolor": "white",
           "zerolinewidth": 2
          }
         }
        },
        "title": {
         "text": "Client_ID sequences: 100013"
        },
        "width": 1000
       }
      },
      "image/png": "[encoded data removed]",
      "text/html": [
       "<div>                            <div id=\"cf69c5e8-bee6-4163-b8db-64df41b3f84a\" class=\"plotly-graph-div\" style=\"height:1000px; width:1000px;\"></div>            <script type=\"text/javascript\">                require([\"plotly\"], function(Plotly) {                    window.PLOTLYENV=window.PLOTLYENV || {};                                    if (document.getElementById(\"cf69c5e8-bee6-4163-b8db-64df41b3f84a\")) {                    Plotly.newPlot(                        \"cf69c5e8-bee6-4163-b8db-64df41b3f84a\",                        [{\"hoverinfo\":\"none\",\"line\":{\"color\":\"rgb(125,125,125)\",\"width\":1},\"mode\":\"lines\",\"x\":[2.420238838083591,1.646472189315376,null,1.646472189315376,0.9398423177099271,null,0.9398423177099271,0.9553605909620574,null,0.9553605909620574,0.30644141619346155,null,0.30644141619346155,0.9398423177099271,null,0.9398423177099271,1.866472817553073,null,1.866472817553073,0.9398423177099271,null,0.9398423177099271,1.2824601986255395,null,1.2824601986255395,0.5861408970587118,null,0.5861408970587118,0.30644141619346155,null,0.30644141619346155,1.6626518841037174,null,1.6626518841037174,1.8572147022835208,null,1.8572147022835208,1.9132702498536274,null,1.9132702498536274,1.2172524804890943,null,1.2172524804890943,0.12224886671224518,null,0.12224886671224518,0.8885985326441843,null,0.8885985326441843,0.5861408970587118,null,0.5861408970587118,0.8885985326441843,null,0.8885985326441843,1.9132702498536274,null,1.9132702498536274,1.8572147022835208,null,1.8572147022835208,0.9398423177099271,null,0.9398423177099271,-0.36715075193530955,null,-0.36715075193530955,-1.499005783509329,null,-1.499005783509329,-2.0637291923761794,null,-2.0637291923761794,-0.9829814567390357,null,-0.9829814567390357,-0.36715075193530955,null,-0.36715075193530955,-1.0902682958748071,null,-1.0902682958748071,-2.1610900112800646,null,-2.1610900112800646,-1.522230032171733,null,-1.522230032171733,-2.583657329699967,null,-2.583657329699967,-2.1610900112800646,null,-2.1610900112800646,-1.522230032171733,null,-1.522230032171733,-0.36715075193530955,null,-0.36715075193530955,-0.5987718179537685,null,-0.5987718179537685,0.12224886671224518,null,0.12224886671224518,-0.07055158613299785,null,-0.07055158613299785,-0.36715075193530955,null,-0.36715075193530955,-0.401466497622188,null,-0.401466497622188,-0.2758134814136602,null,-0.2758134814136602,-0.04479079109539544,null,-0.04479079109539544,-0.36715075193530955,null,-0.36715075193530955,0.30644141619346155,null,0.30644141619346155,-0.10396816997957635,null],\"y\":[-1.1946956888034828,-0.7927586039966833,null,-0.7927586039966833,-0.3590630244562396,null,-0.3590630244562396,-1.5615634448742728,null,-1.5615634448742728,-0.8896031746654225,null,-0.8896031746654225,-0.3590630244562396,null,-0.3590630244562396,0.34267263746116605,null,0.34267263746116605,-0.3590630244562396,null,-0.3590630244562396,-1.4010601310570632,null,-1.4010601310570632,-1.081684925299019,null,-1.081684925299019,-0.8896031746654225,null,-0.8896031746654225,-0.8912712098201493,null,-0.8912712098201493,0.14570895362595154,null,0.14570895362595154,0.4914079759878647,null,0.4914079759878647,1.4361354164527615,null,1.4361354164527615,0.9125383938126501,null,0.9125383938126501,-0.12619402014271833,null,-0.12619402014271833,-1.081684925299019,null,-1.081684925299019,-0.12619402014271833,null,-0.12619402014271833,0.4914079759878647,null,0.4914079759878647,0.14570895362595154,null,0.14570895362595154,-0.3590630244562396,null,-0.3590630244562396,0.14619608355898353,null,0.14619608355898353,0.7328867611196095,null,0.7328867611196095,1.827058131352806,null,1.827058131352806,1.2979401739997334,null,1.2979401739997334,0.14619608355898353,null,0.14619608355898353,-0.5559482201671414,null,-0.5559482201671414,-1.1401158753552665,null,-1.1401158753552665,-0.6484997208509246,null,-0.6484997208509246,-1.211198765215615,null,-1.211198765215615,-1.1401158753552665,null,-1.1401158753552665,-0.6484997208509246,null,-0.6484997208509246,0.14619608355898353,null,0.14619608355898353,0.4229869348197822,null,0.4229869348197822,0.9125383938126501,null,0.9125383938126501,1.044608559088634,null,1.044608559088634,0.14619608355898353,null,0.14619608355898353,0.5148518951621656,null,0.5148518951621656,1.4985349918568514,null,1.4985349918568514,1.138446583885561,null,1.138446583885561,0.14619608355898353,null,0.14619608355898353,-0.8896031746654225,null,-0.8896031746654225,-2.1862486910041588,null],\"z\":[2.3419082160917646,1.5249561871762827,null,1.5249561871762827,0.45446631175194374,null,0.45446631175194374,0.6583471227696783,null,0.6583471227696783,-0.11079821296898519,null,-0.11079821296898519,0.45446631175194374,null,0.45446631175194374,1.0187911740214095,null,1.0187911740214095,0.45446631175194374,null,0.45446631175194374,-0.4573711355800311,null,-0.4573711355800311,-1.410514141532771,null,-1.410514141532771,-0.11079821296898519,null,-0.11079821296898519,-0.6304727117057181,null,-0.6304727117057181,-0.5107843254063491,null,-0.5107843254063491,-1.8189195652197485,null,-1.8189195652197485,-2.274316846410936,null,-2.274316846410936,-1.904052957825842,null,-1.904052957825842,-2.2898731822470766,null,-2.2898731822470766,-1.410514141532771,null,-1.410514141532771,-2.2898731822470766,null,-2.2898731822470766,-1.8189195652197485,null,-1.8189195652197485,-0.5107843254063491,null,-0.5107843254063491,0.45446631175194374,null,0.45446631175194374,0.3547038329382147,null,0.3547038329382147,0.10515796697621155,null,0.10515796697621155,0.2538624480324879,null,0.2538624480324879,0.44094576168111294,null,0.44094576168111294,0.3547038329382147,null,0.3547038329382147,1.191748450294858,null,1.191748450294858,1.3060553344096175,null,1.3060553344096175,0.38862630094670747,null,0.38862630094670747,0.3977065364945288,null,0.3977065364945288,1.3060553344096175,null,1.3060553344096175,0.38862630094670747,null,0.38862630094670747,0.3547038329382147,null,0.3547038329382147,-0.9669102005690606,null,-0.9669102005690606,-1.904052957825842,null,-1.904052957825842,-0.6173160956841452,null,-0.6173160956841452,0.3547038329382147,null,0.3547038329382147,1.6413169431658041,null,1.6413169431658041,2.384512692014947,null,2.384512692014947,1.2318724191227464,null,1.2318724191227464,0.3547038329382147,null,0.3547038329382147,-0.11079821296898519,null,-0.11079821296898519,-0.2746587300425161,null],\"type\":\"scatter3d\"},{\"hoverinfo\":\"text\",\"marker\":{\"color\":\"red\",\"colorscale\":[[0.0,\"#440154\"],[0.1111111111111111,\"#482878\"],[0.2222222222222222,\"#3e4989\"],[0.3333333333333333,\"#31688e\"],[0.4444444444444444,\"#26828e\"],[0.5555555555555556,\"#1f9e89\"],[0.6666666666666666,\"#35b779\"],[0.7777777777777778,\"#6ece58\"],[0.8888888888888888,\"#b5de2b\"],[1.0,\"#fde725\"]],\"line\":{\"color\":\"rgb(50,50,50)\",\"width\":0.5},\"size\":6,\"symbol\":\"circle\"},\"mode\":\"markers\",\"name\":\"actors\",\"text\":[\"00708ed91a6904a6b2a53152c24f58f3\",\"03c929667f81ea227731193143637930\",\"09e9c17dd5ed59af4fac2bd014c28e41\",\"102ea67be78b0d7277d2a22719c6426d\",\"126562dc8703e8aa7df156fb6dcad546\",\"12cf546c700e955d023e335b6ca7b8b2\",\"1669b50f343dd2e888c2ef6e2a218b23\",\"3dfbbc680feefe09131f1e83ef908ec4\",\"4384176905e4f4591a8125da454b80f1\",\"4541985713e1b0d40e9f2af792a50b34\",\"4bd3981228debd5428b72ccaf9e16e4a\",\"5265ab43c658670dd554db886cd53307\",\"5623c50b51bfad7f99c425865e85886c\",\"5a449e1e2333f2f684848eb2b0c94a68\",\"69e9e614a4d89e7527f68c5c93231502\",\"80c1f1602b3784e7e6525a6e7b22fcb9\",\"828e617555709596bc3b9f248bbab38b\",\"8b588744bbc306360f774c6d068747fa\",\"9d3087e7e08df9267ad8676fd02b19f7\",\"b496d19eb25556bd64e481d11b6f7dd6\",\"b6486c2402c646e280af20bb4115c4bd\",\"c768530e7d8124941406f905bdcdcc5b\",\"cfaebc0021cc3729028be60c8dbf6ec8\",\"d694f3b60c35b806451e8d91cac8f579\",\"dd253659a9e69f90b62669f71daf8de2\",\"e841b1dc98f3b54f95c0f496cd2769fb\",\"effcefd26eb9accd8b96c21f4c378c20\",\"fc18cab3702816377a93da2726bc6a2d\"],\"x\":[-0.36715075193530955,1.9132702498536274,-2.0637291923761794,0.30644141619346155,-1.499005783509329,0.9553605909620574,1.2172524804890943,-1.522230032171733,-0.07055158613299785,0.12224886671224518,-0.5987718179537685,0.9398423177099271,-2.583657329699967,0.8885985326441843,1.6626518841037174,-1.0902682958748071,-0.9829814567390357,-0.2758134814136602,-2.1610900112800646,2.420238838083591,-0.10396816997957635,1.2824601986255395,-0.04479079109539544,1.866472817553073,0.5861408970587118,1.8572147022835208,-0.401466497622188,1.646472189315376],\"y\":[0.14619608355898353,0.4914079759878647,1.827058131352806,-0.8896031746654225,0.7328867611196095,-1.5615634448742728,1.4361354164527615,-0.6484997208509246,1.044608559088634,0.9125383938126501,0.4229869348197822,-0.3590630244562396,-1.211198765215615,-0.12619402014271833,-0.8912712098201493,-0.5559482201671414,1.2979401739997334,1.4985349918568514,-1.1401158753552665,-1.1946956888034828,-2.1862486910041588,-1.4010601310570632,1.138446583885561,0.34267263746116605,-1.081684925299019,0.14570895362595154,0.5148518951621656,-0.7927586039966833],\"z\":[0.3547038329382147,-1.8189195652197485,0.2538624480324879,-0.11079821296898519,0.10515796697621155,0.6583471227696783,-2.274316846410936,0.38862630094670747,-0.6173160956841452,-1.904052957825842,-0.9669102005690606,0.45446631175194374,0.3977065364945288,-2.2898731822470766,-0.6304727117057181,1.191748450294858,0.44094576168111294,2.384512692014947,1.3060553344096175,2.3419082160917646,-0.2746587300425161,-0.4573711355800311,1.2318724191227464,1.0187911740214095,-1.410514141532771,-0.5107843254063491,1.6413169431658041,1.5249561871762827],\"type\":\"scatter3d\"}],                        {\"annotations\":[{\"font\":{\"size\":14},\"showarrow\":false,\"text\":\"Datasourse: FINAL_ALL_SEQUENCES_TRAINTEST.tsv\",\"x\":0,\"xanchor\":\"left\",\"xref\":\"paper\",\"y\":0.1,\"yanchor\":\"bottom\",\"yref\":\"paper\"}],\"height\":1000,\"hovermode\":\"closest\",\"margin\":{\"t\":100},\"scene\":{\"xaxis\":{\"showbackground\":false,\"showgrid\":false,\"showline\":false,\"showticklabels\":false,\"title\":{\"text\":\"\"},\"zeroline\":false},\"yaxis\":{\"showbackground\":false,\"showgrid\":false,\"showline\":false,\"showticklabels\":false,\"title\":{\"text\":\"\"},\"zeroline\":false},\"zaxis\":{\"showbackground\":false,\"showgrid\":false,\"showline\":false,\"showticklabels\":false,\"title\":{\"text\":\"\"},\"zeroline\":false}},\"showlegend\":false,\"template\":{\"data\":{\"barpolar\":[{\"marker\":{\"line\":{\"color\":\"#E5ECF6\",\"width\":0.5},\"pattern\":{\"fillmode\":\"overlay\",\"size\":10,\"solidity\":0.2}},\"type\":\"barpolar\"}],\"bar\":[{\"error_x\":{\"color\":\"#2a3f5f\"},\"error_y\":{\"color\":\"#2a3f5f\"},\"marker\":{\"line\":{\"color\":\"#E5ECF6\",\"width\":0.5},\"pattern\":{\"fillmode\":\"overlay\",\"size\":10,\"solidity\":0.2}},\"type\":\"bar\"}],\"carpet\":[{\"aaxis\":{\"endlinecolor\":\"#2a3f5f\",\"gridcolor\":\"white\",\"linecolor\":\"white\",\"minorgridcolor\":\"white\",\"startlinecolor\":\"#2a3f5f\"},\"baxis\":{\"endlinecolor\":\"#2a3f5f\",\"gridcolor\":\"white\",\"linecolor\":\"white\",\"minorgridcolor\":\"white\",\"startlinecolor\":\"#2a3f5f\"},\"type\":\"carpet\"}],\"choropleth\":[{\"colorbar\":{\"outlinewidth\":0,\"ticks\":\"\"},\"type\":\"choropleth\"}],\"contourcarpet\":[{\"colorbar\":{\"outlinewidth\":0,\"ticks\":\"\"},\"type\":\"contourcarpet\"}],\"contour\":[{\"colorbar\":{\"outlinewidth\":0,\"ticks\":\"\"},\"colorscale\":[[0.0,\"#0d0887\"],[0.1111111111111111,\"#46039f\"],[0.2222222222222222,\"#7201a8\"],[0.3333333333333333,\"#9c179e\"],[0.4444444444444444,\"#bd3786\"],[0.5555555555555556,\"#d8576b\"],[0.6666666666666666,\"#ed7953\"],[0.7777777777777778,\"#fb9f3a\"],[0.8888888888888888,\"#fdca26\"],[1.0,\"#f0f921\"]],\"type\":\"contour\"}],\"heatmapgl\":[{\"colorbar\":{\"outlinewidth\":0,\"ticks\":\"\"},\"colorscale\":[[0.0,\"#0d0887\"],[0.1111111111111111,\"#46039f\"],[0.2222222222222222,\"#7201a8\"],[0.3333333333333333,\"#9c179e\"],[0.4444444444444444,\"#bd3786\"],[0.5555555555555556,\"#d8576b\"],[0.6666666666666666,\"#ed7953\"],[0.7777777777777778,\"#fb9f3a\"],[0.8888888888888888,\"#fdca26\"],[1.0,\"#f0f921\"]],\"type\":\"heatmapgl\"}],\"heatmap\":[{\"colorbar\":{\"outlinewidth\":0,\"ticks\":\"\"},\"colorscale\":[[0.0,\"#0d0887\"],[0.1111111111111111,\"#46039f\"],[0.2222222222222222,\"#7201a8\"],[0.3333333333333333,\"#9c179e\"],[0.4444444444444444,\"#bd3786\"],[0.5555555555555556,\"#d8576b\"],[0.6666666666666666,\"#ed7953\"],[0.7777777777777778,\"#fb9f3a\"],[0.8888888888888888,\"#fdca26\"],[1.0,\"#f0f921\"]],\"type\":\"heatmap\"}],\"histogram2dcontour\":[{\"colorbar\":{\"outlinewidth\":0,\"ticks\":\"\"},\"colorscale\":[[0.0,\"#0d0887\"],[0.1111111111111111,\"#46039f\"],[0.2222222222222222,\"#7201a8\"],[0.3333333333333333,\"#9c179e\"],[0.4444444444444444,\"#bd3786\"],[0.5555555555555556,\"#d8576b\"],[0.6666666666666666,\"#ed7953\"],[0.7777777777777778,\"#fb9f3a\"],[0.8888888888888888,\"#fdca26\"],[1.0,\"#f0f921\"]],\"type\":\"histogram2dcontour\"}],\"histogram2d\":[{\"colorbar\":{\"outlinewidth\":0,\"ticks\":\"\"},\"colorscale\":[[0.0,\"#0d0887\"],[0.1111111111111111,\"#46039f\"],[0.2222222222222222,\"#7201a8\"],[0.3333333333333333,\"#9c179e\"],[0.4444444444444444,\"#bd3786\"],[0.5555555555555556,\"#d8576b\"],[0.6666666666666666,\"#ed7953\"],[0.7777777777777778,\"#fb9f3a\"],[0.8888888888888888,\"#fdca26\"],[1.0,\"#f0f921\"]],\"type\":\"histogram2d\"}],\"histogram\":[{\"marker\":{\"pattern\":{\"fillmode\":\"overlay\",\"size\":10,\"solidity\":0.2}},\"type\":\"histogram\"}],\"mesh3d\":[{\"colorbar\":{\"outlinewidth\":0,\"ticks\":\"\"},\"type\":\"mesh3d\"}],\"parcoords\":[{\"line\":{\"colorbar\":{\"outlinewidth\":0,\"ticks\":\"\"}},\"type\":\"parcoords\"}],\"pie\":[{\"automargin\":true,\"type\":\"pie\"}],\"scatter3d\":[{\"line\":{\"colorbar\":{\"outlinewidth\":0,\"ticks\":\"\"}},\"marker\":{\"colorbar\":{\"outlinewidth\":0,\"ticks\":\"\"}},\"type\":\"scatter3d\"}],\"scattercarpet\":[{\"marker\":{\"colorbar\":{\"outlinewidth\":0,\"ticks\":\"\"}},\"type\":\"scattercarpet\"}],\"scattergeo\":[{\"marker\":{\"colorbar\":{\"outlinewidth\":0,\"ticks\":\"\"}},\"type\":\"scattergeo\"}],\"scattergl\":[{\"marker\":{\"colorbar\":{\"outlinewidth\":0,\"ticks\":\"\"}},\"type\":\"scattergl\"}],\"scattermapbox\":[{\"marker\":{\"colorbar\":{\"outlinewidth\":0,\"ticks\":\"\"}},\"type\":\"scattermapbox\"}],\"scatterpolargl\":[{\"marker\":{\"colorbar\":{\"outlinewidth\":0,\"ticks\":\"\"}},\"type\":\"scatterpolargl\"}],\"scatterpolar\":[{\"marker\":{\"colorbar\":{\"outlinewidth\":0,\"ticks\":\"\"}},\"type\":\"scatterpolar\"}],\"scatter\":[{\"fillpattern\":{\"fillmode\":\"overlay\",\"size\":10,\"solidity\":0.2},\"type\":\"scatter\"}],\"scatterternary\":[{\"marker\":{\"colorbar\":{\"outlinewidth\":0,\"ticks\":\"\"}},\"type\":\"scatterternary\"}],\"surface\":[{\"colorbar\":{\"outlinewidth\":0,\"ticks\":\"\"},\"colorscale\":[[0.0,\"#0d0887\"],[0.1111111111111111,\"#46039f\"],[0.2222222222222222,\"#7201a8\"],[0.3333333333333333,\"#9c179e\"],[0.4444444444444444,\"#bd3786\"],[0.5555555555555556,\"#d8576b\"],[0.6666666666666666,\"#ed7953\"],[0.7777777777777778,\"#fb9f3a\"],[0.8888888888888888,\"#fdca26\"],[1.0,\"#f0f921\"]],\"type\":\"surface\"}],\"table\":[{\"cells\":{\"fill\":{\"color\":\"#EBF0F8\"},\"line\":{\"color\":\"white\"}},\"header\":{\"fill\":{\"color\":\"#C8D4E3\"},\"line\":{\"color\":\"white\"}},\"type\":\"table\"}]},\"layout\":{\"annotationdefaults\":{\"arrowcolor\":\"#2a3f5f\",\"arrowhead\":0,\"arrowwidth\":1},\"autotypenumbers\":\"strict\",\"coloraxis\":{\"colorbar\":{\"outlinewidth\":0,\"ticks\":\"\"}},\"colorscale\":{\"diverging\":[[0,\"#8e0152\"],[0.1,\"#c51b7d\"],[0.2,\"#de77ae\"],[0.3,\"#f1b6da\"],[0.4,\"#fde0ef\"],[0.5,\"#f7f7f7\"],[0.6,\"#e6f5d0\"],[0.7,\"#b8e186\"],[0.8,\"#7fbc41\"],[0.9,\"#4d9221\"],[1,\"#276419\"]],\"sequential\":[[0.0,\"#0d0887\"],[0.1111111111111111,\"#46039f\"],[0.2222222222222222,\"#7201a8\"],[0.3333333333333333,\"#9c179e\"],[0.4444444444444444,\"#bd3786\"],[0.5555555555555556,\"#d8576b\"],[0.6666666666666666,\"#ed7953\"],[0.7777777777777778,\"#fb9f3a\"],[0.8888888888888888,\"#fdca26\"],[1.0,\"#f0f921\"]],\"sequentialminus\":[[0.0,\"#0d0887\"],[0.1111111111111111,\"#46039f\"],[0.2222222222222222,\"#7201a8\"],[0.3333333333333333,\"#9c179e\"],[0.4444444444444444,\"#bd3786\"],[0.5555555555555556,\"#d8576b\"],[0.6666666666666666,\"#ed7953\"],[0.7777777777777778,\"#fb9f3a\"],[0.8888888888888888,\"#fdca26\"],[1.0,\"#f0f921\"]]},\"colorway\":[\"#636efa\",\"#EF553B\",\"#00cc96\",\"#ab63fa\",\"#FFA15A\",\"#19d3f3\",\"#FF6692\",\"#B6E880\",\"#FF97FF\",\"#FECB52\"],\"font\":{\"color\":\"#2a3f5f\"},\"geo\":{\"bgcolor\":\"white\",\"lakecolor\":\"white\",\"landcolor\":\"#E5ECF6\",\"showlakes\":true,\"showland\":true,\"subunitcolor\":\"white\"},\"hoverlabel\":{\"align\":\"left\"},\"hovermode\":\"closest\",\"mapbox\":{\"style\":\"light\"},\"paper_bgcolor\":\"white\",\"plot_bgcolor\":\"#E5ECF6\",\"polar\":{\"angularaxis\":{\"gridcolor\":\"white\",\"linecolor\":\"white\",\"ticks\":\"\"},\"bgcolor\":\"#E5ECF6\",\"radialaxis\":{\"gridcolor\":\"white\",\"linecolor\":\"white\",\"ticks\":\"\"}},\"scene\":{\"xaxis\":{\"backgroundcolor\":\"#E5ECF6\",\"gridcolor\":\"white\",\"gridwidth\":2,\"linecolor\":\"white\",\"showbackground\":true,\"ticks\":\"\",\"zerolinecolor\":\"white\"},\"yaxis\":{\"backgroundcolor\":\"#E5ECF6\",\"gridcolor\":\"white\",\"gridwidth\":2,\"linecolor\":\"white\",\"showbackground\":true,\"ticks\":\"\",\"zerolinecolor\":\"white\"},\"zaxis\":{\"backgroundcolor\":\"#E5ECF6\",\"gridcolor\":\"white\",\"gridwidth\":2,\"linecolor\":\"white\",\"showbackground\":true,\"ticks\":\"\",\"zerolinecolor\":\"white\"}},\"shapedefaults\":{\"line\":{\"color\":\"#2a3f5f\"}},\"ternary\":{\"aaxis\":{\"gridcolor\":\"white\",\"linecolor\":\"white\",\"ticks\":\"\"},\"baxis\":{\"gridcolor\":\"white\",\"linecolor\":\"white\",\"ticks\":\"\"},\"bgcolor\":\"#E5ECF6\",\"caxis\":{\"gridcolor\":\"white\",\"linecolor\":\"white\",\"ticks\":\"\"}},\"title\":{\"x\":0.05},\"xaxis\":{\"automargin\":true,\"gridcolor\":\"white\",\"linecolor\":\"white\",\"ticks\":\"\",\"title\":{\"standoff\":15},\"zerolinecolor\":\"white\",\"zerolinewidth\":2},\"yaxis\":{\"automargin\":true,\"gridcolor\":\"white\",\"linecolor\":\"white\",\"ticks\":\"\",\"title\":{\"standoff\":15},\"zerolinecolor\":\"white\",\"zerolinewidth\":2}}},\"title\":{\"text\":\"Client_ID sequences: 100013\"},\"width\":1000},                        {\"responsive\": true}                    ).then(function(){\n",
       "                            \n",
       "var gd = document.getElementById('cf69c5e8-bee6-4163-b8db-64df41b3f84a');\n",
       "var x = new MutationObserver(function (mutations, observer) {{\n",
       "        var display = window.getComputedStyle(gd).display;\n",
       "        if (!display || display === 'none') {{\n",
       "            console.log([gd, 'removed!']);\n",
       "            Plotly.purge(gd);\n",
       "            observer.disconnect();\n",
       "        }}\n",
       "}});\n",
       "\n",
       "// Listen for the removal of the full notebook cells\n",
       "var notebookContainer = gd.closest('#notebook-container');\n",
       "if (notebookContainer) {{\n",
       "    x.observe(notebookContainer, {childList: true});\n",
       "}}\n",
       "\n",
       "// Listen for the clearing of the current output cell\n",
       "var outputEl = gd.closest('.output');\n",
       "if (outputEl) {{\n",
       "    x.observe(outputEl, {childList: true});\n",
       "}}\n",
       "\n",
       "                        })                };                });            </script>        </div>"
      ]
     },
     "metadata": {},
     "output_type": "display_data"
    }
   ],
   "source": [
    "data=[trace1, trace2]\n",
    "fig=go.Figure(data=data, layout=layout)\n",
    "\n",
    "py.iplot(fig)"
   ]
  },
  {
   "cell_type": "code",
   "execution_count": null,
   "id": "cd14e00e-a361-4535-a670-0c6ab209ca9e",
   "metadata": {},
   "outputs": [],
   "source": []
  }
 ],
 "metadata": {
  "kernelspec": {
   "display_name": "Python 3.10.4 64-bit",
   "language": "python",
   "name": "python3"
  },
  "language_info": {
   "codemirror_mode": {
    "name": "ipython",
    "version": 3
   },
   "file_extension": ".py",
   "mimetype": "text/x-python",
   "name": "python",
   "nbconvert_exporter": "python",
   "pygments_lexer": "ipython3",
   "version": "3.10.4"
  },
  "vscode": {
   "interpreter": {
    "hash": "916dbcbb3f70747c44a77c7bcd40155683ae19c65e1c03b4aa3499c5328201f1"
   }
  }
 },
 "nbformat": 4,
 "nbformat_minor": 5
}
